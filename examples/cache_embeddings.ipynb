{
 "cells": [
  {
   "cell_type": "markdown",
   "metadata": {},
   "source": [
    "# Build vector database"
   ]
  },
  {
   "cell_type": "code",
   "execution_count": 1,
   "metadata": {},
   "outputs": [],
   "source": [
    "import os\n",
    "from langchain_community.document_loaders import UnstructuredMarkdownLoader\n",
    "from langchain_community.vectorstores import Qdrant\n",
    "from langchain_text_splitters import RecursiveCharacterTextSplitter\n",
    "from langchain_openai import OpenAIEmbeddings\n",
    "\n",
    "document_root_path = \"../docs\"\n",
    "documents = [\"CNS16190-zh_TW.md\", \"CNS16190-zh_TW_only_provision.md\"]\n",
    "document_idx = 0\n",
    "embedding_cache_path = \"../embedding_cache/\"\n",
    "db_collection_names = [\"CNS16190_md_op_emb_1000_200\", \"CNS16190_md_hf_emb_1000_200\"]\n",
    "db_collection_idx = 0\n",
    "\n",
    "if os.path.isdir(\n",
    "    os.path.join(\n",
    "        embedding_cache_path, \"collection\", db_collection_names[db_collection_idx]\n",
    "    )\n",
    "):\n",
    "    # database already exists, load it\n",
    "    vectorstore = Qdrant.from_existing_collection(\n",
    "        embedding=OpenAIEmbeddings(),\n",
    "        path=embedding_cache_path,\n",
    "        collection_name=db_collection_names[db_collection_idx],\n",
    "    )\n",
    "else:\n",
    "    # database does not exist, create it\n",
    "    loader = UnstructuredMarkdownLoader(\n",
    "        os.path.join(document_root_path, documents[document_idx]), mode=\"elements\"\n",
    "    )\n",
    "    doc = loader.load()\n",
    "\n",
    "    text_splitter = RecursiveCharacterTextSplitter(chunk_size=1000, chunk_overlap=200)\n",
    "    splits = text_splitter.split_documents(doc)\n",
    "\n",
    "    vectorstore = Qdrant.from_documents(\n",
    "        splits,\n",
    "        embedding=OpenAIEmbeddings(),\n",
    "        path=embedding_cache_path,\n",
    "        collection_name=db_collection_names[db_collection_idx],\n",
    "    )\n"
   ]
  },
  {
   "cell_type": "markdown",
   "metadata": {},
   "source": [
    "# Test search results of vector database "
   ]
  },
  {
   "cell_type": "code",
   "execution_count": 2,
   "metadata": {},
   "outputs": [
    {
     "name": "stdout",
     "output_type": "stream",
     "text": [
      "similarity\n",
      "\n",
      "page_content='控制措施4-1：對本標準中視為不適用或消費者IoT裝置未滿足之各項建議，應記錄衡量理由。' metadata={'source': '../docs\\\\CNS16190-zh_TW.md', 'category_depth': 1, 'last_modified': '2024-07-06T20:12:04', 'languages': ['kor'], 'parent_id': 'a48e6c6b789a8e5351cb8315efdf38ad', 'filetype': 'text/markdown', 'file_directory': '../docs', 'filename': 'CNS16190-zh_TW.md', 'category': 'Title', '_id': 'edf8c58121fa45dda6031125cb2bda3e', '_collection_name': 'CNS16190_md_op_emb_1000_200'}\n",
      "\n",
      "page_content='本標準提供適用於所有消費者IoT裝置之1組基準控制措施。其旨在藉由其他標準加以補充，該等標準係對特定裝置，定義更特定控制措施且完全可測試及/或可查證之要求事項，其將與本標準一起有助於保證方案的制定。' metadata={'source': '../docs\\\\CNS16190-zh_TW.md', 'category_depth': 0, 'last_modified': '2024-07-06T20:12:04', 'languages': ['kor'], 'filetype': 'text/markdown', 'file_directory': '../docs', 'filename': 'CNS16190-zh_TW.md', 'category': 'Title', '_id': '5d7412c75df6495a9ef744a3fc2331c9', '_collection_name': 'CNS16190_md_op_emb_1000_200'}\n",
      "\n",
      "page_content='本標準設定安全基準；然而，由於消費者IoT之廣闊前景，控制措施的適用性取決於各裝置。本標準透過使用非必備宜使用控制措施(建議)，提供一定程度之彈性。' metadata={'source': '../docs\\\\CNS16190-zh_TW.md', 'category_depth': 0, 'last_modified': '2024-07-06T20:12:04', 'languages': ['kor'], 'filetype': 'text/markdown', 'file_directory': '../docs', 'filename': 'CNS16190-zh_TW.md', 'category': 'Title', '_id': '97fa8f5097ae49198db4b2c080849615', '_collection_name': 'CNS16190_md_op_emb_1000_200'}\n",
      "\n",
      "page_content='隨著消費者IoT產品變得越來越安全，預期本標準中目前之建議控制措施，於本標準之未來修訂版將成為必備控制措施。' metadata={'source': '../docs\\\\CNS16190-zh_TW.md', 'category_depth': 0, 'last_modified': '2024-07-06T20:12:04', 'languages': ['kor'], 'filetype': 'text/markdown', 'file_directory': '../docs', 'filename': 'CNS16190-zh_TW.md', 'category': 'Title', '_id': '20dcee6dbe8c42fcb4ac256baeb7ebe0', '_collection_name': 'CNS16190_md_op_emb_1000_200'}\n",
      "\n",
      "page_content='消費者IoT裝置不適用或未執行控制措施之情況包括：' metadata={'source': '../docs\\\\CNS16190-zh_TW.md', 'category_depth': 0, 'last_modified': '2024-07-06T20:12:04', 'languages': ['kor'], 'filetype': 'text/markdown', 'file_directory': '../docs', 'filename': 'CNS16190-zh_TW.md', 'category': 'Title', '_id': '8708f967cd4c437aa7b2cfef78e0e748', '_collection_name': 'CNS16190_md_op_emb_1000_200'}\n",
      "\n",
      "\n",
      "\n",
      "similarity_score_threshold\n",
      "\n",
      "page_content='控制措施4-1：對本標準中視為不適用或消費者IoT裝置未滿足之各項建議，應記錄衡量理由。' metadata={'source': '../docs\\\\CNS16190-zh_TW.md', 'category_depth': 1, 'last_modified': '2024-07-06T20:12:04', 'languages': ['kor'], 'parent_id': 'a48e6c6b789a8e5351cb8315efdf38ad', 'filetype': 'text/markdown', 'file_directory': '../docs', 'filename': 'CNS16190-zh_TW.md', 'category': 'Title', '_id': 'edf8c58121fa45dda6031125cb2bda3e', '_collection_name': 'CNS16190_md_op_emb_1000_200'}\n",
      "\n",
      "page_content='本標準提供適用於所有消費者IoT裝置之1組基準控制措施。其旨在藉由其他標準加以補充，該等標準係對特定裝置，定義更特定控制措施且完全可測試及/或可查證之要求事項，其將與本標準一起有助於保證方案的制定。' metadata={'source': '../docs\\\\CNS16190-zh_TW.md', 'category_depth': 0, 'last_modified': '2024-07-06T20:12:04', 'languages': ['kor'], 'filetype': 'text/markdown', 'file_directory': '../docs', 'filename': 'CNS16190-zh_TW.md', 'category': 'Title', '_id': '5d7412c75df6495a9ef744a3fc2331c9', '_collection_name': 'CNS16190_md_op_emb_1000_200'}\n",
      "\n",
      "page_content='本標準設定安全基準；然而，由於消費者IoT之廣闊前景，控制措施的適用性取決於各裝置。本標準透過使用非必備宜使用控制措施(建議)，提供一定程度之彈性。' metadata={'source': '../docs\\\\CNS16190-zh_TW.md', 'category_depth': 0, 'last_modified': '2024-07-06T20:12:04', 'languages': ['kor'], 'filetype': 'text/markdown', 'file_directory': '../docs', 'filename': 'CNS16190-zh_TW.md', 'category': 'Title', '_id': '97fa8f5097ae49198db4b2c080849615', '_collection_name': 'CNS16190_md_op_emb_1000_200'}\n",
      "\n",
      "page_content='隨著消費者IoT產品變得越來越安全，預期本標準中目前之建議控制措施，於本標準之未來修訂版將成為必備控制措施。' metadata={'source': '../docs\\\\CNS16190-zh_TW.md', 'category_depth': 0, 'last_modified': '2024-07-06T20:12:04', 'languages': ['kor'], 'filetype': 'text/markdown', 'file_directory': '../docs', 'filename': 'CNS16190-zh_TW.md', 'category': 'Title', '_id': '20dcee6dbe8c42fcb4ac256baeb7ebe0', '_collection_name': 'CNS16190_md_op_emb_1000_200'}\n",
      "\n",
      "page_content='消費者IoT裝置不適用或未執行控制措施之情況包括：' metadata={'source': '../docs\\\\CNS16190-zh_TW.md', 'category_depth': 0, 'last_modified': '2024-07-06T20:12:04', 'languages': ['kor'], 'filetype': 'text/markdown', 'file_directory': '../docs', 'filename': 'CNS16190-zh_TW.md', 'category': 'Title', '_id': '8708f967cd4c437aa7b2cfef78e0e748', '_collection_name': 'CNS16190_md_op_emb_1000_200'}\n",
      "\n",
      "\n",
      "\n",
      "mmr\n",
      "\n",
      "page_content='控制措施4-1：對本標準中視為不適用或消費者IoT裝置未滿足之各項建議，應記錄衡量理由。' metadata={'source': '../docs\\\\CNS16190-zh_TW.md', 'category_depth': 1, 'last_modified': '2024-07-06T20:12:04', 'languages': ['kor'], 'parent_id': 'a48e6c6b789a8e5351cb8315efdf38ad', 'filetype': 'text/markdown', 'file_directory': '../docs', 'filename': 'CNS16190-zh_TW.md', 'category': 'Title', '_id': 'edf8c58121fa45dda6031125cb2bda3e', '_collection_name': 'CNS16190_md_op_emb_1000_200'}\n",
      "\n",
      "page_content='本標準主要係為協助保護消費者所制定，然而消費者IoT之其他使用者同樣受益於此處所列控制措施的實作。' metadata={'source': '../docs\\\\CNS16190-zh_TW.md', 'category_depth': 0, 'last_modified': '2024-07-06T20:12:04', 'languages': ['kor'], 'filetype': 'text/markdown', 'file_directory': '../docs', 'filename': 'CNS16190-zh_TW.md', 'category': 'Title', '_id': '549fc61b0380418283c696dbd4684a40', '_collection_name': 'CNS16190_md_op_emb_1000_200'}\n",
      "\n",
      "page_content='若某控制措施不適用，則細節欄中之資料項將包含此判定的理由。' metadata={'source': '../docs\\\\CNS16190-zh_TW.md', 'category_depth': 1, 'last_modified': '2024-07-06T20:12:04', 'languages': ['kor'], 'parent_id': 'b2298fd54a91282751dc35ea384a448f', 'filetype': 'text/markdown', 'file_directory': '../docs', 'filename': 'CNS16190-zh_TW.md', 'category': 'ListItem', '_id': 'e4a28576b623437abc7ad670cdf7ff37', '_collection_name': 'CNS16190_md_op_emb_1000_200'}\n",
      "\n",
      "page_content='消費者IoT裝置不適用或未執行控制措施之情況包括：' metadata={'source': '../docs\\\\CNS16190-zh_TW.md', 'category_depth': 0, 'last_modified': '2024-07-06T20:12:04', 'languages': ['kor'], 'filetype': 'text/markdown', 'file_directory': '../docs', 'filename': 'CNS16190-zh_TW.md', 'category': 'Title', '_id': '8708f967cd4c437aa7b2cfef78e0e748', '_collection_name': 'CNS16190_md_op_emb_1000_200'}\n",
      "\n",
      "page_content='控制措施5.12-1：消費者IoT裝置之安裝及維護宜由使用者做最少決定，且宜依循有關可用性的安全最佳實務作法。' metadata={'source': '../docs\\\\CNS16190-zh_TW.md', 'category_depth': 2, 'last_modified': '2024-07-06T20:12:04', 'languages': ['kor'], 'parent_id': '3af7c765848953919d3f437964483aa3', 'filetype': 'text/markdown', 'file_directory': '../docs', 'filename': 'CNS16190-zh_TW.md', 'category': 'Title', '_id': '35dcd053fcb54e78a37e303f7eae75f9', '_collection_name': 'CNS16190_md_op_emb_1000_200'}\n",
      "\n"
     ]
    }
   ],
   "source": [
    "question = \"「對本標準中視為不適用或消費者IoT裝置未滿足之各項建議，應記錄衡量理由」符合哪一項控制措施？\"\n",
    "\n",
    "print(\"similarity\\n\")\n",
    "relevant_docs = vectorstore.search(question, search_type=\"similarity\", k=5)\n",
    "\n",
    "for item in relevant_docs:\n",
    "    print(f\"{item}\\n\")\n",
    "\n",
    "print(\"\\n\\nsimilarity_score_threshold\\n\")\n",
    "relevant_docs = vectorstore.search(\n",
    "    question, search_type=\"similarity_score_threshold\", k=5, score_threshold=0.7\n",
    ")\n",
    "\n",
    "for item in relevant_docs:\n",
    "    print(f\"{item}\\n\")\n",
    "\n",
    "print(\"\\n\\nmmr\\n\")\n",
    "relevant_docs = vectorstore.search(question, search_type=\"mmr\", k=5)\n",
    "\n",
    "for item in relevant_docs:\n",
    "    print(f\"{item}\\n\")\n"
   ]
  }
 ],
 "metadata": {
  "kernelspec": {
   "display_name": ".venv",
   "language": "python",
   "name": "python3"
  },
  "language_info": {
   "codemirror_mode": {
    "name": "ipython",
    "version": 3
   },
   "file_extension": ".py",
   "mimetype": "text/x-python",
   "name": "python",
   "nbconvert_exporter": "python",
   "pygments_lexer": "ipython3",
   "version": "3.11.7"
  }
 },
 "nbformat": 4,
 "nbformat_minor": 2
}
