{
 "cells": [
  {
   "cell_type": "markdown",
   "metadata": {},
   "source": [
    "# Build HF LLM"
   ]
  },
  {
   "cell_type": "code",
   "execution_count": 1,
   "metadata": {},
   "outputs": [
    {
     "name": "stderr",
     "output_type": "stream",
     "text": [
      "Special tokens have been added in the vocabulary, make sure the associated word embeddings are fine-tuned or trained.\n",
      "Special tokens have been added in the vocabulary, make sure the associated word embeddings are fine-tuned or trained.\n"
     ]
    },
    {
     "data": {
      "application/vnd.jupyter.widget-view+json": {
       "model_id": "00e293e6ba40470880d4348a2ea70753",
       "version_major": 2,
       "version_minor": 0
      },
      "text/plain": [
       "Loading checkpoint shards:   0%|          | 0/4 [00:00<?, ?it/s]"
      ]
     },
     "metadata": {},
     "output_type": "display_data"
    }
   ],
   "source": [
    "import torch\n",
    "from langchain_huggingface import HuggingFacePipeline\n",
    "from transformers import (\n",
    "    AutoModelForCausalLM,\n",
    "    AutoTokenizer,\n",
    "    BitsAndBytesConfig,\n",
    "    TextStreamer,\n",
    "    pipeline,\n",
    ")\n",
    "\n",
    "model_name = \"MediaTek-Research/Breeze-7B-32k-Instruct-v1_0\"\n",
    "\n",
    "tokenizer = AutoTokenizer.from_pretrained(\n",
    "    model_name, cache_dir=\"../llm_model/\", trust_remote_code=True\n",
    ")\n",
    "streamer = TextStreamer(tokenizer=tokenizer, skip_prompt=True)\n",
    "\n",
    "model = AutoModelForCausalLM.from_pretrained(\n",
    "    model_name,\n",
    "    cache_dir=\"../llm_model/\",\n",
    "    device_map=\"auto\",\n",
    "    low_cpu_mem_usage=True,  # try to limit RAM\n",
    "    quantization_config=BitsAndBytesConfig(\n",
    "        load_in_4bit=True,\n",
    "        bnb_4bit_use_double_quant=True,\n",
    "        bnb_4bit_quant_type=\"nf4\",\n",
    "        bnb_4bit_compute_dtype=torch.bfloat16,\n",
    "    ),  # load model in low precision to save memory\n",
    "    # attn_implementation=\"flash_attention_2\",\n",
    ")\n",
    "\n",
    "pipe = pipeline(\n",
    "    model=model,\n",
    "    tokenizer=tokenizer,\n",
    "    task=\"text-generation\",\n",
    "    return_full_text=True,\n",
    "    max_new_tokens=2048,\n",
    "    streamer=streamer,\n",
    ")\n",
    "\n",
    "hfPipeline = HuggingFacePipeline(pipeline=pipe)"
   ]
  },
  {
   "cell_type": "markdown",
   "metadata": {},
   "source": [
    "# Build vector database"
   ]
  },
  {
   "cell_type": "code",
   "execution_count": 1,
   "metadata": {},
   "outputs": [
    {
     "name": "stdout",
     "output_type": "stream",
     "text": [
      "Loading existing database\n"
     ]
    }
   ],
   "source": [
    "import os\n",
    "\n",
    "from langchain_community.document_loaders import UnstructuredMarkdownLoader\n",
    "from langchain_community.vectorstores import Qdrant\n",
    "from langchain_openai import OpenAIEmbeddings\n",
    "from langchain_text_splitters import RecursiveCharacterTextSplitter\n",
    "\n",
    "embedding_cache_path = \"../embedding_cache/\"\n",
    "db_collection_names = [\"CNS16190_md\", \"CNS16190_md_only_provision\"]\n",
    "document_root_path = \"../docs\"\n",
    "documents = [\"CNS16190-zh_TW.md\", \"CNS16190-zh_TW_only_provision.md\"]\n",
    "\n",
    "collection = db_collection_names[0]\n",
    "if os.path.isdir(os.path.join(embedding_cache_path, \"collection\", collection)):\n",
    "    # database already exists, load it\n",
    "    print(\"Loading existing database\")\n",
    "    vectorstore = Qdrant.from_existing_collection(\n",
    "        embedding=OpenAIEmbeddings(),\n",
    "        path=embedding_cache_path,\n",
    "        collection_name=collection,\n",
    "    )\n",
    "else:\n",
    "    # database does not exist, create it\n",
    "    print(\"Creating new database\")\n",
    "    loader = UnstructuredMarkdownLoader(\n",
    "        os.path.join(document_root_path, documents[0]), mode=\"elements\"\n",
    "    )\n",
    "    doc = loader.load()\n",
    "\n",
    "    text_splitter = RecursiveCharacterTextSplitter(chunk_size=1000, chunk_overlap=200)\n",
    "    splits = text_splitter.split_documents(doc)\n",
    "\n",
    "    vectorstore = Qdrant.from_documents(\n",
    "        splits,\n",
    "        embedding=OpenAIEmbeddings(),\n",
    "        path=embedding_cache_path,\n",
    "        collection_name=collection,\n",
    "    )\n",
    "\n",
    "retriever = vectorstore.as_retriever()\n"
   ]
  },
  {
   "cell_type": "code",
   "execution_count": 6,
   "metadata": {},
   "outputs": [
    {
     "name": "stdout",
     "output_type": "stream",
     "text": [
      "similarity\n",
      "\n",
      "page_content='控制措施5.5-7：消費者IoT裝置經由可遠端接取之網路介面進行通訊，應保護關鍵安全參數的機密性。' metadata={'source': '../docs\\\\CNS16190-zh_TW.md', 'category_depth': 2, 'last_modified': '2024-07-06T20:12:04', 'languages': ['kor'], 'parent_id': 'cde268301962cbb7ceb3f1969cd17bee', 'filetype': 'text/markdown', 'file_directory': '../docs', 'filename': 'CNS16190-zh_TW.md', 'category': 'Title', '_id': '9a26a5d614004d09a45a5dbcc7fcf88b', '_collection_name': 'CNS16190_md'}\n",
      "\n",
      "page_content='控制措施5.5-7：消費者IoT裝置經由可遠端接取之網路介面進行通訊，應保護關鍵安全參數的機密性。' metadata={'source': '../docs\\\\CNS16190-zh_TW.md', 'category_depth': 2, 'last_modified': '2024-07-06T20:12:04', 'languages': ['kor'], 'parent_id': 'cde268301962cbb7ceb3f1969cd17bee', 'filetype': 'text/markdown', 'file_directory': '../docs', 'filename': 'CNS16190-zh_TW.md', 'category': 'Title', '_id': 'e2c073d36d174be0bd487f42e0f55bcf', '_collection_name': 'CNS16190_md'}\n",
      "\n",
      "page_content='控制措施5.5-7：消費者IoT裝置經由可遠端接取之網路介面進行通訊，應保護關鍵安全參數的機密性。' metadata={'source': '../docs\\\\CNS16190-zh_TW.md', 'category_depth': 2, 'last_modified': '2024-07-06T20:12:04', 'languages': ['kor'], 'parent_id': 'cde268301962cbb7ceb3f1969cd17bee', 'filetype': 'text/markdown', 'file_directory': '../docs', 'filename': 'CNS16190-zh_TW.md', 'category': 'Title', '_id': '77d5c9f014234eb1bf936ca4c48a9fe7', '_collection_name': 'CNS16190_md'}\n",
      "\n",
      "page_content='控制措施5.5-7：消費者IoT裝置經由可遠端接取之網路介面進行通訊，應保護關鍵安全參數的機密性。' metadata={'source': '../docs\\\\CNS16190-zh_TW.md', 'category_depth': 2, 'last_modified': '2024-07-06T20:12:04', 'languages': ['kor'], 'parent_id': 'cde268301962cbb7ceb3f1969cd17bee', 'filetype': 'text/markdown', 'file_directory': '../docs', 'filename': 'CNS16190-zh_TW.md', 'category': 'Title', '_id': '7add078a5a9c4284953b09de7a5ccb5e', '_collection_name': 'CNS16190_md'}\n",
      "\n",
      "page_content='控制措施5.5-6：傳輸中之關鍵安全參數宜以適切的技術、風險及使用性質之方式加密。' metadata={'source': '../docs\\\\CNS16190-zh_TW.md', 'category_depth': 2, 'last_modified': '2024-07-06T20:12:04', 'languages': ['kor'], 'parent_id': 'cde268301962cbb7ceb3f1969cd17bee', 'filetype': 'text/markdown', 'file_directory': '../docs', 'filename': 'CNS16190-zh_TW.md', 'category': 'Title', '_id': '468373352bd54b2fbea33d6c8ba15cce', '_collection_name': 'CNS16190_md'}\n",
      "\n",
      "page_content='控制措施5.5-6：傳輸中之關鍵安全參數宜以適切的技術、風險及使用性質之方式加密。' metadata={'source': '../docs\\\\CNS16190-zh_TW.md', 'category_depth': 2, 'last_modified': '2024-07-06T20:12:04', 'languages': ['kor'], 'parent_id': 'cde268301962cbb7ceb3f1969cd17bee', 'filetype': 'text/markdown', 'file_directory': '../docs', 'filename': 'CNS16190-zh_TW.md', 'category': 'Title', '_id': '59075e3b70464d6bb00391e970292959', '_collection_name': 'CNS16190_md'}\n",
      "\n",
      "page_content='控制措施5.5-6：傳輸中之關鍵安全參數宜以適切的技術、風險及使用性質之方式加密。' metadata={'source': '../docs\\\\CNS16190-zh_TW.md', 'category_depth': 2, 'last_modified': '2024-07-06T20:12:04', 'languages': ['kor'], 'parent_id': 'cde268301962cbb7ceb3f1969cd17bee', 'filetype': 'text/markdown', 'file_directory': '../docs', 'filename': 'CNS16190-zh_TW.md', 'category': 'Title', '_id': '54194ca2b32a46cea342bb4f5d3721c9', '_collection_name': 'CNS16190_md'}\n",
      "\n",
      "page_content='控制措施5.5-6：傳輸中之關鍵安全參數宜以適切的技術、風險及使用性質之方式加密。' metadata={'source': '../docs\\\\CNS16190-zh_TW.md', 'category_depth': 2, 'last_modified': '2024-07-06T20:12:04', 'languages': ['kor'], 'parent_id': 'cde268301962cbb7ceb3f1969cd17bee', 'filetype': 'text/markdown', 'file_directory': '../docs', 'filename': 'CNS16190-zh_TW.md', 'category': 'Title', '_id': '6601141cfd334f5190fc79e7c6bcd8be', '_collection_name': 'CNS16190_md'}\n",
      "\n",
      "page_content='控制措施5.5-1：消費者IoT裝置應使用最佳實務密碼學安全通訊。安全控制措施之適切性及最佳實務密碼學的使用，取決於許多因素，包括使用全景。隨著安全不斷演進，很難提供關於密碼學或其他安全措施之規定性建議，而無此種建議很快過時的風險。' metadata={'source': '../docs\\\\CNS16190-zh_TW.md', 'category_depth': 2, 'last_modified': '2024-07-06T20:12:04', 'languages': ['kor'], 'parent_id': 'f57764fd2839d37ffb57d7725eb097d5', 'filetype': 'text/markdown', 'file_directory': '../docs', 'filename': 'CNS16190-zh_TW.md', 'category': 'Title', '_id': '37a4daf76068445aa9dfd40af4daf012', '_collection_name': 'CNS16190_md'}\n",
      "\n",
      "page_content='控制措施5.5-1：消費者IoT裝置應使用最佳實務密碼學安全通訊。安全控制措施之適切性及最佳實務密碼學的使用，取決於許多因素，包括使用全景。隨著安全不斷演進，很難提供關於密碼學或其他安全措施之規定性建議，而無此種建議很快過時的風險。' metadata={'source': '../docs\\\\CNS16190-zh_TW.md', 'category_depth': 2, 'last_modified': '2024-07-06T20:12:04', 'languages': ['kor'], 'parent_id': 'f57764fd2839d37ffb57d7725eb097d5', 'filetype': 'text/markdown', 'file_directory': '../docs', 'filename': 'CNS16190-zh_TW.md', 'category': 'Title', '_id': '78b4ff46f7384fa58b50ce9f20ae438c', '_collection_name': 'CNS16190_md'}\n",
      "\n",
      "\n",
      "\n",
      "similarity_score_threshold\n",
      "\n",
      "page_content='控制措施5.5-7：消費者IoT裝置經由可遠端接取之網路介面進行通訊，應保護關鍵安全參數的機密性。' metadata={'source': '../docs\\\\CNS16190-zh_TW.md', 'category_depth': 2, 'last_modified': '2024-07-06T20:12:04', 'languages': ['kor'], 'parent_id': 'cde268301962cbb7ceb3f1969cd17bee', 'filetype': 'text/markdown', 'file_directory': '../docs', 'filename': 'CNS16190-zh_TW.md', 'category': 'Title', '_id': '9a26a5d614004d09a45a5dbcc7fcf88b', '_collection_name': 'CNS16190_md'}\n",
      "\n",
      "page_content='控制措施5.5-7：消費者IoT裝置經由可遠端接取之網路介面進行通訊，應保護關鍵安全參數的機密性。' metadata={'source': '../docs\\\\CNS16190-zh_TW.md', 'category_depth': 2, 'last_modified': '2024-07-06T20:12:04', 'languages': ['kor'], 'parent_id': 'cde268301962cbb7ceb3f1969cd17bee', 'filetype': 'text/markdown', 'file_directory': '../docs', 'filename': 'CNS16190-zh_TW.md', 'category': 'Title', '_id': 'e2c073d36d174be0bd487f42e0f55bcf', '_collection_name': 'CNS16190_md'}\n",
      "\n",
      "page_content='控制措施5.5-7：消費者IoT裝置經由可遠端接取之網路介面進行通訊，應保護關鍵安全參數的機密性。' metadata={'source': '../docs\\\\CNS16190-zh_TW.md', 'category_depth': 2, 'last_modified': '2024-07-06T20:12:04', 'languages': ['kor'], 'parent_id': 'cde268301962cbb7ceb3f1969cd17bee', 'filetype': 'text/markdown', 'file_directory': '../docs', 'filename': 'CNS16190-zh_TW.md', 'category': 'Title', '_id': '77d5c9f014234eb1bf936ca4c48a9fe7', '_collection_name': 'CNS16190_md'}\n",
      "\n",
      "page_content='控制措施5.5-7：消費者IoT裝置經由可遠端接取之網路介面進行通訊，應保護關鍵安全參數的機密性。' metadata={'source': '../docs\\\\CNS16190-zh_TW.md', 'category_depth': 2, 'last_modified': '2024-07-06T20:12:04', 'languages': ['kor'], 'parent_id': 'cde268301962cbb7ceb3f1969cd17bee', 'filetype': 'text/markdown', 'file_directory': '../docs', 'filename': 'CNS16190-zh_TW.md', 'category': 'Title', '_id': '7add078a5a9c4284953b09de7a5ccb5e', '_collection_name': 'CNS16190_md'}\n",
      "\n",
      "page_content='控制措施5.5-6：傳輸中之關鍵安全參數宜以適切的技術、風險及使用性質之方式加密。' metadata={'source': '../docs\\\\CNS16190-zh_TW.md', 'category_depth': 2, 'last_modified': '2024-07-06T20:12:04', 'languages': ['kor'], 'parent_id': 'cde268301962cbb7ceb3f1969cd17bee', 'filetype': 'text/markdown', 'file_directory': '../docs', 'filename': 'CNS16190-zh_TW.md', 'category': 'Title', '_id': '468373352bd54b2fbea33d6c8ba15cce', '_collection_name': 'CNS16190_md'}\n",
      "\n",
      "page_content='控制措施5.5-6：傳輸中之關鍵安全參數宜以適切的技術、風險及使用性質之方式加密。' metadata={'source': '../docs\\\\CNS16190-zh_TW.md', 'category_depth': 2, 'last_modified': '2024-07-06T20:12:04', 'languages': ['kor'], 'parent_id': 'cde268301962cbb7ceb3f1969cd17bee', 'filetype': 'text/markdown', 'file_directory': '../docs', 'filename': 'CNS16190-zh_TW.md', 'category': 'Title', '_id': '59075e3b70464d6bb00391e970292959', '_collection_name': 'CNS16190_md'}\n",
      "\n",
      "page_content='控制措施5.5-6：傳輸中之關鍵安全參數宜以適切的技術、風險及使用性質之方式加密。' metadata={'source': '../docs\\\\CNS16190-zh_TW.md', 'category_depth': 2, 'last_modified': '2024-07-06T20:12:04', 'languages': ['kor'], 'parent_id': 'cde268301962cbb7ceb3f1969cd17bee', 'filetype': 'text/markdown', 'file_directory': '../docs', 'filename': 'CNS16190-zh_TW.md', 'category': 'Title', '_id': '54194ca2b32a46cea342bb4f5d3721c9', '_collection_name': 'CNS16190_md'}\n",
      "\n",
      "page_content='控制措施5.5-6：傳輸中之關鍵安全參數宜以適切的技術、風險及使用性質之方式加密。' metadata={'source': '../docs\\\\CNS16190-zh_TW.md', 'category_depth': 2, 'last_modified': '2024-07-06T20:12:04', 'languages': ['kor'], 'parent_id': 'cde268301962cbb7ceb3f1969cd17bee', 'filetype': 'text/markdown', 'file_directory': '../docs', 'filename': 'CNS16190-zh_TW.md', 'category': 'Title', '_id': '6601141cfd334f5190fc79e7c6bcd8be', '_collection_name': 'CNS16190_md'}\n",
      "\n",
      "page_content='控制措施5.5-1：消費者IoT裝置應使用最佳實務密碼學安全通訊。安全控制措施之適切性及最佳實務密碼學的使用，取決於許多因素，包括使用全景。隨著安全不斷演進，很難提供關於密碼學或其他安全措施之規定性建議，而無此種建議很快過時的風險。' metadata={'source': '../docs\\\\CNS16190-zh_TW.md', 'category_depth': 2, 'last_modified': '2024-07-06T20:12:04', 'languages': ['kor'], 'parent_id': 'f57764fd2839d37ffb57d7725eb097d5', 'filetype': 'text/markdown', 'file_directory': '../docs', 'filename': 'CNS16190-zh_TW.md', 'category': 'Title', '_id': '37a4daf76068445aa9dfd40af4daf012', '_collection_name': 'CNS16190_md'}\n",
      "\n",
      "page_content='控制措施5.5-1：消費者IoT裝置應使用最佳實務密碼學安全通訊。安全控制措施之適切性及最佳實務密碼學的使用，取決於許多因素，包括使用全景。隨著安全不斷演進，很難提供關於密碼學或其他安全措施之規定性建議，而無此種建議很快過時的風險。' metadata={'source': '../docs\\\\CNS16190-zh_TW.md', 'category_depth': 2, 'last_modified': '2024-07-06T20:12:04', 'languages': ['kor'], 'parent_id': 'f57764fd2839d37ffb57d7725eb097d5', 'filetype': 'text/markdown', 'file_directory': '../docs', 'filename': 'CNS16190-zh_TW.md', 'category': 'Title', '_id': '78b4ff46f7384fa58b50ce9f20ae438c', '_collection_name': 'CNS16190_md'}\n",
      "\n",
      "\n",
      "\n",
      "mmr\n",
      "\n",
      "page_content='控制措施5.5-7：消費者IoT裝置經由可遠端接取之網路介面進行通訊，應保護關鍵安全參數的機密性。' metadata={'source': '../docs\\\\CNS16190-zh_TW.md', 'category_depth': 2, 'last_modified': '2024-07-06T20:12:04', 'languages': ['kor'], 'parent_id': 'cde268301962cbb7ceb3f1969cd17bee', 'filetype': 'text/markdown', 'file_directory': '../docs', 'filename': 'CNS16190-zh_TW.md', 'category': 'Title', '_id': '9a26a5d614004d09a45a5dbcc7fcf88b', '_collection_name': 'CNS16190_md'}\n",
      "\n",
      "page_content='控制措施5.4-4：用於軟體更新之完整性及真確性的核對，以及用於保護與裝置軟體中相關聯服務之通訊的任何關鍵安全參數，應為每裝置唯一，並應以降低對各類別裝置自動化攻擊的機制產生。' metadata={'source': '../docs\\\\CNS16190-zh_TW.md', 'category_depth': 2, 'last_modified': '2024-07-06T20:12:04', 'languages': ['kor'], 'parent_id': '42c25f774f55a941dc9f876acf792fd7', 'filetype': 'text/markdown', 'file_directory': '../docs', 'filename': 'CNS16190-zh_TW.md', 'category': 'Title', '_id': '6091da58106d414c9b69b2a1476460c7', '_collection_name': 'CNS16190_md'}\n",
      "\n",
      "page_content='控制措施5.5-6：傳輸中之關鍵安全參數宜以適切的技術、風險及使用性質之方式加密。' metadata={'source': '../docs\\\\CNS16190-zh_TW.md', 'category_depth': 2, 'last_modified': '2024-07-06T20:12:04', 'languages': ['kor'], 'parent_id': 'cde268301962cbb7ceb3f1969cd17bee', 'filetype': 'text/markdown', 'file_directory': '../docs', 'filename': 'CNS16190-zh_TW.md', 'category': 'Title', '_id': '6601141cfd334f5190fc79e7c6bcd8be', '_collection_name': 'CNS16190_md'}\n",
      "\n",
      "page_content='控制措施5.8-1：宜使用最佳實務密碼學保護於裝置與服務間傳輸之個人資料的機密性，特別是相關聯服務。' metadata={'source': '../docs\\\\CNS16190-zh_TW.md', 'category_depth': 2, 'last_modified': '2024-07-06T20:12:04', 'languages': ['kor'], 'parent_id': '930f8096f03d9f9ff48ec01ae4f01380', 'filetype': 'text/markdown', 'file_directory': '../docs', 'filename': 'CNS16190-zh_TW.md', 'category': 'Title', '_id': '20b8a0d91e7c4c99b718b7c54aed6613', '_collection_name': 'CNS16190_md'}\n",
      "\n",
      "page_content='控制措施5.5-1：消費者IoT裝置應使用最佳實務密碼學安全通訊。安全控制措施之適切性及最佳實務密碼學的使用，取決於許多因素，包括使用全景。隨著安全不斷演進，很難提供關於密碼學或其他安全措施之規定性建議，而無此種建議很快過時的風險。' metadata={'source': '../docs\\\\CNS16190-zh_TW.md', 'category_depth': 2, 'last_modified': '2024-07-06T20:12:04', 'languages': ['kor'], 'parent_id': 'f57764fd2839d37ffb57d7725eb097d5', 'filetype': 'text/markdown', 'file_directory': '../docs', 'filename': 'CNS16190-zh_TW.md', 'category': 'Title', '_id': '37a4daf76068445aa9dfd40af4daf012', '_collection_name': 'CNS16190_md'}\n",
      "\n",
      "page_content='控制措施5.8-2：應保護於裝置與相關聯服務間通訊之敏感性個人資料的機密性，並採用適合之技術性及用途的密碼學。' metadata={'source': '../docs\\\\CNS16190-zh_TW.md', 'category_depth': 2, 'last_modified': '2024-07-06T20:12:04', 'languages': ['kor'], 'parent_id': '930f8096f03d9f9ff48ec01ae4f01380', 'filetype': 'text/markdown', 'file_directory': '../docs', 'filename': 'CNS16190-zh_TW.md', 'category': 'Title', '_id': '07caf487ff5543468a0768732dbcc44e', '_collection_name': 'CNS16190_md'}\n",
      "\n",
      "page_content='控制措施5.5-7：消費者IoT裝置經由可遠端接取之網路介面進行通訊，應保護關鍵安全參數的機密性。' metadata={'source': '../docs\\\\CNS16190-zh_TW.md', 'category_depth': 2, 'last_modified': '2024-07-06T20:12:04', 'languages': ['kor'], 'parent_id': 'cde268301962cbb7ceb3f1969cd17bee', 'filetype': 'text/markdown', 'file_directory': '../docs', 'filename': 'CNS16190-zh_TW.md', 'category': 'Title', '_id': 'e2c073d36d174be0bd487f42e0f55bcf', '_collection_name': 'CNS16190_md'}\n",
      "\n",
      "page_content='控制措施5.5-7：消費者IoT裝置經由可遠端接取之網路介面進行通訊，應保護關鍵安全參數的機密性。' metadata={'source': '../docs\\\\CNS16190-zh_TW.md', 'category_depth': 2, 'last_modified': '2024-07-06T20:12:04', 'languages': ['kor'], 'parent_id': 'cde268301962cbb7ceb3f1969cd17bee', 'filetype': 'text/markdown', 'file_directory': '../docs', 'filename': 'CNS16190-zh_TW.md', 'category': 'Title', '_id': '77d5c9f014234eb1bf936ca4c48a9fe7', '_collection_name': 'CNS16190_md'}\n",
      "\n",
      "page_content='控制措施5.5-7：消費者IoT裝置經由可遠端接取之網路介面進行通訊，應保護關鍵安全參數的機密性。' metadata={'source': '../docs\\\\CNS16190-zh_TW.md', 'category_depth': 2, 'last_modified': '2024-07-06T20:12:04', 'languages': ['kor'], 'parent_id': 'cde268301962cbb7ceb3f1969cd17bee', 'filetype': 'text/markdown', 'file_directory': '../docs', 'filename': 'CNS16190-zh_TW.md', 'category': 'Title', '_id': '7add078a5a9c4284953b09de7a5ccb5e', '_collection_name': 'CNS16190_md'}\n",
      "\n",
      "page_content='控制措施5.5-6：傳輸中之關鍵安全參數宜以適切的技術、風險及使用性質之方式加密。' metadata={'source': '../docs\\\\CNS16190-zh_TW.md', 'category_depth': 2, 'last_modified': '2024-07-06T20:12:04', 'languages': ['kor'], 'parent_id': 'cde268301962cbb7ceb3f1969cd17bee', 'filetype': 'text/markdown', 'file_directory': '../docs', 'filename': 'CNS16190-zh_TW.md', 'category': 'Title', '_id': '468373352bd54b2fbea33d6c8ba15cce', '_collection_name': 'CNS16190_md'}\n",
      "\n"
     ]
    }
   ],
   "source": [
    "question = \"\"\"控制措施5.5-7，detail:消費者物聯網設備應保護透過遠端存取網路介面的關鍵安全參數的機密性。，answer:D-Link 網站的所有通訊，包含FW檔案的更新作業都是在全程TLS V1.2以上的安全加密方式進行，並採用最高等級的Cipher 符合FIPS 14--3 的安全強度模組進行，並且會隨時注意最先安全通報，檢查是否現行加密模組是否被發現漏洞，需要時即時更新。\n",
    "\n",
    "  針對控制措施、detail和answer反推出疑問question\"\"\"\n",
    "k = 10\n",
    "\n",
    "print('similarity\\n')\n",
    "relevant_docs = vectorstore.search(question, search_type='similarity',k=k)\n",
    "\n",
    "for item in relevant_docs:\n",
    "    print(f'{item}\\n')\n",
    "\n",
    "print('\\n\\nsimilarity_score_threshold\\n')\n",
    "relevant_docs = vectorstore.search(question, search_type='similarity_score_threshold',k=k, score_threshold=0.7)\n",
    "\n",
    "for item in relevant_docs:\n",
    "    print(f'{item}\\n')\n",
    "\n",
    "print('\\n\\nmmr\\n')\n",
    "relevant_docs = vectorstore.search(question, search_type='mmr',k=k)\n",
    "\n",
    "for item in relevant_docs:\n",
    "    print(f'{item}\\n')"
   ]
  },
  {
   "cell_type": "markdown",
   "metadata": {},
   "source": [
    "# Ask LLM"
   ]
  },
  {
   "cell_type": "markdown",
   "metadata": {},
   "source": [
    "## Provision search"
   ]
  },
  {
   "cell_type": "markdown",
   "metadata": {},
   "source": [
    "### Build rag chain"
   ]
  },
  {
   "cell_type": "code",
   "execution_count": 3,
   "metadata": {},
   "outputs": [
    {
     "data": {
      "text/plain": [
       "ChatPromptTemplate(input_variables=['context', 'question'], metadata={'lc_hub_owner': 'rlm', 'lc_hub_repo': 'rag-prompt', 'lc_hub_commit_hash': '50442af133e61576e74536c6556cefe1fac147cad032f4377b60c436e6cdcb6e'}, messages=[HumanMessagePromptTemplate(prompt=PromptTemplate(input_variables=['context', 'question'], template='你是一個資安專家，使用以下檢索到的背景資料回答問題，如果不知道答案就說不知道。\\n背景資料：{context} \\n問題：{question} \\n答案：'))])"
      ]
     },
     "execution_count": 3,
     "metadata": {},
     "output_type": "execute_result"
    }
   ],
   "source": [
    "from langchain import hub\n",
    "\n",
    "prompt = hub.pull(\"rlm/rag-prompt\")\n",
    "\n",
    "prompt.messages[\n",
    "    0\n",
    "].prompt.template = \"你是一個資安專家，使用以下檢索到的背景資料回答問題，如果不知道答案就說不知道。\\n背景資料：{context} \\n問題：{question} \\n答案：\"\n",
    "prompt\n"
   ]
  },
  {
   "cell_type": "code",
   "execution_count": 4,
   "metadata": {},
   "outputs": [],
   "source": [
    "from langchain_core.runnables import RunnablePassthrough\n",
    "\n",
    "ls_run_name = \"Provisino_Search_HF\"\n",
    "rag_chain = (\n",
    "    {\"context\": retriever, \"question\": RunnablePassthrough()} | prompt | hfPipeline\n",
    ").with_config({\"run_name\": ls_run_name})\n"
   ]
  },
  {
   "cell_type": "markdown",
   "metadata": {},
   "source": [
    "### Invoke LLM"
   ]
  },
  {
   "cell_type": "code",
   "execution_count": 5,
   "metadata": {},
   "outputs": [],
   "source": [
    "questions = [\n",
    "    \"「若使用預先安裝之每裝置唯一通行碼，則應以機制產生此等通行碼，以降低對某類別或型式裝置的自動化攻擊之風險」符合哪一項控制措施？\",  # 控制措施5.1-2\n",
    "    \"「對已揭露之脆弱性宜以及時方式採取行動」符合哪一項控制措施？\",  # 控制措施5.2-2\n",
    "    \"「於所定義支援期間內，對其銷售及生產持續監視及矯正安全脆弱性。」符合哪一項控制措施？\",  # 控制措施5.2-3（節錄）\n",
    "    \"「軟體以最小必要特殊權限運行」符合哪一項控制措施？\",  # 控制措施5.6-7（節錄）\n",
    "]\n"
   ]
  },
  {
   "cell_type": "code",
   "execution_count": 6,
   "metadata": {},
   "outputs": [
    {
     "name": "stderr",
     "output_type": "stream",
     "text": [
      "e:\\dev\\auray\\.venv\\Lib\\site-packages\\transformers\\models\\mistral\\modeling_mistral.py:674: UserWarning: 1Torch was not compiled with flash attention. (Triggered internally at ..\\aten\\src\\ATen\\native\\transformers\\cuda\\sdp_utils.cpp:455.)\n",
      "  attn_output = torch.nn.functional.scaled_dot_product_attention(\n"
     ]
    },
    {
     "name": "stdout",
     "output_type": "stream",
     "text": [
      "控制措施5.1-2</s>\n",
      "控制措施5.2-2</s>\n",
      "控制措施5.2-3</s>\n",
      "「軟體以最小必要特殊權限運行」符合控制措施5.6-7。</s>\n"
     ]
    },
    {
     "data": {
      "text/plain": [
       "[\"Human: 你是一個資安專家，使用以下檢索到的背景資料回答問題，如果不知道答案就說不知道。\\n背景資料：[Document(page_content='控制措施5.1-2：若使用預先安裝之每裝置唯一通行碼，則應以機制產生此等通行碼，以降低對某類別或型式裝置的自動化攻擊之風險。', metadata={'source': '../docs\\\\\\\\CNS16190-zh_TW.md', 'category_depth': 2, 'last_modified': '2024-07-06T20:12:04', 'languages': ['kor'], 'parent_id': 'c1f23ff02f626c5074a9536b3e202419', 'filetype': 'text/markdown', 'file_directory': '../docs', 'filename': 'CNS16190-zh_TW.md', 'category': 'Title', '_id': 'eb1f51a42ddd4df29f1182f55e562c8c', '_collection_name': 'CNS16190_md'}), Document(page_content='控制措施5.1-2：若使用預先安裝之每裝置唯一通行碼，則應以機制產生此等通行碼，以降低對某類別或型式裝置的自動化攻擊之風險。', metadata={'source': '../docs\\\\\\\\CNS16190-zh_TW.md', 'category_depth': 2, 'last_modified': '2024-07-06T20:12:04', 'languages': ['kor'], 'parent_id': 'c1f23ff02f626c5074a9536b3e202419', 'filetype': 'text/markdown', 'file_directory': '../docs', 'filename': 'CNS16190-zh_TW.md', 'category': 'Title', '_id': 'a427786637d449d980ae90f5209bfd90', '_collection_name': 'CNS16190_md'}), Document(page_content='控制措施5.1-2：若使用預先安裝之每裝置唯一通行碼，則應以機制產生此等通行碼，以降低對某類別或型式裝置的自動化攻擊之風險。', metadata={'source': '../docs\\\\\\\\CNS16190-zh_TW.md', 'category_depth': 2, 'last_modified': '2024-07-06T20:12:04', 'languages': ['kor'], 'parent_id': 'c1f23ff02f626c5074a9536b3e202419', 'filetype': 'text/markdown', 'file_directory': '../docs', 'filename': 'CNS16190-zh_TW.md', 'category': 'Title', '_id': 'c0229b8cb954455395ac2eb3ff438a46', '_collection_name': 'CNS16190_md'}), Document(page_content='控制措施5.1-2：若使用預先安裝之每裝置唯一通行碼，則應以機制產生此等通行碼，以降低對某類別或型式裝置的自動化攻擊之風險。', metadata={'source': '../docs\\\\\\\\CNS16190-zh_TW.md', 'category_depth': 2, 'last_modified': '2024-07-06T20:12:04', 'languages': ['kor'], 'parent_id': 'c1f23ff02f626c5074a9536b3e202419', 'filetype': 'text/markdown', 'file_directory': '../docs', 'filename': 'CNS16190-zh_TW.md', 'category': 'Title', '_id': '173c0264fcd84ab89f3aefbb20d77b8f', '_collection_name': 'CNS16190_md'})] \\n問題：「若使用預先安裝之每裝置唯一通行碼，則應以機制產生此等通行碼，以降低對某類別或型式裝置的自動化攻擊之風險」符合哪一項控制措施？ \\n答案：控制措施5.1-2\",\n",
       " \"Human: 你是一個資安專家，使用以下檢索到的背景資料回答問題，如果不知道答案就說不知道。\\n背景資料：[Document(page_content='控制措施5.2-2：對已揭露之脆弱性宜以及時方式採取行動。', metadata={'source': '../docs\\\\\\\\CNS16190-zh_TW.md', 'category_depth': 2, 'last_modified': '2024-07-06T20:12:04', 'languages': ['kor'], 'parent_id': 'ed686d717600b9854c671c8a079d773d', 'filetype': 'text/markdown', 'file_directory': '../docs', 'filename': 'CNS16190-zh_TW.md', 'category': 'Title', '_id': 'de1cead0a37344f796783c6fd423b2e9', '_collection_name': 'CNS16190_md'}), Document(page_content='控制措施5.2-2：對已揭露之脆弱性宜以及時方式採取行動。', metadata={'source': '../docs\\\\\\\\CNS16190-zh_TW.md', 'category_depth': 2, 'last_modified': '2024-07-06T20:12:04', 'languages': ['kor'], 'parent_id': 'ed686d717600b9854c671c8a079d773d', 'filetype': 'text/markdown', 'file_directory': '../docs', 'filename': 'CNS16190-zh_TW.md', 'category': 'Title', '_id': 'd8b6ad98b669411187e3747218cf80d1', '_collection_name': 'CNS16190_md'}), Document(page_content='控制措施5.2-2：對已揭露之脆弱性宜以及時方式採取行動。', metadata={'source': '../docs\\\\\\\\CNS16190-zh_TW.md', 'category_depth': 2, 'last_modified': '2024-07-06T20:12:04', 'languages': ['kor'], 'parent_id': 'ed686d717600b9854c671c8a079d773d', 'filetype': 'text/markdown', 'file_directory': '../docs', 'filename': 'CNS16190-zh_TW.md', 'category': 'Title', '_id': '89e627d05cf3402dafab9994364f3bbf', '_collection_name': 'CNS16190_md'}), Document(page_content='控制措施5.2-2：對已揭露之脆弱性宜以及時方式採取行動。', metadata={'source': '../docs\\\\\\\\CNS16190-zh_TW.md', 'category_depth': 2, 'last_modified': '2024-07-06T20:12:04', 'languages': ['kor'], 'parent_id': 'ed686d717600b9854c671c8a079d773d', 'filetype': 'text/markdown', 'file_directory': '../docs', 'filename': 'CNS16190-zh_TW.md', 'category': 'Title', '_id': '400c853e6ac24504a88fdc75aaff7caf', '_collection_name': 'CNS16190_md'})] \\n問題：「對已揭露之脆弱性宜以及時方式採取行動」符合哪一項控制措施？ \\n答案：控制措施5.2-2\",\n",
       " \"Human: 你是一個資安專家，使用以下檢索到的背景資料回答問題，如果不知道答案就說不知道。\\n背景資料：[Document(page_content='控制措施5.2-3：製造者宜於所定義支援期間內，對其銷售及生產，以及所生產之產品及運作的服務，持續監視、識別及矯正安全脆弱性。', metadata={'source': '../docs\\\\\\\\CNS16190-zh_TW.md', 'category_depth': 2, 'last_modified': '2024-07-06T20:12:04', 'languages': ['kor'], 'parent_id': 'd5365764ada7a35c75a0d0918088ba52', 'filetype': 'text/markdown', 'file_directory': '../docs', 'filename': 'CNS16190-zh_TW.md', 'category': 'Title', '_id': '2aaa1246fc2548bf9f62522f0d37990d', '_collection_name': 'CNS16190_md'}), Document(page_content='控制措施5.2-3：製造者宜於所定義支援期間內，對其銷售及生產，以及所生產之產品及運作的服務，持續監視、識別及矯正安全脆弱性。', metadata={'source': '../docs\\\\\\\\CNS16190-zh_TW.md', 'category_depth': 2, 'last_modified': '2024-07-06T20:12:04', 'languages': ['kor'], 'parent_id': 'd5365764ada7a35c75a0d0918088ba52', 'filetype': 'text/markdown', 'file_directory': '../docs', 'filename': 'CNS16190-zh_TW.md', 'category': 'Title', '_id': '6ff3baa18ac84b2faf94a231657e3ab2', '_collection_name': 'CNS16190_md'}), Document(page_content='控制措施5.2-3：製造者宜於所定義支援期間內，對其銷售及生產，以及所生產之產品及運作的服務，持續監視、識別及矯正安全脆弱性。', metadata={'source': '../docs\\\\\\\\CNS16190-zh_TW.md', 'category_depth': 2, 'last_modified': '2024-07-06T20:12:04', 'languages': ['kor'], 'parent_id': 'd5365764ada7a35c75a0d0918088ba52', 'filetype': 'text/markdown', 'file_directory': '../docs', 'filename': 'CNS16190-zh_TW.md', 'category': 'Title', '_id': '52ec88b1d34248e9894aba78bdf41bb5', '_collection_name': 'CNS16190_md'}), Document(page_content='控制措施5.2-3：製造者宜於所定義支援期間內，對其銷售及生產，以及所生產之產品及運作的服務，持續監視、識別及矯正安全脆弱性。', metadata={'source': '../docs\\\\\\\\CNS16190-zh_TW.md', 'category_depth': 2, 'last_modified': '2024-07-06T20:12:04', 'languages': ['kor'], 'parent_id': 'd5365764ada7a35c75a0d0918088ba52', 'filetype': 'text/markdown', 'file_directory': '../docs', 'filename': 'CNS16190-zh_TW.md', 'category': 'Title', '_id': 'd78efe4fb66c4e65a52f3ebe398515a2', '_collection_name': 'CNS16190_md'})] \\n問題：「於所定義支援期間內，對其銷售及生產持續監視及矯正安全脆弱性。」符合哪一項控制措施？ \\n答案：控制措施5.2-3\",\n",
       " \"Human: 你是一個資安專家，使用以下檢索到的背景資料回答問題，如果不知道答案就說不知道。\\n背景資料：[Document(page_content='控制措施5.6-7：軟體宜以最小必要特殊權限運行，同時考量安全及功能性。', metadata={'source': '../docs\\\\\\\\CNS16190-zh_TW.md', 'category_depth': 2, 'last_modified': '2024-07-06T20:12:04', 'languages': ['kor'], 'parent_id': '8590a899d1627964e520ac790ffc7ead', 'filetype': 'text/markdown', 'file_directory': '../docs', 'filename': 'CNS16190-zh_TW.md', 'category': 'Title', '_id': '0595c3a4b5fe4d2bb107b29abdad01cc', '_collection_name': 'CNS16190_md'}), Document(page_content='控制措施5.6-7：軟體宜以最小必要特殊權限運行，同時考量安全及功能性。', metadata={'source': '../docs\\\\\\\\CNS16190-zh_TW.md', 'category_depth': 2, 'last_modified': '2024-07-06T20:12:04', 'languages': ['kor'], 'parent_id': '8590a899d1627964e520ac790ffc7ead', 'filetype': 'text/markdown', 'file_directory': '../docs', 'filename': 'CNS16190-zh_TW.md', 'category': 'Title', '_id': 'af8d3fd50ad841b7a289c647ae5997a5', '_collection_name': 'CNS16190_md'}), Document(page_content='控制措施5.6-7：軟體宜以最小必要特殊權限運行，同時考量安全及功能性。', metadata={'source': '../docs\\\\\\\\CNS16190-zh_TW.md', 'category_depth': 2, 'last_modified': '2024-07-06T20:12:04', 'languages': ['kor'], 'parent_id': '8590a899d1627964e520ac790ffc7ead', 'filetype': 'text/markdown', 'file_directory': '../docs', 'filename': 'CNS16190-zh_TW.md', 'category': 'Title', '_id': '40ea57c4f0b64f28a0f12e981d2825a7', '_collection_name': 'CNS16190_md'}), Document(page_content='控制措施5.6-7：軟體宜以最小必要特殊權限運行，同時考量安全及功能性。', metadata={'source': '../docs\\\\\\\\CNS16190-zh_TW.md', 'category_depth': 2, 'last_modified': '2024-07-06T20:12:04', 'languages': ['kor'], 'parent_id': '8590a899d1627964e520ac790ffc7ead', 'filetype': 'text/markdown', 'file_directory': '../docs', 'filename': 'CNS16190-zh_TW.md', 'category': 'Title', '_id': 'be859000f3334dae96a01e227f3146ca', '_collection_name': 'CNS16190_md'})] \\n問題：「軟體以最小必要特殊權限運行」符合哪一項控制措施？ \\n答案：「軟體以最小必要特殊權限運行」符合控制措施5.6-7。\"]"
      ]
     },
     "execution_count": 6,
     "metadata": {},
     "output_type": "execute_result"
    }
   ],
   "source": [
    "rag_chain.batch(questions)"
   ]
  },
  {
   "cell_type": "markdown",
   "metadata": {},
   "source": [
    "## Test cenario generation"
   ]
  },
  {
   "cell_type": "markdown",
   "metadata": {},
   "source": [
    "### Build rag chain"
   ]
  },
  {
   "cell_type": "code",
   "execution_count": 7,
   "metadata": {},
   "outputs": [
    {
     "data": {
      "text/plain": [
       "ChatPromptTemplate(input_variables=['context', 'question'], metadata={'lc_hub_owner': 'rlm', 'lc_hub_repo': 'rag-prompt', 'lc_hub_commit_hash': '50442af133e61576e74536c6556cefe1fac147cad032f4377b60c436e6cdcb6e'}, messages=[HumanMessagePromptTemplate(prompt=PromptTemplate(input_variables=['context', 'question'], template='你是一個資安專家，使用以下檢索到的背景資料回答問題，如果不知道答案就說不知道。\\n背景資料：{context} \\n問題：{question} \\n答案：'))])"
      ]
     },
     "execution_count": 7,
     "metadata": {},
     "output_type": "execute_result"
    }
   ],
   "source": [
    "from langchain import hub\n",
    "\n",
    "prompt = hub.pull(\"rlm/rag-prompt\")\n",
    "\n",
    "prompt.messages[\n",
    "    0\n",
    "].prompt.template = \"你是一個資安專家，使用以下檢索到的背景資料回答問題，如果不知道答案就說不知道。\\n背景資料：{context} \\n問題：{question} \\n答案：\"\n",
    "prompt\n"
   ]
  },
  {
   "cell_type": "code",
   "execution_count": 8,
   "metadata": {},
   "outputs": [],
   "source": [
    "import pandas as pd\n",
    "\n",
    "\n",
    "# concat all docs as a string\n",
    "def format_docs(docs):\n",
    "    retrieval_docs = \"\\n\\n\".join(doc.page_content for doc in docs)\n",
    "    df = pd.read_csv(\"../docs/test_data_from_GoogleSheet.csv\")\n",
    "    test_data = \"\\n\\n測試資料範例：\\n\\n\"\n",
    "    for idx in range(3):\n",
    "        row = df.iloc[idx]\n",
    "        test_data += f\"控制措施{row['provision']}，detail:{row['detail']}，question:{row['Test cenario']}，answer:{row['answer']}\\n\\n\"\n",
    "\n",
    "    return retrieval_docs + test_data\n"
   ]
  },
  {
   "cell_type": "code",
   "execution_count": 9,
   "metadata": {},
   "outputs": [],
   "source": [
    "from langchain_core.runnables import RunnablePassthrough\n",
    "\n",
    "ls_run_name = \"Test_Cenario_Generation\"\n",
    "rag_chain = (\n",
    "    {\"context\": retriever | format_docs, \"question\": RunnablePassthrough()}\n",
    "    | prompt\n",
    "    | hfPipeline\n",
    ").with_config({\"run_name\": ls_run_name})\n"
   ]
  },
  {
   "cell_type": "markdown",
   "metadata": {},
   "source": [
    "### Invoke LLM"
   ]
  },
  {
   "cell_type": "code",
   "execution_count": 10,
   "metadata": {},
   "outputs": [
    {
     "name": "stdout",
     "output_type": "stream",
     "text": [
      "控制措施 5.4-1\n",
      "\n",
      "【detail】\n",
      "持久存儲中的敏感安全參數應由設備安全的存儲。\n",
      "\n",
      "【question】\n",
      "安全、可信任的儲存機制可用於保護敏感的安全參數。注意：此規定適用於持久性儲存（在裝置電源關閉後保留資料的任何資料儲存裝置），但製造商也可以對記憶體中的敏感安全參數實施類似的方法。問題：當設備有持久性儲存時：1. 設備如何確保敏感安全參數安全儲存？\n",
      "\n",
      "【answer】\n",
      "所有關鍵機敏資訊都以AES 128 加密演算法處理存儲在機器的flash中。\n",
      "\n",
      "【question】\n",
      "安全、可信任的儲存機制可用於保護敏感的安全參數。注意：此規定適用於持久性儲存（在裝置電源關閉後保留資料的任何資料儲存裝置），但製造商也可以對記憶體中的敏感安全參數實施類似的方法。問題：當設備有持久性儲存時：1. 設備如何確保敏感安全參數安全儲存？\n"
     ]
    }
   ],
   "source": [
    "df = pd.read_csv(\"../docs/test_data_from_GoogleSheet.csv\")\n",
    "\n",
    "row = df.iloc[5]\n",
    "query = f\"控制措施{row['provision']}，detail:{row['detail']}，answer:{row['answer']}\"\n",
    "print(\n",
    "    f\"控制措施 {row['provision']}\\n\\n【detail】\\n{row['detail']}\\n\\n【question】\\n{row['Test cenario']}\\n\\n【answer】\\n{row['answer']}\"\n",
    ")\n",
    "\n",
    "print(f\"\\n【question】\\n{row['Test cenario']}\")"
   ]
  },
  {
   "cell_type": "code",
   "execution_count": 11,
   "metadata": {},
   "outputs": [
    {
     "name": "stdout",
     "output_type": "stream",
     "text": [
      "\n",
      "\n",
      "1. 控制措施5.4-1的目的是什麼？\n",
      "\n",
      "答案：控制措施5.4-1的目的是確保持久性儲存體中的敏感性安全參數由裝置安全儲存，以保護敏感數據並防止未經授權的訪問。\n",
      "\n",
      "1. 什麼是持久性儲存體？\n",
      "\n",
      "答案：持久性儲存體是指在設備上長期保存的數據和設置信息，包括敏感安全參數等信息。\n",
      "\n",
      "1. 裝置安全儲存有哪些特點？\n",
      "\n",
      "答案：裝置安全儲存是指在安全措施的保障下，對敏感安全參數等信息的存儲。通常包括以下特點：安全性、保密性、完整性、可用性、可恢復性。\n",
      "\n",
      "1. 控制措施5.4-1如何保障敏感安全參數？\n",
      "\n",
      "答案：控制措施5.4-1通過將持久性儲存體中的敏感安全參數由裝置安全儲存來保障敏感安全參數。具體措施可能包括使用安全演算法（如AES 128）進行加密、實施訪問控制等。\n",
      "\n",
      "1. 如何報告設備製造商關於設備的安全漏洞？\n",
      "\n",
      "答案：用戶可以通過設備製造商公開的漏洞公布政策，向其提供安全漏洞信息。政策通常包括報告問題的聯繫資訊和有關問題處理的時程表，如初始確認收貨和狀態更新等。\n",
      "\n",
      "1. 在設備與雲端之間如何進行身份驗證？\n",
      "\n",
      "答案：設備與雲端之間的身份驗證通常透過設備證書進行。在本機驗證方面，使用者設定的密碼透過HMAC-SHA256質詢完成。通信方面，本機驗證通常透過HTTPs TLS v1.2或更新的連線保護，雲與端通信方面也透過TLS v1.2或更新的連線進行保護。</s>\n"
     ]
    },
    {
     "data": {
      "text/plain": [
       "'Human: 你是一個資安專家，使用以下檢索到的背景資料回答問題，如果不知道答案就說不知道。\\n背景資料：控制措施5.4-1：持久性儲存體中之敏感性安全參數應由裝置安全儲存。\\n\\n控制措施5.4-1：持久性儲存體中之敏感性安全參數應由裝置安全儲存。\\n\\n控制措施5.4-1：持久性儲存體中之敏感性安全參數應由裝置安全儲存。\\n\\n控制措施5.4-1：持久性儲存體中之敏感性安全參數應由裝置安全儲存。\\n\\n測試資料範例：\\n\\n控制措施5.1-1 ，detail:如果使用密碼並且處於出廠預設設置以外的任何狀態，則所有消費者物聯網設備密碼應為每個設備獨有的或由用戶定義。 ，question:問題：當使用密碼且處於出廠預設值（例如「admin」）以外的任何狀態時，所有消費者物聯網裝置密碼應符合下列其中一項：1. 每個設備都是唯一的。2. 由使用者定義。請詳細說明密碼是如何建立的。 ，answer:使用者密碼透過wizard由使用者設定且與MAC Address/SN無相關性，且無法反算或暴力計算。\\n\\n控制措施5.1-3，detail:用以對裝置鑑別使用者之鑑別機制，應使用對技術、風險及使用的性質適切之最佳實務密碼學。，question:與裝置所使用的身份驗證方法無關，身份驗證資料在使用者和裝置之間傳輸時應進行加密。注意：傳輸通常可以在行動應用程式和裝置之間進行。注意：密碼需要始終受到保護，加密是保護密碼的標準方法。 如果密碼未加密，則它們可以簡單地讀取（即明文）並且很容易洩漏。（範例：傳輸過程中的密碼保護通常可以透過 TLS/SSL 隧道連線或 VPN 進行）。問題：1. 當使用者向裝置進行身份驗證時，身份驗證資料在傳輸過程中如何進行加密保護？ ，answer:本機驗證透過 HMAC-SHA256 質詢使用使用者設定的密碼完成。 透過 HTTPs TLS v1.2 或更新的連線保護通道，chiper 套件符合 FIPS 14--3\\r\\n雲端管理通訊也透過 TLS v1.2 或更新的連線進行保護，chiper 套件符合 FIPS 14--3。 設備與雲端之間透過設備證書進行身份驗證。\\n\\n控制措施5.2-1，detail:製造商應公開漏洞公布政策。本政策至少應包括：報告問題的聯繫資訊;以及關於以下方面的時程表的資訊：1）收到初始確認;以及 2）狀態更新，直到報告的問題得到解決。，question:漏洞揭露政策明確規定了安全研究人員和其他人報告問題的流程。 此類政策可以根據需要進行更新，以進一步確保製造商與安全研究人員打交道的透明度和清晰度，反之亦然。 \\xa0 \\xa0 \\xa0 \\xa0問題：1. 設備製造商如何組織漏洞揭露政策？ 製造商是否至少公開了以下資訊：• 報告問題的聯絡資訊； 和• 有關時間表的資訊：1) 初步確認收貨； 和2) 狀態更新至報告的問題已解決。，answer:通過D-Link 網站（https://support.dlink.com/ReportVulnerabilities.aspx）漏洞通報資訊的聯繫方式向 D-Link 報告安全漏洞，D-Link 會及時分析安全漏洞，如果有必要會向報告者更新安全漏洞的最新狀態。 提供網站通報漏洞郵箱，以接收用戶發現的漏洞，並通過與網站告知使用者漏洞解決進度。\\n\\n \\n問題：控制措施5.4-1，detail:持久存儲中的敏感安全參數應由設備安全的存儲。，answer:所有關鍵機敏資訊都以AES 128 加密演算法處理存儲在機器的flash中。\\n\\n針對控制措施、detail和answer反推出疑問question \\n答案：\\n\\n1. 控制措施5.4-1的目的是什麼？\\n\\n答案：控制措施5.4-1的目的是確保持久性儲存體中的敏感性安全參數由裝置安全儲存，以保護敏感數據並防止未經授權的訪問。\\n\\n1. 什麼是持久性儲存體？\\n\\n答案：持久性儲存體是指在設備上長期保存的數據和設置信息，包括敏感安全參數等信息。\\n\\n1. 裝置安全儲存有哪些特點？\\n\\n答案：裝置安全儲存是指在安全措施的保障下，對敏感安全參數等信息的存儲。通常包括以下特點：安全性、保密性、完整性、可用性、可恢復性。\\n\\n1. 控制措施5.4-1如何保障敏感安全參數？\\n\\n答案：控制措施5.4-1通過將持久性儲存體中的敏感安全參數由裝置安全儲存來保障敏感安全參數。具體措施可能包括使用安全演算法（如AES 128）進行加密、實施訪問控制等。\\n\\n1. 如何報告設備製造商關於設備的安全漏洞？\\n\\n答案：用戶可以通過設備製造商公開的漏洞公布政策，向其提供安全漏洞信息。政策通常包括報告問題的聯繫資訊和有關問題處理的時程表，如初始確認收貨和狀態更新等。\\n\\n1. 在設備與雲端之間如何進行身份驗證？\\n\\n答案：設備與雲端之間的身份驗證通常透過設備證書進行。在本機驗證方面，使用者設定的密碼透過HMAC-SHA256質詢完成。通信方面，本機驗證通常透過HTTPs TLS v1.2或更新的連線保護，雲與端通信方面也透過TLS v1.2或更新的連線進行保護。'"
      ]
     },
     "execution_count": 11,
     "metadata": {},
     "output_type": "execute_result"
    }
   ],
   "source": [
    "rag_chain.invoke(f\"{query}\\n\\n針對控制措施、detail和answer反推出疑問question\")"
   ]
  }
 ],
 "metadata": {
  "kernelspec": {
   "display_name": ".venv",
   "language": "python",
   "name": "python3"
  },
  "language_info": {
   "codemirror_mode": {
    "name": "ipython",
    "version": 3
   },
   "file_extension": ".py",
   "mimetype": "text/x-python",
   "name": "python",
   "nbconvert_exporter": "python",
   "pygments_lexer": "ipython3",
   "version": "3.11.7"
  }
 },
 "nbformat": 4,
 "nbformat_minor": 2
}
