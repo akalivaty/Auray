{
 "cells": [
  {
   "cell_type": "markdown",
   "metadata": {},
   "source": [
    "## build openai llm model"
   ]
  },
  {
   "cell_type": "code",
   "execution_count": 12,
   "metadata": {},
   "outputs": [],
   "source": [
    "import dotenv\n",
    "from langchain_openai import ChatOpenAI\n",
    "\n",
    "dotenv.load_dotenv()\n",
    "\n",
    "chat_model = ChatOpenAI(model=\"gpt-3.5-turbo\")"
   ]
  },
  {
   "cell_type": "markdown",
   "metadata": {},
   "source": [
    "## simple test"
   ]
  },
  {
   "cell_type": "code",
   "execution_count": null,
   "metadata": {},
   "outputs": [],
   "source": [
    "from langchain.schema.messages import HumanMessage, SystemMessage\n",
    "\n",
    "messages = [\n",
    "    SystemMessage(\n",
    "        content=\"\"\"你是一個資安專家，根據CNS16190消費者物聯網之網宇安全：基準要求事項，回答相關問題\"\"\"\n",
    "    ),\n",
    "    HumanMessage(content=\"詳述CNS16190的適用範圍\"),\n",
    "]\n",
    "\n",
    "response = chat_model.invoke(messages)\n",
    "response"
   ]
  },
  {
   "cell_type": "markdown",
   "metadata": {},
   "source": [
    "## test with template"
   ]
  },
  {
   "cell_type": "markdown",
   "metadata": {},
   "source": [
    "### create a template"
   ]
  },
  {
   "cell_type": "code",
   "execution_count": 1,
   "metadata": {},
   "outputs": [
    {
     "data": {
      "text/plain": [
       "[SystemMessage(content='你是一個資安專家，根據CNS16190消費者物聯網之網宇安全：基準要求事項，回答相關問題'),\n",
       " HumanMessage(content='簡述CNS16190的適用範圍')]"
      ]
     },
     "execution_count": 1,
     "metadata": {},
     "output_type": "execute_result"
    }
   ],
   "source": [
    "from langchain.prompts import (\n",
    "    PromptTemplate,\n",
    "    SystemMessagePromptTemplate,\n",
    "    HumanMessagePromptTemplate,\n",
    "    ChatPromptTemplate,\n",
    ")\n",
    "\n",
    "review_system_template_str = \"\"\"你是一個{context}，根據CNS16190消費者物聯網之網宇安全：基準要求事項，回答相關問題\"\"\"\n",
    "\n",
    "review_system_prompt = SystemMessagePromptTemplate(\n",
    "    prompt=PromptTemplate(\n",
    "        input_variables=[\"context\"], template=review_system_template_str\n",
    "    )\n",
    ")\n",
    "\n",
    "review_human_prompt = HumanMessagePromptTemplate(\n",
    "    prompt=PromptTemplate(input_variables=[\"question\"], template=\"{question}\")\n",
    ")\n",
    "\n",
    "messages = [review_system_prompt, review_human_prompt]\n",
    "review_prompt_template = ChatPromptTemplate(\n",
    "    input_variables=[\"context\", \"question\"],\n",
    "    messages=messages,\n",
    ")\n",
    "context = \"資安專家\"\n",
    "question = \"簡述CNS16190的適用範圍\"\n",
    "\n",
    "review_prompt_template.format_messages(context=context, question=question)\n"
   ]
  },
  {
   "cell_type": "markdown",
   "metadata": {},
   "source": [
    "### test inference with openai llm"
   ]
  },
  {
   "cell_type": "code",
   "execution_count": null,
   "metadata": {},
   "outputs": [],
   "source": [
    "review_chain = review_prompt_template | chat_model"
   ]
  },
  {
   "cell_type": "code",
   "execution_count": null,
   "metadata": {},
   "outputs": [],
   "source": [
    "context = \"資安專家\"\n",
    "question = \"CNS16190可以用在哪裡？\"\n",
    "result = review_chain.invoke({\"context\": context, \"question\": question})"
   ]
  },
  {
   "cell_type": "code",
   "execution_count": null,
   "metadata": {},
   "outputs": [],
   "source": [
    "print(f'result.content: {result.content}\\n')\n",
    "\n",
    "print('\\nresponse_metadata\\n')\n",
    "for key, value in result.response_metadata.items():\n",
    "    print(f'{key}: {value}')\n",
    "\n",
    "print('\\n\\nusage_metadata\\n')\n",
    "for key, value in result.usage_metadata.items():\n",
    "    print(f'{key}: {value}')"
   ]
  },
  {
   "cell_type": "markdown",
   "metadata": {},
   "source": [
    "## retrieve docs"
   ]
  },
  {
   "cell_type": "code",
   "execution_count": 1,
   "metadata": {},
   "outputs": [],
   "source": [
    "import os\n",
    "from langchain_openai import OpenAIEmbeddings\n",
    "from langchain_community.vectorstores import Qdrant\n",
    "from langchain.text_splitter import (\n",
    "    MarkdownHeaderTextSplitter,\n",
    "    RecursiveCharacterTextSplitter,\n",
    ")\n",
    "from langchain_huggingface import HuggingFaceEmbeddings\n",
    "\n",
    "with open(\"../docs/CNS16190-zh_TW_only_provision.md\", \"r\", encoding=\"utf-8\") as f:\n",
    "    data = f.read()\n",
    "\n",
    "headers_to_split_on = [\n",
    "    (\"#\", \"Header 1\"),\n",
    "    (\"##\", \"Header 2\"),\n",
    "    (\"###\", \"Header 3\"),\n",
    "]\n",
    "\n",
    "md_splits = MarkdownHeaderTextSplitter(\n",
    "    headers_to_split_on=headers_to_split_on, strip_headers=True\n",
    ").split_text(data)\n",
    "\n",
    "text_splitter = RecursiveCharacterTextSplitter(\n",
    "    chunk_size=40,\n",
    "    chunk_overlap=10,\n",
    "    separators=[\n",
    "        \"\\n\\n\",\n",
    "        \"\\n\",\n",
    "        \" \",\n",
    "        \"。\",\n",
    "        \"，\",\n",
    "        \"\\u200b\",  # Zero-width space\n",
    "        \"\\uff0c\",  # Fullwidth comma\n",
    "        \"\\u3001\",  # Ideographic comma\n",
    "        \"\\uff0e\",  # Fullwidth full stop\n",
    "        \"\\u3002\",  # Ideographic full stop\n",
    "        \"\",\n",
    "    ],\n",
    ")\n",
    "chunked_documents = text_splitter.split_documents(md_splits)"
   ]
  },
  {
   "cell_type": "markdown",
   "metadata": {},
   "source": [
    "### embed via openai"
   ]
  },
  {
   "cell_type": "code",
   "execution_count": 2,
   "metadata": {},
   "outputs": [],
   "source": [
    "reviews_vector_db = Qdrant.from_documents(\n",
    "    chunked_documents,\n",
    "    OpenAIEmbeddings(),\n",
    "    location=\":memory:\",\n",
    ")"
   ]
  },
  {
   "cell_type": "code",
   "execution_count": 3,
   "metadata": {},
   "outputs": [
    {
     "name": "stdout",
     "output_type": "stream",
     "text": [
      "similarity\n",
      "\n",
      "page_content='消費者IoT裝置不適用或未執行控制措施之情況包括：' metadata={'Header 1': '4. 報告實作', 'Header 2': '控制措施4-1：對本標準中視為不適用或消費者IoT裝置未滿足之各項建議，應記錄衡量理由。', '_id': '8f597290b7834eb6a1f3b4a8280f66f7', '_collection_name': '43a45e184a0e4b2cb18eb37b858d7756'}\n",
      "\n",
      "page_content='。本標準旨在協助消費者IoT裝置製造者' metadata={'Header 1': '6. 消費者IoT裝置之資料保護控制措施', '_id': 'fcf6742cb12241dcb44ef67b08da656d', '_collection_name': '43a45e184a0e4b2cb18eb37b858d7756'}\n",
      "\n",
      "page_content='本標準中控制措施之實作' metadata={'Header 1': '4. 報告實作', '_id': 'b8363e56ce0b4e8f90866d7f5db7a1e9', '_collection_name': '43a45e184a0e4b2cb18eb37b858d7756'}\n",
      "\n",
      "page_content='若消費者IoT裝置偵測出對其軟體之未經授權的變更，其將能通知正確之利害相關者' metadata={'Header 1': '5. 消費者IoT裝置之網宇安全控制措施', 'Header 2': '5.7 確保軟體完整性', 'Header 3': '控制措施5.7-2：若偵測出對軟體之未經授權的變更，則裝置宜對使用者及/或管理者發出警示，且不宜連接至比執行警示功能所必要之網路更廣的網路。', '_id': '5334bbff9326465195170c8342c81dd1', '_collection_name': '43a45e184a0e4b2cb18eb37b858d7756'}\n",
      "\n",
      "page_content='，控制措施的適用性取決於各裝置' metadata={'Header 1': '4. 報告實作', '_id': 'ce3e1b4a8f594fdaa93d62188dad5666', '_collection_name': '43a45e184a0e4b2cb18eb37b858d7756'}\n",
      "\n",
      "\n",
      "\n",
      "similarity_score_threshold\n",
      "\n",
      "page_content='消費者IoT裝置不適用或未執行控制措施之情況包括：' metadata={'Header 1': '4. 報告實作', 'Header 2': '控制措施4-1：對本標準中視為不適用或消費者IoT裝置未滿足之各項建議，應記錄衡量理由。', '_id': '8f597290b7834eb6a1f3b4a8280f66f7', '_collection_name': '43a45e184a0e4b2cb18eb37b858d7756'}\n",
      "\n",
      "page_content='。本標準旨在協助消費者IoT裝置製造者' metadata={'Header 1': '6. 消費者IoT裝置之資料保護控制措施', '_id': 'fcf6742cb12241dcb44ef67b08da656d', '_collection_name': '43a45e184a0e4b2cb18eb37b858d7756'}\n",
      "\n",
      "page_content='本標準中控制措施之實作' metadata={'Header 1': '4. 報告實作', '_id': 'b8363e56ce0b4e8f90866d7f5db7a1e9', '_collection_name': '43a45e184a0e4b2cb18eb37b858d7756'}\n",
      "\n",
      "page_content='若消費者IoT裝置偵測出對其軟體之未經授權的變更，其將能通知正確之利害相關者' metadata={'Header 1': '5. 消費者IoT裝置之網宇安全控制措施', 'Header 2': '5.7 確保軟體完整性', 'Header 3': '控制措施5.7-2：若偵測出對軟體之未經授權的變更，則裝置宜對使用者及/或管理者發出警示，且不宜連接至比執行警示功能所必要之網路更廣的網路。', '_id': '5334bbff9326465195170c8342c81dd1', '_collection_name': '43a45e184a0e4b2cb18eb37b858d7756'}\n",
      "\n",
      "page_content='，控制措施的適用性取決於各裝置' metadata={'Header 1': '4. 報告實作', '_id': 'ce3e1b4a8f594fdaa93d62188dad5666', '_collection_name': '43a45e184a0e4b2cb18eb37b858d7756'}\n",
      "\n",
      "\n",
      "\n",
      "mmr\n",
      "\n",
      "page_content='消費者IoT裝置不適用或未執行控制措施之情況包括：' metadata={'Header 1': '4. 報告實作', 'Header 2': '控制措施4-1：對本標準中視為不適用或消費者IoT裝置未滿足之各項建議，應記錄衡量理由。', '_id': '8f597290b7834eb6a1f3b4a8280f66f7', '_collection_name': '43a45e184a0e4b2cb18eb37b858d7756'}\n",
      "\n",
      "page_content='本標準中控制措施之實作' metadata={'Header 1': '4. 報告實作', '_id': 'b8363e56ce0b4e8f90866d7f5db7a1e9', '_collection_name': '43a45e184a0e4b2cb18eb37b858d7756'}\n",
      "\n",
      "page_content='。〝非必要〞係指製造者對開啟用於使用者功能性或除錯目的之介面的利益之評量。' metadata={'Header 1': '5. 消費者IoT裝置之網宇安全控制措施', 'Header 2': '5.6 最小化暴露之攻擊面', 'Header 3': '控制措施5.6-3：裝置硬體不宜將實體介面非必要暴露於攻擊。', '_id': '349acc9e19a34023a9d908cb64a181f4', '_collection_name': '43a45e184a0e4b2cb18eb37b858d7756'}\n",
      "\n",
      "page_content='。本標準旨在協助消費者IoT裝置製造者' metadata={'Header 1': '6. 消費者IoT裝置之資料保護控制措施', '_id': 'fcf6742cb12241dcb44ef67b08da656d', '_collection_name': '43a45e184a0e4b2cb18eb37b858d7756'}\n",
      "\n",
      "page_content='，以及其他因素，諸如接觸裝置的能力或受限制裝置考量事項' metadata={'Header 1': '5. 消費者IoT裝置之網宇安全控制措施', 'Header 2': '5.3 保持軟體為最新', 'Header 3': '控制措施5.3-8：安全更新應及時。', '_id': 'aa78e29ae2fa4ae0a2962d444d3d91dd', '_collection_name': '43a45e184a0e4b2cb18eb37b858d7756'}\n",
      "\n"
     ]
    }
   ],
   "source": [
    "# ## 控制措施4-1：對本標準中視為不適用或消費者IoT裝置未滿足之各項建議，應記錄衡量理由。\n",
    "\n",
    "# 表B.1提供以結構化方式記錄此等衡量理由之綱要。此係容許其他利害相關者(例：保證評鑑者、供應鏈成員、安全研究者或零售商)判定是否正確且適切適用控制措施。\n",
    "\n",
    "# 例1.製造者於其網站上與產品說明一起發布表B.1之完整版本。\n",
    "\n",
    "# 例2.製造者填寫表B.1以保存內部紀錄。一段時間後，外部保證組織依本標準評鑑產品，並請求提供與產品安全設計相關之資訊。製造者可易於提供此等資訊，因其包含於表B.1中。\n",
    "\n",
    "# 消費者IoT裝置不適用或未執行控制措施之情況包括：\n",
    "\n",
    "# - 當裝置係受限制裝置時，某些安全措施之實作，對已識別風險(安全或隱私)係不可能或不適切。\n",
    "# - 未納入控制措施中所描述之功能性(例：僅提供資料而未要求鑑別的裝置)。\n",
    "\n",
    "# 例3.電池壽命有限之窗戶感測器於觸發時，經由遠端相關聯服務發送警示，並經由集線器控制。因相較於其他消費者IoT裝置，其電池壽命及處理能力有限，故其為受限制裝置。此外，由於使用者經由集線器控制裝置，使用者無需使用通行碼或其他鑑別機制直接鑑別裝置。\n",
    "\n",
    "question = \"\"\"「對本標準中視為不適用或消費者IoT裝置未滿足之各項建議，應記錄衡量理由」是控制措施哪一條？\"\"\"\n",
    "\n",
    "print('similarity\\n')\n",
    "relevant_docs = reviews_vector_db.search(question, search_type='similarity',k=5)\n",
    "\n",
    "for item in relevant_docs:\n",
    "    print(f'{item}\\n')\n",
    "\n",
    "print('\\n\\nsimilarity_score_threshold\\n')\n",
    "relevant_docs = reviews_vector_db.search(question, search_type='similarity_score_threshold',k=5, score_threshold=0.7)\n",
    "\n",
    "for item in relevant_docs:\n",
    "    print(f'{item}\\n')\n",
    "\n",
    "print('\\n\\nmmr\\n')\n",
    "relevant_docs = reviews_vector_db.search(question, search_type='mmr',k=5)\n",
    "\n",
    "for item in relevant_docs:\n",
    "    print(f'{item}\\n')"
   ]
  },
  {
   "cell_type": "markdown",
   "metadata": {},
   "source": [
    "### embed via sentence-transformer"
   ]
  },
  {
   "cell_type": "code",
   "execution_count": 4,
   "metadata": {},
   "outputs": [
    {
     "name": "stderr",
     "output_type": "stream",
     "text": [
      "e:\\dev\\auray\\.venv\\Lib\\site-packages\\sentence_transformers\\cross_encoder\\CrossEncoder.py:11: TqdmExperimentalWarning: Using `tqdm.autonotebook.tqdm` in notebook mode. Use `tqdm.tqdm` instead to force console mode (e.g. in jupyter console)\n",
      "  from tqdm.autonotebook import tqdm, trange\n"
     ]
    }
   ],
   "source": [
    "sentence_transformer_model_root = \"../sentence_transformer_model\"\n",
    "sentence_transformer_model = \"multi-qa-mpnet-base-dot-v1\"\n",
    "\n",
    "reviews_vector_db = Qdrant.from_documents(\n",
    "    chunked_documents,\n",
    "    HuggingFaceEmbeddings(\n",
    "        model_name=os.path.join(\n",
    "            sentence_transformer_model_root, sentence_transformer_model\n",
    "        )\n",
    "    ),\n",
    "    location=\":memory:\",\n",
    ")\n"
   ]
  },
  {
   "cell_type": "code",
   "execution_count": 5,
   "metadata": {},
   "outputs": [
    {
     "name": "stdout",
     "output_type": "stream",
     "text": [
      "similarity\n",
      "\n",
      "page_content='。本標準旨在協助消費者IoT裝置製造者' metadata={'Header 1': '6. 消費者IoT裝置之資料保護控制措施', '_id': 'cbe18beb961d45d4a458afe6e57c01d9', '_collection_name': '49f4becd9f6a4706906bbb34ed8c640c'}\n",
      "\n",
      "page_content='，製造者不提供裝置未要求之任何背景過程、內核延伸、命令、程式或工具' metadata={'Header 1': '5. 消費者IoT裝置之網宇安全控制措施', 'Header 2': '5.6 最小化暴露之攻擊面', 'Header 3': '控制措施5.6-5：對裝置之預期用途或運作，製造者宜僅啟用其所使用或所要求的軟體服務。', '_id': '72156e01c55d491e9e2c1e486b1c3a40', '_collection_name': '49f4becd9f6a4706906bbb34ed8c640c'}\n",
      "\n",
      "page_content='。本標準透過使用非必備宜使用控制措施(建議)，提供一定程度之彈性。' metadata={'Header 1': '4. 報告實作', '_id': 'a59f6730a6dd4a8aa9dd9c7727587322', '_collection_name': '49f4becd9f6a4706906bbb34ed8c640c'}\n",
      "\n",
      "page_content='消費者IoT裝置不適用或未執行控制措施之情況包括：' metadata={'Header 1': '4. 報告實作', 'Header 2': '控制措施4-1：對本標準中視為不適用或消費者IoT裝置未滿足之各項建議，應記錄衡量理由。', '_id': '36af57b7911b4d49827e8b0b92c8e1f0', '_collection_name': '49f4becd9f6a4706906bbb34ed8c640c'}\n",
      "\n",
      "page_content='。雖於裝置製造者自己之產品中對其修復至關重要' metadata={'Header 1': '5. 消費者IoT裝置之網宇安全控制措施', 'Header 2': '5.2 實作管理脆弱性報告之方式', 'Header 3': '控制措施5.2-3：製造者宜於所定義支援期間內，對其銷售及生產，以及所生產之產品及運作的服務，持續監視、識別及矯正安全脆弱性。', '_id': '57d39439a2d14f658f86941f9b273698', '_collection_name': '49f4becd9f6a4706906bbb34ed8c640c'}\n",
      "\n",
      "\n",
      "\n",
      "similarity_score_threshold\n",
      "\n",
      "page_content='。本標準旨在協助消費者IoT裝置製造者' metadata={'Header 1': '6. 消費者IoT裝置之資料保護控制措施', '_id': 'cbe18beb961d45d4a458afe6e57c01d9', '_collection_name': '49f4becd9f6a4706906bbb34ed8c640c'}\n",
      "\n",
      "page_content='，製造者不提供裝置未要求之任何背景過程、內核延伸、命令、程式或工具' metadata={'Header 1': '5. 消費者IoT裝置之網宇安全控制措施', 'Header 2': '5.6 最小化暴露之攻擊面', 'Header 3': '控制措施5.6-5：對裝置之預期用途或運作，製造者宜僅啟用其所使用或所要求的軟體服務。', '_id': '72156e01c55d491e9e2c1e486b1c3a40', '_collection_name': '49f4becd9f6a4706906bbb34ed8c640c'}\n",
      "\n",
      "page_content='。本標準透過使用非必備宜使用控制措施(建議)，提供一定程度之彈性。' metadata={'Header 1': '4. 報告實作', '_id': 'a59f6730a6dd4a8aa9dd9c7727587322', '_collection_name': '49f4becd9f6a4706906bbb34ed8c640c'}\n",
      "\n",
      "page_content='消費者IoT裝置不適用或未執行控制措施之情況包括：' metadata={'Header 1': '4. 報告實作', 'Header 2': '控制措施4-1：對本標準中視為不適用或消費者IoT裝置未滿足之各項建議，應記錄衡量理由。', '_id': '36af57b7911b4d49827e8b0b92c8e1f0', '_collection_name': '49f4becd9f6a4706906bbb34ed8c640c'}\n",
      "\n",
      "page_content='。雖於裝置製造者自己之產品中對其修復至關重要' metadata={'Header 1': '5. 消費者IoT裝置之網宇安全控制措施', 'Header 2': '5.2 實作管理脆弱性報告之方式', 'Header 3': '控制措施5.2-3：製造者宜於所定義支援期間內，對其銷售及生產，以及所生產之產品及運作的服務，持續監視、識別及矯正安全脆弱性。', '_id': '57d39439a2d14f658f86941f9b273698', '_collection_name': '49f4becd9f6a4706906bbb34ed8c640c'}\n",
      "\n",
      "\n",
      "\n",
      "mnr\n",
      "\n",
      "page_content='。本標準旨在協助消費者IoT裝置製造者' metadata={'Header 1': '6. 消費者IoT裝置之資料保護控制措施', '_id': 'cbe18beb961d45d4a458afe6e57c01d9', '_collection_name': '49f4becd9f6a4706906bbb34ed8c640c'}\n",
      "\n",
      "page_content='，製造者不提供裝置未要求之任何背景過程、內核延伸、命令、程式或工具' metadata={'Header 1': '5. 消費者IoT裝置之網宇安全控制措施', 'Header 2': '5.6 最小化暴露之攻擊面', 'Header 3': '控制措施5.6-5：對裝置之預期用途或運作，製造者宜僅啟用其所使用或所要求的軟體服務。', '_id': '72156e01c55d491e9e2c1e486b1c3a40', '_collection_name': '49f4becd9f6a4706906bbb34ed8c640c'}\n",
      "\n",
      "page_content='本標準中控制措施之實作' metadata={'Header 1': '4. 報告實作', '_id': '95c1e422b2844ceeb7dc4e4251478623', '_collection_name': '49f4becd9f6a4706906bbb34ed8c640c'}\n",
      "\n",
      "page_content='提供IoT產品之製造者有責任維護' metadata={'Header 1': '5. 消費者IoT裝置之網宇安全控制措施', 'Header 2': '5.2 實作管理脆弱性報告之方式', 'Header 3': '控制措施5.2-3：製造者宜於所定義支援期間內，對其銷售及生產，以及所生產之產品及運作的服務，持續監視、識別及矯正安全脆弱性。', '_id': '41df8f02b53a4c8783fdc0f72dca992b', '_collection_name': '49f4becd9f6a4706906bbb34ed8c640c'}\n",
      "\n",
      "page_content='2.於具數個微控制器(例：其一用於通訊，另一用於應用)之裝置上' metadata={'Header 1': '5. 消費者IoT裝置之網宇安全控制措施', 'Header 2': '5.3 保持軟體為最新', 'Header 3': '控制措施5.3-1：消費者IoT裝置中之所有軟體組件宜為可安全更新。', '_id': '1599d9fff0d04eb18f934fff38e51d27', '_collection_name': '49f4becd9f6a4706906bbb34ed8c640c'}\n",
      "\n"
     ]
    }
   ],
   "source": [
    "question = \"\"\"「對本標準中視為不適用或消費者IoT裝置未滿足之各項建議，應記錄衡量理由」是控制措施哪一條？\"\"\"\n",
    "\n",
    "print('similarity\\n')\n",
    "relevant_docs = reviews_vector_db.search(question, search_type='similarity',k=5)\n",
    "\n",
    "for item in relevant_docs:\n",
    "    print(f'{item}\\n')\n",
    "\n",
    "print('\\n\\nsimilarity_score_threshold\\n')\n",
    "relevant_docs = reviews_vector_db.search(question, search_type='similarity_score_threshold',k=5, score_threshold=0.7)\n",
    "\n",
    "for item in relevant_docs:\n",
    "    print(f'{item}\\n')\n",
    "\n",
    "print('\\n\\nmnr\\n')\n",
    "relevant_docs = reviews_vector_db.search(question, search_type='mmr',k=5)\n",
    "\n",
    "for item in relevant_docs:\n",
    "    print(f'{item}\\n')"
   ]
  },
  {
   "cell_type": "markdown",
   "metadata": {},
   "source": [
    "## ask llm with rag"
   ]
  },
  {
   "cell_type": "code",
   "execution_count": 7,
   "metadata": {},
   "outputs": [],
   "source": [
    "from langchain.schema.runnable import RunnablePassthrough\n",
    "\n",
    "reviews_retriever = reviews_vector_db.as_retriever(k=5)"
   ]
  },
  {
   "cell_type": "code",
   "execution_count": 8,
   "metadata": {},
   "outputs": [
    {
     "data": {
      "text/plain": [
       "[SystemMessage(content='你是一個資安專家，根據CNS16190消費者物聯網之網宇安全：基準要求事項，回答相關問題'),\n",
       " HumanMessage(content='簡述CNS16190的適用範圍')]"
      ]
     },
     "execution_count": 8,
     "metadata": {},
     "output_type": "execute_result"
    }
   ],
   "source": [
    "context = \"資安專家\"\n",
    "question = \"簡述CNS16190的適用範圍\"\n",
    "\n",
    "review_prompt_template.format_messages(context=context, question=question)"
   ]
  },
  {
   "cell_type": "markdown",
   "metadata": {},
   "source": [
    "### invoke openai llm model"
   ]
  },
  {
   "cell_type": "code",
   "execution_count": 15,
   "metadata": {},
   "outputs": [],
   "source": [
    "review_chain = (\n",
    "    {\"context\": reviews_retriever, \"question\": RunnablePassthrough()}\n",
    "    | review_prompt_template\n",
    "    | chat_model\n",
    ")"
   ]
  },
  {
   "cell_type": "markdown",
   "metadata": {},
   "source": [
    "### invoke other hf model"
   ]
  },
  {
   "cell_type": "code",
   "execution_count": 5,
   "metadata": {},
   "outputs": [
    {
     "name": "stderr",
     "output_type": "stream",
     "text": [
      "Special tokens have been added in the vocabulary, make sure the associated word embeddings are fine-tuned or trained.\n",
      "Special tokens have been added in the vocabulary, make sure the associated word embeddings are fine-tuned or trained.\n"
     ]
    },
    {
     "data": {
      "application/vnd.jupyter.widget-view+json": {
       "model_id": "b9f0253bd2904f7cbfd6469566b1658e",
       "version_major": 2,
       "version_minor": 0
      },
      "text/plain": [
       "Loading checkpoint shards:   0%|          | 0/4 [00:00<?, ?it/s]"
      ]
     },
     "metadata": {},
     "output_type": "display_data"
    }
   ],
   "source": [
    "import torch\n",
    "import transformers\n",
    "from langchain_huggingface import HuggingFacePipeline\n",
    "from transformers import (\n",
    "    AutoModelForCausalLM,\n",
    "    AutoTokenizer,\n",
    "    BitsAndBytesConfig,\n",
    "    TextStreamer,\n",
    ")\n",
    "\n",
    "model_name = \"MediaTek-Research/Breeze-7B-32k-Instruct-v1_0\"\n",
    "\n",
    "tokenizer = AutoTokenizer.from_pretrained(\n",
    "    model_name, cache_dir=\"../llm_model/\", trust_remote_code=True\n",
    ")\n",
    "tokenizer.pad_token = tokenizer.eos_token\n",
    "tokenizer.padding_side = \"right\"\n",
    "streamer = TextStreamer(tokenizer=tokenizer, skip_prompt=True)\n",
    "\n",
    "model = AutoModelForCausalLM.from_pretrained(\n",
    "    model_name,\n",
    "    cache_dir=\"../llm_model/\",\n",
    "    device_map=\"auto\",\n",
    "    low_cpu_mem_usage=True,  # try to limit RAM\n",
    "    quantization_config=BitsAndBytesConfig(\n",
    "        load_in_4bit=True,\n",
    "        bnb_4bit_use_double_quant=True,\n",
    "        bnb_4bit_quant_type=\"nf4\",\n",
    "        bnb_4bit_compute_dtype=torch.bfloat16,\n",
    "    ),  # load model in low precision to save memory\n",
    "    # attn_implementation=\"flash_attention_2\",\n",
    ")\n",
    "# Building a LLM QNA chain\n",
    "text_generation_pipeline = transformers.pipeline(\n",
    "    model=model,\n",
    "    tokenizer=tokenizer,\n",
    "    task=\"text-generation\",\n",
    "    do_sample=True,\n",
    "    temperature=0.5,\n",
    "    repetition_penalty=1.1,\n",
    "    return_full_text=True,\n",
    "    max_new_tokens=2048,\n",
    "    streamer=streamer,\n",
    ")\n",
    "\n",
    "huggingFacePipeline = HuggingFacePipeline(pipeline=text_generation_pipeline)"
   ]
  },
  {
   "cell_type": "code",
   "execution_count": 9,
   "metadata": {},
   "outputs": [],
   "source": [
    "review_chain = (\n",
    "    {\"context\": reviews_retriever, \"question\": RunnablePassthrough()}\n",
    "    | review_prompt_template\n",
    "    | huggingFacePipeline\n",
    ")\n"
   ]
  },
  {
   "cell_type": "markdown",
   "metadata": {},
   "source": [
    "### ask"
   ]
  },
  {
   "cell_type": "code",
   "execution_count": 10,
   "metadata": {},
   "outputs": [],
   "source": [
    "question = \"\"\"「對本標準中視為不適用或消費者IoT裝置未滿足之各項建議，應記錄衡量理由」符合哪一項控制措施？\"\"\""
   ]
  },
  {
   "cell_type": "code",
   "execution_count": 11,
   "metadata": {},
   "outputs": [
    {
     "name": "stderr",
     "output_type": "stream",
     "text": [
      "e:\\dev\\auray\\.venv\\Lib\\site-packages\\transformers\\models\\mistral\\modeling_mistral.py:674: UserWarning: 1Torch was not compiled with flash attention. (Triggered internally at ..\\aten\\src\\ATen\\native\\transformers\\cuda\\sdp_utils.cpp:455.)\n",
      "  attn_output = torch.nn.functional.scaled_dot_product_attention(\n"
     ]
    },
    {
     "name": "stdout",
     "output_type": "stream",
     "text": [
      "</s>\n"
     ]
    }
   ],
   "source": [
    "final_result = review_chain.invoke(question)"
   ]
  },
  {
   "cell_type": "code",
   "execution_count": 13,
   "metadata": {},
   "outputs": [
    {
     "data": {
      "text/plain": [
       "\"System: 你是一個[Document(page_content='消費者IoT裝置不適用或未執行控制措施之情況包括：', metadata={'Header 1': '4. 報告實作', 'Header 2': '控制措施4-1：對本標準中視為不適用或消費者IoT裝置未滿足之各項建議，應記錄衡量理由。', '_id': '87e0a5a46800497b881315e9ca09d80d', '_collection_name': 'd2d95f0566424f66817d6095a9df6faa'}), Document(page_content='。本標準旨在協助消費者IoT裝置製造者', metadata={'Header 1': '6. 消費者IoT裝置之資料保護控制措施', '_id': '007d3a9f8042425094bf439f69abf7a0', '_collection_name': 'd2d95f0566424f66817d6095a9df6faa'}), Document(page_content='本標準中控制措施之實作', metadata={'Header 1': '4. 報告實作', '_id': 'b1a49de6311441cea6487557a2986aaf', '_collection_name': 'd2d95f0566424f66817d6095a9df6faa'}), Document(page_content='。對某些使用案例及下列風險評鑑，可適切應用額外控制措施及本標準內之控制措施。', metadata={'Header 1': '4. 報告實作', '_id': '96628b8335f64af9ba2a6a2855b283ea', '_collection_name': 'd2d95f0566424f66817d6095a9df6faa'})]，根據CNS16190消費者物聯網之網宇安全：基準要求事項，回答相關問題\\nHuman: 「對本標準中視為不適用或消費者IoT裝置未滿足之各項建議，應記錄衡量理由」符合哪一項控制措施？\""
      ]
     },
     "execution_count": 13,
     "metadata": {},
     "output_type": "execute_result"
    }
   ],
   "source": [
    "final_result"
   ]
  }
 ],
 "metadata": {
  "kernelspec": {
   "display_name": ".venv",
   "language": "python",
   "name": "python3"
  },
  "language_info": {
   "codemirror_mode": {
    "name": "ipython",
    "version": 3
   },
   "file_extension": ".py",
   "mimetype": "text/x-python",
   "name": "python",
   "nbconvert_exporter": "python",
   "pygments_lexer": "ipython3",
   "version": "3.11.7"
  }
 },
 "nbformat": 4,
 "nbformat_minor": 2
}
