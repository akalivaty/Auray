{
 "cells": [
  {
   "cell_type": "code",
   "execution_count": 1,
   "metadata": {},
   "outputs": [
    {
     "data": {
      "text/plain": [
       "True"
      ]
     },
     "execution_count": 1,
     "metadata": {},
     "output_type": "execute_result"
    }
   ],
   "source": [
    "import os\n",
    "\n",
    "import dotenv\n",
    "\n",
    "dotenv.load_dotenv()\n",
    "ROOT_PATH = os.path.expanduser(os.getenv(\"ROOT_PATH\"))\n",
    "ROOT_PATH"
   ]
  },
  {
   "cell_type": "markdown",
   "metadata": {},
   "source": [
    "# Build HF embedding"
   ]
  },
  {
   "cell_type": "code",
   "execution_count": 3,
   "metadata": {},
   "outputs": [
    {
     "name": "stderr",
     "output_type": "stream",
     "text": [
      "/home/yuva/dev/Auray/.venv/lib/python3.11/site-packages/sentence_transformers/cross_encoder/CrossEncoder.py:11: TqdmExperimentalWarning: Using `tqdm.autonotebook.tqdm` in notebook mode. Use `tqdm.tqdm` instead to force console mode (e.g. in jupyter console)\n",
      "  from tqdm.autonotebook import tqdm, trange\n"
     ]
    }
   ],
   "source": [
    "from langchain_huggingface import HuggingFaceEmbeddings\n",
    "\n",
    "# https://huggingface.co/spaces/mteb/leaderboard\n",
    "sentence_transformer_models = [\n",
    "    \"sentence-transformers/all-MiniLM-L6-v2\",\n",
    "    \"lier007/xiaobu-embedding-v2\",  # rank 1 in chinese\n",
    "    \"Alibaba-NLP/gte-large-en-v1.5\",  # rank 21 in english\n",
    "    # \"iampanda/zpoint_large_embedding_zh\", # rank 4 in chinese\n",
    "    # \"dunzhang/stella_en_400M_v5\", # rank 6 in english  (deprecated)\n",
    "]\n",
    "\n",
    "sentence_transformer_model = sentence_transformer_models[2]\n",
    "\n",
    "hf_embeddings_model = HuggingFaceEmbeddings(\n",
    "    model_name=sentence_transformer_model,\n",
    "    cache_folder=os.path.join(ROOT_PATH, \"sentence_transformer_model\"),\n",
    "    model_kwargs={\"trust_remote_code\": True},\n",
    ")\n"
   ]
  },
  {
   "cell_type": "markdown",
   "metadata": {},
   "source": [
    "# Build HF vector database"
   ]
  },
  {
   "cell_type": "code",
   "execution_count": 4,
   "metadata": {},
   "outputs": [],
   "source": [
    "import re\n",
    "\n",
    "from langchain_community.document_loaders import PyPDFLoader, UnstructuredMarkdownLoader\n",
    "from langchain_community.vectorstores import Qdrant\n",
    "from langchain_text_splitters import RecursiveCharacterTextSplitter\n",
    "\n",
    "document_root_path = os.path.join(ROOT_PATH, \"docs\")\n",
    "documents = [\n",
    "    \"CNS16190-zh_TW.md\",  # 0\n",
    "    \"CNS16190-zh_TW_only_provision.md\",  # 1\n",
    "    \"CNS16190-zh_TW_only_provision.pdf\",  # 2\n",
    "    \"ts_103701_only_test_scenario.pdf\",  # 3\n",
    "    \"en_303645_only_provision.pdf\",  # 4\n",
    "]\n",
    "document_idx = 4\n",
    "\n",
    "chunk_size = 1000\n",
    "chunk_overlap = 200\n",
    "model_alias = re.split(\"[-_]\", re.split(\"/\", sentence_transformer_model)[-1])[0]\n",
    "embedding_cache_path = os.path.join(ROOT_PATH, \"embedding_cache\")\n",
    "\n",
    "mode = documents[document_idx].split(\".\")[-1]\n",
    "db_collection_names = [\n",
    "    f\"CNS16190_{mode}_hf_{model_alias}_emb_{chunk_size}_{chunk_overlap}\",\n",
    "    f\"TS103701_{mode}_hf_{model_alias}_emb_{chunk_size}_{chunk_overlap}\",\n",
    "    f\"EN303645_{mode}_hf_{model_alias}_emb_{chunk_size}_{chunk_overlap}\",\n",
    "]\n",
    "db_collection_idx = db_collection_idx = next(\n",
    "    (\n",
    "        idx\n",
    "        for idx, item in enumerate(db_collection_names)\n",
    "        if item[:2].casefold() == documents[document_idx][:2].casefold()\n",
    "    ),\n",
    "    -1,\n",
    ")\n",
    "\n",
    "if mode == \"md\":\n",
    "    if os.path.isdir(\n",
    "        os.path.join(\n",
    "            embedding_cache_path, \"collection\", db_collection_names[db_collection_idx]\n",
    "        )\n",
    "    ):\n",
    "        # database already exists, load it\n",
    "        hf_vectorstore = Qdrant.from_existing_collection(\n",
    "            embedding=hf_embeddings_model,\n",
    "            path=embedding_cache_path,\n",
    "            collection_name=db_collection_names[db_collection_idx],\n",
    "        )\n",
    "    else:\n",
    "        # database does not exist, create it\n",
    "        loader = UnstructuredMarkdownLoader(\n",
    "            os.path.join(document_root_path, documents[document_idx]), mode=\"elements\"\n",
    "        )\n",
    "        doc = loader.load()\n",
    "\n",
    "        text_splitter = RecursiveCharacterTextSplitter(\n",
    "            chunk_size=1000, chunk_overlap=200\n",
    "        )\n",
    "        splits = text_splitter.split_documents(doc)\n",
    "\n",
    "        hf_vectorstore = Qdrant.from_documents(\n",
    "            splits,\n",
    "            embedding=hf_embeddings_model,\n",
    "            path=embedding_cache_path,\n",
    "            collection_name=db_collection_names[db_collection_idx],\n",
    "        )\n",
    "\n",
    "if mode == \"pdf\":\n",
    "    if os.path.isdir(\n",
    "        os.path.join(\n",
    "            embedding_cache_path, \"collection\", db_collection_names[db_collection_idx]\n",
    "        )\n",
    "    ):\n",
    "        # database already exists, load it\n",
    "        hf_vectorstore = Qdrant.from_existing_collection(\n",
    "            embedding=hf_embeddings_model,\n",
    "            path=embedding_cache_path,\n",
    "            collection_name=db_collection_names[db_collection_idx],\n",
    "        )\n",
    "    else:\n",
    "        pdf_loader = PyPDFLoader(\n",
    "            os.path.join(document_root_path, documents[document_idx])\n",
    "        )\n",
    "        pdf_doc = pdf_loader.load()\n",
    "        pdf_text_splitter = RecursiveCharacterTextSplitter(\n",
    "            chunk_size=1000, chunk_overlap=200\n",
    "        )\n",
    "        pdf_splits = pdf_text_splitter.split_documents(documents=pdf_doc)\n",
    "\n",
    "        hf_vectorstore = Qdrant.from_documents(\n",
    "            pdf_splits,\n",
    "            embedding=hf_embeddings_model,\n",
    "            path=embedding_cache_path,\n",
    "            collection_name=db_collection_names[db_collection_idx],\n",
    "        )"
   ]
  },
  {
   "cell_type": "markdown",
   "metadata": {},
   "source": [
    "# CNS16190 search"
   ]
  },
  {
   "cell_type": "code",
   "execution_count": 5,
   "metadata": {},
   "outputs": [
    {
     "data": {
      "text/plain": [
       "[{'page_content': '脆弱性揭露政策明確規定安全研究者及其他人能報告問題之過程。必要時可更新此種政策，以進\\n一步確保製造者與安全研究者往來之透明度及清晰度，反之亦然。\\n協調脆弱性揭露(CVD)係1組用以處理有關潛在安全脆弱性之揭露，並支援修復此等脆弱性的過程\\n。CVD係由國際標準化組織(ISO)於ISO/IEC29147[4]中關於脆弱性揭露之標準化，且已於全球某些大\\n型軟體公司中證明成功。\\n於IoT產業中，CVD目前尚未成熟[16]，因某些公司不願與安全研究者往來。於此，CVD為公司提供\\n框架以管理此過程。此係安全研究者對公司通報安全問題之途徑，使公司領先於惡意利用的威脅\\n，並給予公司於公開揭露前回應，並解決脆弱性之機會。\\n控制措施5.2-2：對已揭露之脆弱性宜以及時方式採取行動。\\n對脆弱性採取行動之〝及時方式〞差異甚大，且為事故特定；然而通常情況下，對軟體解決方案\\n，脆弱性處理過程係於90天內完成，包括修補程式之可用性及問題通知。以解決硬體修復可能需\\n比軟體修復較長時間。此外，與伺服器軟體修復相比，須部署至裝置之修復可能需較長時間實施\\n。\\n控制措施5.2-\\n3：製造者宜於所定義支援期間內，對其銷售及生產，以及所生產之產品及運作的\\n服務，持續監視、識別及矯正安全脆弱性。\\n備考1. \\n預期製造者將實施適當維護產品中使用之所有軟體及硬體，此包括適當維護及提供相關聯服務所\\n選定的第三方，以支援產品功能。\\n軟體解決方案通常包含開放原始碼及第三方軟體組件。建立並維護所有軟體組件及其子組件之列\\n表，係能監視產品脆弱性的先決條件。存在各種工具用以掃描原始碼及二進碼，並構建所謂軟體\\n組成清單(SBOM)，其可識別第三方組件及產品中所使用的版本。然後，此資訊用以監視各已識別\\n軟體組件之相關聯安全及使用授權的風險。\\n預期脆弱性將於第一時間直接報告受影響之利害相關者。若不可能，可將脆弱性報告主管機關。\\n亦鼓勵製造者與諸如GSMA \\n及IoT安全基金會等權責產業機構共享資訊。協調脆弱性揭露之指引，可查詢參引ISO/IEC29147[4]\\n之IoT安全基金會[22]。\\n預期於其所定義支援期間內，對裝置執行此運作。然而製造者可於該期間外繼續執行此運作並發\\n布安全更新，以矯正脆弱性。',\n",
       "  'type': 'Document',\n",
       "  'metadata': {'source': '/home/yuva/dev/Auray/docs/CNS16190-zh_TW_only_provision.pdf',\n",
       "   'page': 3,\n",
       "   '_id': '27a9aceddf92478a8b70dcb024da7338',\n",
       "   '_collection_name': 'CNS16190_pdf_hf_xiaobu_emb_1000_200'}},\n",
       " {'page_content': '提供IoT產品之製造者有責任維護，可能因未備妥CVD計畫而受傷害的消費者及第三方。此外，透\\n過產業機構共享此資訊之公司，可協助其他可能遭受相同問題的困擾者。\\n依情況而定，揭露可包括不同作法：\\n-與單一產品或服務相關之脆弱性：預期問題將直接報告受影響的利害相關者(通常為裝置\\n製造者、IoT服務提供者或行動應用程式開發者)。此等報告之來源可為安全研究者或產業\\n同儕。\\n-系統性脆弱性：利害相關者(諸如裝置製造者)可發現潛在系統性問題。雖於裝置製造者自\\n己之產品中對其修復至關重要，然共享此等資訊對產業及消費者有重大利益。同樣，安全\\n研究者亦可尋求報告此種系統性脆弱性。對系統性脆弱性，相關之權責產業機構可協調更\\n廣泛的回應。\\n備考2. 通用脆弱性報告框架(CVRF)[5]用以交換有關安全脆弱性之資訊亦屬有用。\\n網宇安全威脅資訊共享可依ETSITR103331[6]於開發及生產安全產品中支援組織。\\n5.3 保持軟體為最新\\n及時開發並部署安全更新，係製造者可採取的最重要動作之一，以保護其客戶及更廣泛的技術生\\n態系統。所有軟體保持更新並維護良好係屬良好實務作法。\\n由5.3-3至5.3-12之各控制措施取決於所實作的更新機制，依控制措施5.3-1或5.3-2。\\n控制措施5.3-1：消費者IoT裝置中之所有軟體組件宜為可安全更新。\\n備考1. 成功管理軟體更新，通常依裝置與製造者間之軟體組件的版本資訊之通訊。\\n並非裝置上之所有軟體皆為可更新。\\n例 1.裝置上第1階段啟動載入器一旦寫入裝置儲存體後，即為不可變。\\n例 2.於具數個微控制器(例：其一用於通訊，另一用於應用)之裝置上，其中某些可能無法更新。\\n控制措施5.3-2：當裝置係非受限制時，其應具用於更新之安全安裝的更新機制。\\n備考2. 於某些情況下，即使控制措施5.3-2不適用，亦適用控制措施5.3-1。\\n〝可安全更新〞及〝安全安裝〞意指具防止攻擊者錯誤使用更新機制之適切措施。',\n",
       "  'type': 'Document',\n",
       "  'metadata': {'source': '/home/yuva/dev/Auray/docs/CNS16190-zh_TW_only_provision.pdf',\n",
       "   'page': 4,\n",
       "   '_id': '16c3aa7cccd24a16b12ed310e108d2ba',\n",
       "   '_collection_name': 'CNS16190_pdf_hf_xiaobu_emb_1000_200'}},\n",
       " {'page_content': '控制措施5.6-\\n2：於初始化狀態下，裝置之網路介面應最小化未經鑑別的安全相關資訊揭露。\\n作為初始化過程之一部分，可經由網路介面暴露與安全相關的資訊。當裝置於建立連接共享與安\\n全相關之資訊時，攻擊者可能用以識別脆弱裝置。\\n例 \\n3.當於整個IP位址空間中查找(finding)脆弱裝置時，與安全相關之資訊可能為關於裝置組態、內核(\\nkernel)版本或軟體版本的資訊。\\n控制措施5.6-3：裝置硬體不宜將實體介面非必要暴露於攻擊。\\n攻擊者可能使用實體介面破壞裝置上之韌體或記憶體。〝非必要〞係指製造者對開啟用於使用者\\n功能性或除錯目的之介面的利益之評量。\\n例 4.旨在僅用於為裝置供電之micro-USB埠，於實體上組態設定為亦不容許執行命令或除錯。\\n控制措施5.6-4：若除錯介面係可實體存取，則應於軟體中停用。\\n例 \\n5.透過裝置上之啟動載入器軟體，停用UART串列介面。由於此停用，將無登入提示及互動式選單\\n。\\n控制措施5.6-\\n5：對裝置之預期用途或運作，製造者宜僅啟用其所使用或所要求的軟體服務。\\n例 6.對預期用途，製造者不提供裝置未要求之任何背景過程、內核延伸、命令、程式或工具。\\n控制措施5.6-6：程式碼宜最小化服務/裝置運作所必要之功能性。\\n例 7.移除〝失效〞或未使用之程式碼，其不視為良性程式碼。\\n控制措施5.6-7：軟體宜以最小必要特殊權限運行，同時考量安全及功能性。\\n例 \\n8.以〝根〞特殊權限運行最少常駐程式/過程。特別是使用網路介面之過程要求非特殊權限使用者\\n而要求非〝根〞使用者。\\n例9. \\n對各組件或服務，於納入多使用者作業系統(例：Linux®)之裝置上運行的應用程式，使用不同之使\\n用者。',\n",
       "  'type': 'Document',\n",
       "  'metadata': {'source': '/home/yuva/dev/Auray/docs/CNS16190-zh_TW_only_provision.pdf',\n",
       "   'page': 12,\n",
       "   '_id': '926aafb864334228a64c51277de80df0',\n",
       "   '_collection_name': 'CNS16190_pdf_hf_xiaobu_emb_1000_200'}},\n",
       " {'page_content': '控制措施5.3-\\n10：於經由網路介面傳遞更新時，裝置應經由信任關係查證各更新之真確性及完\\n整性。\\n備考3. 有效之信任關係包括：經鑑別的通訊通道、存在於要求裝置擁有關鍵安全\\n參數或通行碼方能加入之網路上、數位簽章式更新查證或使用者確認。備考4.信任關係之驗核對\\n確保未經授權個體(例：裝置管理平台或裝置)無法安裝惡意程式碼至關重要。\\n控制措施5.3-\\n11：製造者宜以可辨識且明顯之方式通知使用者，要求安全更新連同關於藉由該\\n更新所減輕風險的資訊。\\n例 10.製造者經由使用者介面上之通知或經由電子郵件，通知使用者要求更新。\\n控制措施5.3-12：當套用軟體更新，將中斷裝置之基本功能時，裝置宜通知使用者 \\n。\\n備考5.若通知係由相關聯服務所為，則此係非必要。\\n此通知可包含額外細節，諸如裝置將離線之大致預期持續時間。\\n例 11.通知包括有關緊迫性及大致預期停機時間之持續時間的資訊。\\n裝置於更新期間繼續運作對使用者至關重要。此係為何上述控制措施建議於更新可能中斷功能性\\n時通知使用者。特別是，滿足人身設備安全相關功能之裝置預期於更新情況下不完全關閉。某些\\n最小系統功能性係所預期者。若未正確考量或管理，則功能中斷可能成為某些型式裝置及系統之\\n關鍵安全問題。\\n例 \\n12.於更新期間，手錶將繼續顯示時間、家用恆溫器將繼續保持合理溫度及智慧型門鎖將繼續鎖住\\n及解鎖門。\\n控制措施5.3-\\n13：製造者應以對使用者清晰透通之可存取方式，公布所定義的支援期間。\\n於購買產品時，消費者預期釐清此期間之軟體更新支援。',\n",
       "  'type': 'Document',\n",
       "  'metadata': {'source': '/home/yuva/dev/Auray/docs/CNS16190-zh_TW_only_provision.pdf',\n",
       "   'page': 7,\n",
       "   '_id': '400d2166efa54b3d8f0346590def5db7',\n",
       "   '_collection_name': 'CNS16190_pdf_hf_xiaobu_emb_1000_200'}},\n",
       " {'page_content': '控制措施5.3-\\n6：若裝置支援自動更新及/或更新通知，則其宜於初始化狀態下啟用並可組態設定\\n，以便使用者可啟用、停用或延後安裝安全更新及/或更新通知。\\n就消費者權利及擁有權觀點而言，重要的是使用者可控制其是否收到更新。使用者可能有充分理\\n由選擇不更新，包括安全。此外，若部署更新且隨後發現導致問題，則製造者可要求使用者不升\\n級其軟體，以使此等裝置不受影響。\\n控制措施5.3-7：裝置應使用最佳實務密碼學，以有助於安全更新機制。\\n控制措施5.3-8：安全更新應及時。\\n安全更新全景中之〝及時〞可能有所不同，取決於特定問題及修復，以及其他因素，諸如接觸裝\\n置的能力或受限制裝置考量事項。重要的是，製造者以適切之優先序處置修復關鍵脆弱性(亦即具\\n大規模潛在不利影響的脆弱性)之安全更新。由於現代軟體之複雜結構及無所不在的通訊平台，安\\n全更新可能涉及多個利害相關者。\\n例 \\n8.特定軟體更新涉及軟體程式館之第三方廠商、IoT裝置製造者，以及IoT服務平台營運者。此等利\\n害相關者間之協作可確保軟體更新的適切及時性。\\n控制措施5.3-9：裝置宜查證軟體更新之真確性及完整性。\\n確認更新有效之共同作法為查證其完整性及真確性。此可於裝置上完成；然而受限制裝置可能具\\n功率限制，此使得執行密碼運算之成本甚高。於此種情況下，可由受信任執行此查證之另一裝置\\n執行查證。然後，經查證之更新將經由安全通道發送至裝置。於集線器上且然後於裝置上執行更\\n新之查證，可降低破解的風險。裝置於偵測出無效及潛在惡意更新時，採取行動係屬良好實務作\\n法。除拒絕更新外，其亦可將事故報告適切之服務及/或通知使用者。此外，可備妥減緩控制措施\\n，以防止攻擊者繞過或錯誤使用更新機制。作為更新機制之一部分，對攻擊者提供儘可能少的資\\n訊將降低其利用之能力。\\n例 \\n9.當裝置偵測出無法成功交付或適用更新時(藉由不成功之完整性或鑑別核對)，裝置可藉由不對更\\n新過程發起者提供有關不成功之任何資訊以減輕資訊洩漏。然而，裝置可產生日誌資料項，並經\\n由安全通道，將日誌資料項之通知傳遞予受信任的對等方(例：裝置管理者)，以便知悉發生事故\\n，且裝置之擁有者或管理者可做出適切回應。',\n",
       "  'type': 'Document',\n",
       "  'metadata': {'source': '/home/yuva/dev/Auray/docs/CNS16190-zh_TW_only_provision.pdf',\n",
       "   'page': 6,\n",
       "   '_id': 'b0f14dedc75e4992a02404344ae04e5a',\n",
       "   '_collection_name': 'CNS16190_pdf_hf_xiaobu_emb_1000_200'}}]"
      ]
     },
     "execution_count": 5,
     "metadata": {},
     "output_type": "execute_result"
    }
   ],
   "source": [
    "from langsmith import traceable\n",
    "\n",
    "question = \"\"\"「脆弱性揭露政策明確規定安全研究者及其他人能報告問題之過程。必要時可更新此種政策，以進一步確保製造者與安全研究者往來之透明度及清晰度，反之亦然。」\n",
    "符合哪一項控制措施？\"\"\"\n",
    "\n",
    "def _convert_docs(results):\n",
    "    return [\n",
    "        {\n",
    "            \"page_content\": r.page_content,\n",
    "            \"type\": \"Document\",\n",
    "            \"metadata\": r.metadata,\n",
    "        }\n",
    "        for r in results\n",
    "    ]\n",
    "\n",
    "@traceable(run_type=\"retriever\")\n",
    "def retrieve_docs(query):\n",
    "    relevant_docs = hf_vectorstore.search(question, search_type=\"similarity\", k=5)\n",
    "    contents = relevant_docs\n",
    "    return _convert_docs(contents)\n",
    "\n",
    "retrieve_docs(question)\n"
   ]
  },
  {
   "cell_type": "markdown",
   "metadata": {},
   "source": [
    "# TS103701 search"
   ]
  },
  {
   "cell_type": "code",
   "execution_count": 5,
   "metadata": {},
   "outputs": [
    {
     "data": {
      "text/plain": [
       "[{'page_content': 'The purpose of this test case is the functional assessment of the publication of the rationale for absence of updates and hardware replacement support.',\n",
       "  'type': 'Document',\n",
       "  'metadata': {'source': '/home/yuva/dev/Auray/docs/ts_103701_only_test_scenario.md',\n",
       "   'last_modified': '2024-08-25T21:33:02',\n",
       "   'languages': ['eng'],\n",
       "   'parent_id': 'b90f799704398e12c25fa25c8bcda41b',\n",
       "   'filetype': 'text/markdown',\n",
       "   'file_directory': '/home/yuva/dev/Auray/docs',\n",
       "   'filename': 'ts_103701_only_test_scenario.md',\n",
       "   'category': 'NarrativeText',\n",
       "   'element_id': '9d818380be1a7fe44ad7413a7233e334',\n",
       "   '_id': '1cdca2f441a940ac8b82c7474f7bec9c',\n",
       "   '_collection_name': 'TS103701_md_hf_gte_emb_1000_200'}},\n",
       " {'page_content': '5.3.4 Test Group 5.3-4 5.3.4.0 Test Group Objective 5.3.4.1 Test Case 5.3-4-1 (Conceptual) Test Purpose',\n",
       "  'type': 'Document',\n",
       "  'metadata': {'source': '/home/yuva/dev/Auray/docs/ts_103701_only_test_scenario.md',\n",
       "   'category_depth': 1,\n",
       "   'last_modified': '2024-08-25T21:33:02',\n",
       "   'languages': ['eng'],\n",
       "   'parent_id': '918ff5c626d09d70970dfcac4bda02f7',\n",
       "   'filetype': 'text/markdown',\n",
       "   'file_directory': '/home/yuva/dev/Auray/docs',\n",
       "   'filename': 'ts_103701_only_test_scenario.md',\n",
       "   'category': 'Title',\n",
       "   'element_id': 'f591e64faa7b053924873bad44992c41',\n",
       "   '_id': 'e8cc3c8d6e4e498b8ee0879932be7107',\n",
       "   '_collection_name': 'TS103701_md_hf_gte_emb_1000_200'}},\n",
       " {'page_content': '5.5.2.2 Test Case 5.5-2-2 (Functional) Test Purpose Test Units Assignment Of Verdict',\n",
       "  'type': 'Document',\n",
       "  'metadata': {'source': '/home/yuva/dev/Auray/docs/ts_103701_only_test_scenario.md',\n",
       "   'category_depth': 1,\n",
       "   'last_modified': '2024-08-25T21:33:02',\n",
       "   'languages': ['eng'],\n",
       "   'parent_id': 'b90f799704398e12c25fa25c8bcda41b',\n",
       "   'filetype': 'text/markdown',\n",
       "   'file_directory': '/home/yuva/dev/Auray/docs',\n",
       "   'filename': 'ts_103701_only_test_scenario.md',\n",
       "   'category': 'Title',\n",
       "   'element_id': '4052d5ccec4adeebb1b31773759c1e03',\n",
       "   '_id': 'e25e96a606f24047a578b017d3fe4b7e',\n",
       "   '_collection_name': 'TS103701_md_hf_gte_emb_1000_200'}},\n",
       " {'page_content': '5.8.3.1 Test Case 5.8-3-1 (Functional) Test Purpose',\n",
       "  'type': 'Document',\n",
       "  'metadata': {'source': '/home/yuva/dev/Auray/docs/ts_103701_only_test_scenario.md',\n",
       "   'category_depth': 1,\n",
       "   'last_modified': '2024-08-25T21:33:02',\n",
       "   'languages': ['eng'],\n",
       "   'parent_id': '4b213077fd8662e268249d9175c669ca',\n",
       "   'filetype': 'text/markdown',\n",
       "   'file_directory': '/home/yuva/dev/Auray/docs',\n",
       "   'filename': 'ts_103701_only_test_scenario.md',\n",
       "   'category': 'Title',\n",
       "   'element_id': '82ac9497d8065f85fb220430c7d8eafd',\n",
       "   '_id': '5fc76191083d432d895d60aeb1319f98',\n",
       "   '_collection_name': 'TS103701_md_hf_gte_emb_1000_200'}},\n",
       " {'page_content': '5.5.6.1 Test Case 5.5-6-1 (Conceptual) Test Purpose Test Units',\n",
       "  'type': 'Document',\n",
       "  'metadata': {'source': '/home/yuva/dev/Auray/docs/ts_103701_only_test_scenario.md',\n",
       "   'category_depth': 1,\n",
       "   'last_modified': '2024-08-25T21:33:02',\n",
       "   'languages': ['eng'],\n",
       "   'parent_id': 'b90f799704398e12c25fa25c8bcda41b',\n",
       "   'filetype': 'text/markdown',\n",
       "   'file_directory': '/home/yuva/dev/Auray/docs',\n",
       "   'filename': 'ts_103701_only_test_scenario.md',\n",
       "   'category': 'Title',\n",
       "   'element_id': '7b38c0998d23f7b4d590c0f069d76374',\n",
       "   '_id': '4b54528d88d34faf966d4c5cbd95809a',\n",
       "   '_collection_name': 'TS103701_md_hf_gte_emb_1000_200'}}]"
      ]
     },
     "execution_count": 5,
     "metadata": {},
     "output_type": "execute_result"
    }
   ],
   "source": [
    "from langsmith import traceable\n",
    "\n",
    "# 5.3.14.2\n",
    "question = \"\"\"「The purpose of this test case is the functional assessment of the publication of the rationale for absence of updates and \n",
    "hardware replacement support.」\n",
    "1. 符合哪一項 Test group？\n",
    "2. 這個 Test group 的 Test purpose 是什麼？\n",
    "3. 這個 Test group 的 Test units 是什麼？\n",
    "4. 這個 Test group 的  Assignment of verdict 是什麼？\"\"\"\n",
    "\n",
    "def _convert_docs(results):\n",
    "    return [\n",
    "        {\n",
    "            \"page_content\": r.page_content,\n",
    "            \"type\": \"Document\",\n",
    "            \"metadata\": r.metadata,\n",
    "        }\n",
    "        for r in results\n",
    "    ]\n",
    "\n",
    "@traceable(run_type=\"retriever\")\n",
    "def retrieve_docs(query):\n",
    "    relevant_docs = hf_vectorstore.search(question, search_type=\"similarity\", k=5)\n",
    "    contents = relevant_docs\n",
    "    return _convert_docs(contents)\n",
    "\n",
    "retrieve_docs(question)"
   ]
  },
  {
   "cell_type": "markdown",
   "metadata": {},
   "source": [
    "# EN303645 search"
   ]
  },
  {
   "cell_type": "code",
   "execution_count": 5,
   "metadata": {},
   "outputs": [
    {
     "data": {
      "text/plain": [
       "[{'page_content': 'ETSI ETSI EN 303 645 V2.1.1 (2020 -06) 15  \\nProvision 5.2-3 Manufacturers should continually monitor for, identify and rectify security vulnerabilities within \\nproducts and services they sell, produce, have produced and services they operate during the defined support period. \\nNOTE 1: Manufacturers are expected to exercise due care for all software and hardware components used in the \\nproduct, this includes due care related to the selected third parties that provide associated services to \\nsupport the functions of the product.',\n",
       "  'type': 'Document',\n",
       "  'metadata': {'source': '/home/yuva7508/Auray/docs/en_303645_only_provision.pdf',\n",
       "   'page': 2,\n",
       "   '_id': '5757047ce1714f398a7f359a7b198fb4',\n",
       "   '_collection_name': 'EN303645_pdf_hf_gte_emb_1000_200'}},\n",
       " {'page_content': 'Vulnerabilities are expected to be reported directly to the affected stakeholders in the first instance. If that is not \\npossible, vulnerabilities can be reported to national authorities. Manufacturers are also encouraged to share information with competent industry bodies, such as the GSMA [i.21] and the IoT Security Foundation. Guidance on Coordinated Vulnerability Disclosure is available from the IoT Securi ty Foundation [i.22] which references ISO/IEC 29147 [i.4]. \\nThis is expected to be performed for devices within their defined support period. However, manufacturers can continue this outside that period and release security updates to rectify vulnerabilities. \\nManufacturers that provide IoT products have a duty of care to consumers and third parties who can be harmed by their \\nfailure to have a CVD programme in place. Additionally, comp anies that share this information through industry bodies \\ncan assist others who can be suffering from the same problem.',\n",
       "  'type': 'Document',\n",
       "  'metadata': {'source': '/home/yuva7508/Auray/docs/en_303645_only_provision.pdf',\n",
       "   'page': 2,\n",
       "   '_id': 'c77957d3f0ef4e839feea9fdd1042aa5',\n",
       "   '_collection_name': 'EN303645_pdf_hf_gte_emb_1000_200'}},\n",
       " {'page_content': 'to report such systemic vulnerabilities. For systemic vulnerabilities, a relevant competent industry body can coordinate a wider scale response. \\nNOTE 2: The Common Vulnerability Reporting Framework (CVRF) [i.5] can also be useful to exchange \\ninformation on security vulnerabilities. \\nCyber security threat information sharing can support organizations in developing and producing secure products according to ETSI TR 103 331 [i.6]. \\n5.3 Keep software updated \\nDeveloping and deploying security updates in a timely manner is one of the most important actions a manufacturer can take to protect its customers and the wider technical ecosystem. It is good practice that all software is kept updated and well maintained. \\nEach provision from 5.3-3 to 5.3-12 is dependent upon an update mechanism being implemented, as per \\nprovision 5.3-1 or 5.3-2. \\nProvision 5.3-1 All software components in consumer IoT devices should be securely updateable.',\n",
       "  'type': 'Document',\n",
       "  'metadata': {'source': '/home/yuva7508/Auray/docs/en_303645_only_provision.pdf',\n",
       "   'page': 2,\n",
       "   '_id': 'df86260fef2e4be4846a33e115697bd2',\n",
       "   '_collection_name': 'EN303645_pdf_hf_gte_emb_1000_200'}},\n",
       " {'page_content': '2) status updates until the resolution of the reported issues. \\nA vulnerability disclosure policy clearly sp ecifies the process through which security researchers and others are able to \\nreport issues. Such policy can be updated as necessary to furt her ensure transparency and clarity in the dealings of the \\nmanufacturer with security researchers, and vice versa. \\nCoordinated Vulnerability Disclosure (CVD) is a set of processes for dealing with disclosures about potential security \\nvulnerabilities and to support the remediation of these vuln erabilities. CVD is standardized by the International \\nOrganization for Standardization (ISO) in the ISO/IEC 29147 [i.4] on vulnerability disclosure and has been proven to be successful in some large software companies around the world. \\nIn the IoT industry, CVD is currently not well-established [i.16] as some companies are reticent about dealing with',\n",
       "  'type': 'Document',\n",
       "  'metadata': {'source': '/home/yuva7508/Auray/docs/en_303645_only_provision.pdf',\n",
       "   'page': 1,\n",
       "   '_id': 'ae0649c4ae2b46b6a980801eac5971c0',\n",
       "   '_collection_name': 'EN303645_pdf_hf_gte_emb_1000_200'}},\n",
       " {'page_content': 'Provision 5.3-13 The manufacturer shall publish, in an accessible way that is clear and transparent to the user, the \\ndefined support period. \\nWhen purchasing a product, the consumer expects this period of software update support to be made clear. \\nProvision 5.3-14 For constrained devices that cannot have their software updated, the rationale for the absence of \\nsoftware updates, the period and method of hardware re placement support and a defined support period should be \\npublished by the manufacturer in an accessible way that is clear and transparent to the user. \\nProvision 5.3-15 For constrained devices that cannot have their software updated, the product should be isolable and \\nthe hardware replaceable. There are some situations where devices cannot be patched. For constrained devices a replacement plan needs to be in \\nplace and be clearly communicated to the consumer. This plan  would typically detail a schedule for when technologies',\n",
       "  'type': 'Document',\n",
       "  'metadata': {'source': '/home/yuva7508/Auray/docs/en_303645_only_provision.pdf',\n",
       "   'page': 5,\n",
       "   '_id': 'fd84446f91a94ec8b2c28586a6c8997a',\n",
       "   '_collection_name': 'EN303645_pdf_hf_gte_emb_1000_200'}}]"
      ]
     },
     "execution_count": 5,
     "metadata": {},
     "output_type": "execute_result"
    }
   ],
   "source": [
    "from langsmith import traceable\n",
    "\n",
    "question = \"\"\"「Manufacturers should continually monitor for, identify and rectify security vulnerabilities within \n",
    "products and services they sell, produce, have produced and services they operate during the defined support period.」\n",
    "符合哪一項 provision？\"\"\"\n",
    "\n",
    "def _convert_docs(results):\n",
    "    return [\n",
    "        {\n",
    "            \"page_content\": r.page_content,\n",
    "            \"type\": \"Document\",\n",
    "            \"metadata\": r.metadata,\n",
    "        }\n",
    "        for r in results\n",
    "    ]\n",
    "\n",
    "@traceable(run_type=\"retriever\")\n",
    "def retrieve_docs(query):\n",
    "    relevant_docs = hf_vectorstore.search(question, search_type=\"similarity\", k=5)\n",
    "    contents = relevant_docs\n",
    "    return _convert_docs(contents)\n",
    "\n",
    "retrieve_docs(question)"
   ]
  }
 ],
 "metadata": {
  "kernelspec": {
   "display_name": ".venv",
   "language": "python",
   "name": "python3"
  },
  "language_info": {
   "codemirror_mode": {
    "name": "ipython",
    "version": 3
   },
   "file_extension": ".py",
   "mimetype": "text/x-python",
   "name": "python",
   "nbconvert_exporter": "python",
   "pygments_lexer": "ipython3",
   "version": "3.11.8"
  }
 },
 "nbformat": 4,
 "nbformat_minor": 2
}
