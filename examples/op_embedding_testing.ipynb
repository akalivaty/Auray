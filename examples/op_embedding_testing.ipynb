{
 "cells": [
  {
   "cell_type": "code",
   "execution_count": 1,
   "metadata": {},
   "outputs": [
    {
     "data": {
      "text/plain": [
       "True"
      ]
     },
     "execution_count": 1,
     "metadata": {},
     "output_type": "execute_result"
    }
   ],
   "source": [
    "import dotenv\n",
    "\n",
    "dotenv.load_dotenv()"
   ]
  },
  {
   "cell_type": "code",
   "execution_count": 2,
   "metadata": {},
   "outputs": [
    {
     "data": {
      "text/plain": [
       "'e:\\\\dev\\\\auray'"
      ]
     },
     "execution_count": 2,
     "metadata": {},
     "output_type": "execute_result"
    }
   ],
   "source": [
    "import os\n",
    "\n",
    "root_path = os.path.join(os.path.abspath(os.sep), \"dev\", \"auray\")\n",
    "root_path"
   ]
  },
  {
   "cell_type": "markdown",
   "metadata": {},
   "source": [
    "# Build OP vector database"
   ]
  },
  {
   "cell_type": "code",
   "execution_count": 3,
   "metadata": {},
   "outputs": [],
   "source": [
    "from langchain_community.document_loaders import UnstructuredMarkdownLoader\n",
    "from langchain_community.vectorstores import Qdrant\n",
    "from langchain_text_splitters import RecursiveCharacterTextSplitter\n",
    "from langchain_community.document_loaders import PyPDFLoader\n",
    "from langchain_openai import OpenAIEmbeddings\n",
    "\n",
    "import re\n",
    "\n",
    "document_root_path = os.path.join(root_path, \"docs\")\n",
    "documents = [\n",
    "    \"CNS16190-zh_TW.md\", \n",
    "    \"CNS16190-zh_TW_only_provision.md\", \n",
    "    \"ts_103701_only_test_scenario.pdf\",\n",
    "    \"en_303645_only_provision.pdf\"\n",
    "    ]\n",
    "document_idx = 3\n",
    "\n",
    "chunk_size = 1000\n",
    "chunk_overlap = 200\n",
    "embedding_cache_path = os.path.join(root_path, \"embedding_cache\")\n",
    "\n",
    "mode = documents[document_idx].split(\".\")[-1]\n",
    "db_collection_names = [\n",
    "    f\"CNS16190_{mode}_op_emb_{chunk_size}_{chunk_overlap}\",\n",
    "    f\"TS103701_{mode}_op_emb_{chunk_size}_{chunk_overlap}\",\n",
    "    f\"EN303645_{mode}_op_emb_{chunk_size}_{chunk_overlap}\",\n",
    "    ]\n",
    "db_collection_idx = 2\n",
    "\n",
    "\n",
    "if mode == \"md\":\n",
    "    if os.path.isdir(\n",
    "        os.path.join(\n",
    "            embedding_cache_path, \"collection\", db_collection_names[db_collection_idx]\n",
    "        )\n",
    "    ):\n",
    "        # database already exists, load it\n",
    "        hf_vectorstore = Qdrant.from_existing_collection(\n",
    "            embedding=OpenAIEmbeddings(),\n",
    "            path=embedding_cache_path,\n",
    "            collection_name=db_collection_names[db_collection_idx],\n",
    "        )\n",
    "    else:\n",
    "        # database does not exist, create it\n",
    "        loader = UnstructuredMarkdownLoader(\n",
    "            os.path.join(document_root_path, documents[document_idx]), mode=\"elements\"\n",
    "        )\n",
    "        doc = loader.load()\n",
    "\n",
    "        text_splitter = RecursiveCharacterTextSplitter(chunk_size=1000, chunk_overlap=200)\n",
    "        splits = text_splitter.split_documents(doc)\n",
    "\n",
    "        hf_vectorstore = Qdrant.from_documents(\n",
    "            splits,\n",
    "            embedding=OpenAIEmbeddings(),\n",
    "            path=embedding_cache_path,\n",
    "            collection_name=db_collection_names[db_collection_idx],\n",
    "        )\n",
    "\n",
    "if mode == \"pdf\":\n",
    "    if os.path.isdir(\n",
    "        os.path.join(\n",
    "            embedding_cache_path, \"collection\", db_collection_names[db_collection_idx]\n",
    "        )\n",
    "    ):\n",
    "        # database already exists, load it\n",
    "        hf_vectorstore = Qdrant.from_existing_collection(\n",
    "            embedding=OpenAIEmbeddings(),\n",
    "            path=embedding_cache_path,\n",
    "            collection_name=db_collection_names[db_collection_idx],\n",
    "        )\n",
    "    else:\n",
    "        pdf_loader = PyPDFLoader(os.path.join(document_root_path, documents[document_idx]))\n",
    "        pdf_doc = pdf_loader.load()\n",
    "        pdf_text_splitter = RecursiveCharacterTextSplitter(chunk_size=1000, chunk_overlap=200)\n",
    "        pdf_splits = pdf_text_splitter.split_documents(documents=pdf_doc)\n",
    "\n",
    "        hf_vectorstore = Qdrant.from_documents(\n",
    "            pdf_splits,\n",
    "            embedding=OpenAIEmbeddings(),\n",
    "            path=embedding_cache_path,\n",
    "            collection_name=db_collection_names[db_collection_idx],\n",
    "        )"
   ]
  },
  {
   "cell_type": "markdown",
   "metadata": {},
   "source": [
    "# CNS16190 search"
   ]
  },
  {
   "cell_type": "code",
   "execution_count": 4,
   "metadata": {},
   "outputs": [
    {
     "data": {
      "text/plain": [
       "[{'page_content': '脆弱性揭露政策明確規定安全研究者及其他人能報告問題之過程。必要時可更新此種政策，以進一步確保製造者與安全研究者往來之透明度及清晰度，反之亦然。',\n",
       "  'type': 'Document',\n",
       "  'metadata': {'source': 'e:\\\\dev\\\\auray\\\\docs\\\\CNS16190-zh_TW_only_provision.md',\n",
       "   'category_depth': 0,\n",
       "   'last_modified': '2024-07-15T22:24:39',\n",
       "   'languages': ['kor'],\n",
       "   'filetype': 'text/markdown',\n",
       "   'file_directory': 'e:\\\\dev\\\\auray\\\\docs',\n",
       "   'filename': 'CNS16190-zh_TW_only_provision.md',\n",
       "   'category': 'Title',\n",
       "   '_id': 'ac69623fd8004319a3d03ad922f5cef2',\n",
       "   '_collection_name': 'CNS16190_md_op_emb_1000_200'}},\n",
       " {'page_content': '控制措施5.2-1：製造者應使脆弱性揭露政策公開可用。此政策至少應包括：',\n",
       "  'type': 'Document',\n",
       "  'metadata': {'source': 'e:\\\\dev\\\\auray\\\\docs\\\\CNS16190-zh_TW_only_provision.md',\n",
       "   'category_depth': 2,\n",
       "   'last_modified': '2024-07-15T22:24:39',\n",
       "   'languages': ['kor'],\n",
       "   'parent_id': '64f958134b1d92241fc9322cf1505867',\n",
       "   'filetype': 'text/markdown',\n",
       "   'file_directory': 'e:\\\\dev\\\\auray\\\\docs',\n",
       "   'filename': 'CNS16190-zh_TW_only_provision.md',\n",
       "   'category': 'Title',\n",
       "   '_id': 'a8d51adbea564cae8a7978f8f2f65b41',\n",
       "   '_collection_name': 'CNS16190_md_op_emb_1000_200'}},\n",
       " {'page_content': '系統性脆弱性：利害相關者(諸如裝置製造者)可發現潛在系統性問題。雖於裝置製造者自己之產品中對其修復至關重要，然共享此等資訊對產業及消費者有重大利益。同樣，安全研究者亦可尋求報告此種系統性脆弱性。對系統性脆弱性，相關之權責產業機構可協調更廣泛的回應。',\n",
       "  'type': 'Document',\n",
       "  'metadata': {'source': 'e:\\\\dev\\\\auray\\\\docs\\\\CNS16190-zh_TW_only_provision.md',\n",
       "   'category_depth': 1,\n",
       "   'last_modified': '2024-07-15T22:24:39',\n",
       "   'languages': ['kor'],\n",
       "   'parent_id': '7f9a09e9ad76eee9848bf6c06b923a38',\n",
       "   'filetype': 'text/markdown',\n",
       "   'file_directory': 'e:\\\\dev\\\\auray\\\\docs',\n",
       "   'filename': 'CNS16190-zh_TW_only_provision.md',\n",
       "   'category': 'ListItem',\n",
       "   '_id': '2188558e8a504f2d928d26e8e1344024',\n",
       "   '_collection_name': 'CNS16190_md_op_emb_1000_200'}},\n",
       " {'page_content': '預期脆弱性將於第一時間直接報告受影響之利害相關者。若不可能，可將脆弱性報告主管機關。亦鼓勵製造者與諸如GSMA 及IoT安全基金會等權責產業機構共享資訊。協調脆弱性揭露之指引，可查詢參引ISO/IEC29147[4]之IoT安全基金會[22]。',\n",
       "  'type': 'Document',\n",
       "  'metadata': {'source': 'e:\\\\dev\\\\auray\\\\docs\\\\CNS16190-zh_TW_only_provision.md',\n",
       "   'last_modified': '2024-07-15T22:24:39',\n",
       "   'languages': ['kor'],\n",
       "   'parent_id': '775a78565bc01b2b3874d91120df2705',\n",
       "   'filetype': 'text/markdown',\n",
       "   'file_directory': 'e:\\\\dev\\\\auray\\\\docs',\n",
       "   'filename': 'CNS16190-zh_TW_only_provision.md',\n",
       "   'category': 'NarrativeText',\n",
       "   '_id': 'adc2f41365db4e92b9c9a35c74c21df2',\n",
       "   '_collection_name': 'CNS16190_md_op_emb_1000_200'}},\n",
       " {'page_content': '控制措施5.2-3：製造者宜於所定義支援期間內，對其銷售及生產，以及所生產之產品及運作的服務，持續監視、識別及矯正安全脆弱性。',\n",
       "  'type': 'Document',\n",
       "  'metadata': {'source': 'e:\\\\dev\\\\auray\\\\docs\\\\CNS16190-zh_TW_only_provision.md',\n",
       "   'category_depth': 2,\n",
       "   'last_modified': '2024-07-15T22:24:39',\n",
       "   'languages': ['kor'],\n",
       "   'parent_id': '27dbe0e6c72fe049f4dadac3e75c081d',\n",
       "   'filetype': 'text/markdown',\n",
       "   'file_directory': 'e:\\\\dev\\\\auray\\\\docs',\n",
       "   'filename': 'CNS16190-zh_TW_only_provision.md',\n",
       "   'category': 'Title',\n",
       "   '_id': '98f7c59e0a0f4850b54f46735d9475c6',\n",
       "   '_collection_name': 'CNS16190_md_op_emb_1000_200'}}]"
      ]
     },
     "execution_count": 4,
     "metadata": {},
     "output_type": "execute_result"
    }
   ],
   "source": [
    "from langsmith import traceable\n",
    "\n",
    "question = \"\"\"「脆弱性揭露政策明確規定安全研究者及其他人能報告問題之過程。必要時可更新此種政策，以進一步確保製造者與安全研究者往來之透明度及清晰度，反之亦然。」\n",
    "符合哪一項控制措施？\"\"\"\n",
    "\n",
    "def _convert_docs(results):\n",
    "    return [\n",
    "        {\n",
    "            \"page_content\": r.page_content,\n",
    "            \"type\": \"Document\",\n",
    "            \"metadata\": r.metadata,\n",
    "        }\n",
    "        for r in results\n",
    "    ]\n",
    "\n",
    "@traceable(run_type=\"retriever\")\n",
    "def retrieve_docs(query):\n",
    "    relevant_docs = hf_vectorstore.search(question, search_type=\"similarity\", k=5)\n",
    "    contents = relevant_docs\n",
    "    return _convert_docs(contents)\n",
    "\n",
    "retrieve_docs(question)\n"
   ]
  },
  {
   "cell_type": "markdown",
   "metadata": {},
   "source": [
    "# TS103701 search"
   ]
  },
  {
   "cell_type": "code",
   "execution_count": 4,
   "metadata": {},
   "outputs": [
    {
     "data": {
      "text/plain": [
       "[{'page_content': 'Assignment of verdict \\nThe verdict PASS is assigned if: \\n• the access to the resource for publishing the defined support period to the user is provided as described in the \\nIXIT; and \\n• the access to the resource for publishing the defined support period is unrestricted; and \\n• the defined support period is published. \\nThe verdict FAIL is assigned otherwise. \\n5.3.14 Test group 5.3-14 \\n5.3.14.0 Test group objective \\nThe test group addresses the provision 5.3-14. \\n5.3.14.1 Test case 5.3-14-1 (conceptual) \\nTest purpose \\nThe purpose of this test case is the conceptual assessment of the publication of the rationale for absence of updates and \\nhardware replacement support.',\n",
       "  'type': 'Document',\n",
       "  'metadata': {'source': 'e:\\\\dev\\\\auray\\\\docs\\\\ts_103701_split.pdf',\n",
       "   'page': 21,\n",
       "   '_id': 'f4002067866142dfb76d23d626427dee',\n",
       "   '_collection_name': 'TS103701_pdf_op_emb_1000_200'}},\n",
       " {'page_content': 'ETSI ETSI TS 103 701 V1.1.1  (2021 -08) 45  \\nTest units \\na) The TL shall  assess whether the access to the \"Publication of Non-Updatable\" and \"Documentation of \\nReplacement\" in IXIT 2-UserInfo is understandable for a user with limited technical knowledge (see \\nclause D.3). \\nAssignment of verdict \\nThe verdict PASS is assigned if: \\n• the publication of the rationale for absence of updates and hardware replacement support is understandable for \\na user with limited technical knowledge. \\nThe verdict FAIL is assigned otherwise. \\n5.3.14.2 Test case 5.3-14-2 (functional) \\nTest purpose \\nThe purpose of this test case is the functional assessment of the publication of the rationale for absence of updates and \\nhardware replacement support. \\nTest units \\na) The TL shall  functionally check whether the user information on accessing the resource for the rationale for \\nabsence of updates and publishing the hardware  replacement support according to \"Publication of',\n",
       "  'type': 'Document',\n",
       "  'metadata': {'source': 'e:\\\\dev\\\\auray\\\\docs\\\\ts_103701_split.pdf',\n",
       "   'page': 22,\n",
       "   '_id': 'b1b12e654b5f42f0bae5e67074a9875f',\n",
       "   '_collection_name': 'TS103701_pdf_op_emb_1000_200'}},\n",
       " {'page_content': 'knowledge (see clause D.3). \\nAssignment of verdict \\nThe verdict PASS is assigned if: \\n• each software component is covered by at least one update mechanism, which is simple for the user to apply. \\nThe verdict FAIL is assigned otherwise. \\n5.3.4 Test group 5.3-4 \\n5.3.4.0 Test group objective \\nThe test group addresses the provision 5.3-4. \\nAutomatic mechanisms for software updates consider the checking for update availability and performing the update. \\nThe focus of the provision is on triggering the update from the user perspective and verifying whether the user is \\nprovided with the ability to update all software components automatically. This case is given if each software component is updatable with at least one automatic update mechanism. \\n5.3.4.1 Test case 5.3-4-1 (conceptual) \\nTest purpose \\nThe purpose of this test case is the conceptual assessment of the update mechanisms concerning automatic mechanisms.',\n",
       "  'type': 'Document',\n",
       "  'metadata': {'source': 'e:\\\\dev\\\\auray\\\\docs\\\\ts_103701_split.pdf',\n",
       "   'page': 12,\n",
       "   '_id': 'f1044d65c89345d796988d041bcc185e',\n",
       "   '_collection_name': 'TS103701_pdf_op_emb_1000_200'}},\n",
       " {'page_content': '• the user notification is realized on the DUT itself. \\nThe verdict FAIL is assigned otherwise. \\n5.3.13 Test group 5.3-13 \\n5.3.13.0 Test group objective \\nThe test group addresses the provision 5.3-13. \\nThe defined support period describes the time span during which the manufacturer provides support regarding software \\nupdates. The defined software update support period is expected to be published even when no software updates are supported, in which case it indicates the absence of software updates. \\n5.3.13.1 Test case 5.3-13-1 (conceptual) \\nTest purpose \\nThe purpose of this test case is the conceptual assessment of the publication of the defined support period.',\n",
       "  'type': 'Document',\n",
       "  'metadata': {'source': 'e:\\\\dev\\\\auray\\\\docs\\\\ts_103701_split.pdf',\n",
       "   'page': 20,\n",
       "   '_id': '2a7d845a5b1146d8a5699748d09ff311',\n",
       "   '_collection_name': 'TS103701_pdf_op_emb_1000_200'}},\n",
       " {'page_content': '5.3.12.0 Test group objective \\nThe test group addresses the provision 5.3-12. \\nNOTE: When the basic functioning of the DUT is never disrupted by a software update, no user notification is \\nnecessary. In such a situation the test cases of this test group are fulfilled. \\n5.3.12.1 Test case 5.3-12-1 (conceptual) \\nTest purpose \\nThe purpose of this test case is the conceptual assessment of user notifications in case of disruptive software updates. \\nTest units \\na) The TL shall  check whether each update mechanism in IXIT 7-UpdMech supports user notification in case of \\ndisruptive software updates according to \"User Notification\"  and it is indicated as realized on the DUT itself. \\nAssignment of verdict \\nThe verdict PASS is assigned if for each update mechanism: \\n• the user is appropriately notified about the disruption of basic functioning during the software update; and \\n• the user notification is realized on the DUT itself. \\nThe verdict FAIL is assigned otherwise.',\n",
       "  'type': 'Document',\n",
       "  'metadata': {'source': 'e:\\\\dev\\\\auray\\\\docs\\\\ts_103701_split.pdf',\n",
       "   'page': 20,\n",
       "   '_id': 'b8b1a844eab74875b561c36e17b1c33f',\n",
       "   '_collection_name': 'TS103701_pdf_op_emb_1000_200'}}]"
      ]
     },
     "execution_count": 4,
     "metadata": {},
     "output_type": "execute_result"
    }
   ],
   "source": [
    "from langsmith import traceable\n",
    "\n",
    "question = \"\"\"「The purpose of this test case is the functional assessment of the publication of the rationale for absence of updates and \n",
    "hardware replacement support.」\n",
    "1. 符合哪一項 Test group？\n",
    "2. 這個 Test group 的 Test purpose 是什麼？\n",
    "3. 這個 Test group 的 Test units 是什麼？\n",
    "4. 這個 Test group 的  Assignment of verdict 是什麼？\"\"\"\n",
    "\n",
    "def _convert_docs(results):\n",
    "    return [\n",
    "        {\n",
    "            \"page_content\": r.page_content,\n",
    "            \"type\": \"Document\",\n",
    "            \"metadata\": r.metadata,\n",
    "        }\n",
    "        for r in results\n",
    "    ]\n",
    "\n",
    "@traceable(run_type=\"retriever\")\n",
    "def retrieve_docs(query):\n",
    "    relevant_docs = hf_vectorstore.search(question, search_type=\"similarity\", k=5)\n",
    "    contents = relevant_docs\n",
    "    return _convert_docs(contents)\n",
    "\n",
    "retrieve_docs(question)"
   ]
  },
  {
   "cell_type": "markdown",
   "metadata": {},
   "source": [
    "# EN303645 search"
   ]
  },
  {
   "cell_type": "code",
   "execution_count": 4,
   "metadata": {},
   "outputs": [
    {
     "data": {
      "text/plain": [
       "[{'page_content': 'ETSI ETSI EN 303 645 V2.1.1 (2020 -06) 15  \\nProvision 5.2-3 Manufacturers should continually monitor for, identify and rectify security vulnerabilities within \\nproducts and services they sell, produce, have produced and services they operate during the defined support period. \\nNOTE 1: Manufacturers are expected to exercise due care for all software and hardware components used in the \\nproduct, this includes due care related to the selected third parties that provide associated services to \\nsupport the functions of the product.',\n",
       "  'type': 'Document',\n",
       "  'metadata': {'source': 'e:\\\\dev\\\\auray\\\\docs\\\\en_303645_only_provision.pdf',\n",
       "   'page': 2,\n",
       "   '_id': 'fcb222214b2e4a7ab944b3e93bd9600f',\n",
       "   '_collection_name': 'EN303645_pdf_op_emb_1000_200'}},\n",
       " {'page_content': 'Provision 5.3-13 The manufacturer shall publish, in an accessible way that is clear and transparent to the user, the \\ndefined support period. \\nWhen purchasing a product, the consumer expects this period of software update support to be made clear. \\nProvision 5.3-14 For constrained devices that cannot have their software updated, the rationale for the absence of \\nsoftware updates, the period and method of hardware re placement support and a defined support period should be \\npublished by the manufacturer in an accessible way that is clear and transparent to the user. \\nProvision 5.3-15 For constrained devices that cannot have their software updated, the product should be isolable and \\nthe hardware replaceable. There are some situations where devices cannot be patched. For constrained devices a replacement plan needs to be in \\nplace and be clearly communicated to the consumer. This plan  would typically detail a schedule for when technologies',\n",
       "  'type': 'Document',\n",
       "  'metadata': {'source': 'e:\\\\dev\\\\auray\\\\docs\\\\en_303645_only_provision.pdf',\n",
       "   'page': 5,\n",
       "   '_id': 'bd1120991c4443d0b7266c3c68e0a308',\n",
       "   '_collection_name': 'EN303645_pdf_op_emb_1000_200'}},\n",
       " {'page_content': 'to report such systemic vulnerabilities. For systemic vulnerabilities, a relevant competent industry body can coordinate a wider scale response. \\nNOTE 2: The Common Vulnerability Reporting Framework (CVRF) [i.5] can also be useful to exchange \\ninformation on security vulnerabilities. \\nCyber security threat information sharing can support organizations in developing and producing secure products according to ETSI TR 103 331 [i.6]. \\n5.3 Keep software updated \\nDeveloping and deploying security updates in a timely manner is one of the most important actions a manufacturer can take to protect its customers and the wider technical ecosystem. It is good practice that all software is kept updated and well maintained. \\nEach provision from 5.3-3 to 5.3-12 is dependent upon an update mechanism being implemented, as per \\nprovision 5.3-1 or 5.3-2. \\nProvision 5.3-1 All software components in consumer IoT devices should be securely updateable.',\n",
       "  'type': 'Document',\n",
       "  'metadata': {'source': 'e:\\\\dev\\\\auray\\\\docs\\\\en_303645_only_provision.pdf',\n",
       "   'page': 2,\n",
       "   '_id': '146b86f591944b52b3c0200a3881e784',\n",
       "   '_collection_name': 'EN303645_pdf_op_emb_1000_200'}},\n",
       " {'page_content': 'product, this includes due care related to the selected third parties that provide associated services to \\nsupport the functions of the product. \\nSoftware solutions often contain open source and third party software components. Creating and maintaining list of all software components and their sub-components is a pre-requisite to be able to monitor for product vulnerabilities. Various tools exist to scan source code and binaries and build a so-called Software Bill of Materials (SBOM), which identifies third party components and the versions used in the product. This information is then used to monitor for the associated security and licensing risks of each identified software component. \\nVulnerabilities are expected to be reported directly to the affected stakeholders in the first instance. If that is not',\n",
       "  'type': 'Document',\n",
       "  'metadata': {'source': 'e:\\\\dev\\\\auray\\\\docs\\\\en_303645_only_provision.pdf',\n",
       "   'page': 2,\n",
       "   '_id': '56280eb6c39e437c9b3dbc020db16482',\n",
       "   '_collection_name': 'EN303645_pdf_op_emb_1000_200'}},\n",
       " {'page_content': 'Provision 5.3-8 Security updates shall be timely. \\n\"Timely\" in the context of security updates can vary, depending on the particular issue and fix, as well as other factors \\nsuch as the ability to reach a device or constrained device considerations. It is important that a security update that fixes a critical vulnerability (i.e. one with potentially adverse effects of a large scale) is handled with appropriate priority by the manufacturer. Due to the complex structure of modern software and the ubiquity of communication platforms, multiple stakeholders can be involved in a security update. \\nEXAMPLE 8: A particular software update involves a third party vendor of software libraries, an IoT device \\nmanufacturer, and an IoT service platform operato r. Collaboration between these stakeholders \\nensures appropriate timeliness of the software update. \\nProvision 5.3-9 The device should verify the authenticity and integrity of software updates.',\n",
       "  'type': 'Document',\n",
       "  'metadata': {'source': 'e:\\\\dev\\\\auray\\\\docs\\\\en_303645_only_provision.pdf',\n",
       "   'page': 4,\n",
       "   '_id': '729328a13add4ab3a189555db0d9116e',\n",
       "   '_collection_name': 'EN303645_pdf_op_emb_1000_200'}}]"
      ]
     },
     "execution_count": 4,
     "metadata": {},
     "output_type": "execute_result"
    }
   ],
   "source": [
    "from langsmith import traceable\n",
    "\n",
    "question = \"\"\"「Manufacturers should continually monitor for, identify and rectify security vulnerabilities within \n",
    "products and services they sell, produce, have produced and services they operate during the defined support period.」\n",
    "符合哪一項 provision？\"\"\"\n",
    "\n",
    "def _convert_docs(results):\n",
    "    return [\n",
    "        {\n",
    "            \"page_content\": r.page_content,\n",
    "            \"type\": \"Document\",\n",
    "            \"metadata\": r.metadata,\n",
    "        }\n",
    "        for r in results\n",
    "    ]\n",
    "\n",
    "@traceable(run_type=\"retriever\")\n",
    "def retrieve_docs(query):\n",
    "    relevant_docs = hf_vectorstore.search(question, search_type=\"similarity\", k=5)\n",
    "    contents = relevant_docs\n",
    "    return _convert_docs(contents)\n",
    "\n",
    "retrieve_docs(question)"
   ]
  }
 ],
 "metadata": {
  "kernelspec": {
   "display_name": ".venv",
   "language": "python",
   "name": "python3"
  },
  "language_info": {
   "codemirror_mode": {
    "name": "ipython",
    "version": 3
   },
   "file_extension": ".py",
   "mimetype": "text/x-python",
   "name": "python",
   "nbconvert_exporter": "python",
   "pygments_lexer": "ipython3",
   "version": "3.11.7"
  }
 },
 "nbformat": 4,
 "nbformat_minor": 2
}
