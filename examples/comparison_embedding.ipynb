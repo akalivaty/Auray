{
 "cells": [
  {
   "cell_type": "markdown",
   "metadata": {},
   "source": [
    "# Build HF embedding"
   ]
  },
  {
   "cell_type": "code",
   "execution_count": 1,
   "metadata": {},
   "outputs": [
    {
     "name": "stderr",
     "output_type": "stream",
     "text": [
      "e:\\dev\\auray\\.venv\\Lib\\site-packages\\sentence_transformers\\cross_encoder\\CrossEncoder.py:11: TqdmExperimentalWarning: Using `tqdm.autonotebook.tqdm` in notebook mode. Use `tqdm.tqdm` instead to force console mode (e.g. in jupyter console)\n",
      "  from tqdm.autonotebook import tqdm, trange\n",
      "e:\\dev\\auray\\.venv\\Lib\\site-packages\\huggingface_hub\\file_download.py:1132: FutureWarning: `resume_download` is deprecated and will be removed in version 1.0.0. Downloads always resume when possible. If you want to force a new download, use `force_download=True`.\n",
      "  warnings.warn(\n"
     ]
    },
    {
     "ename": "",
     "evalue": "",
     "output_type": "error",
     "traceback": [
      "\u001b[1;31mThe Kernel crashed while executing code in the current cell or a previous cell. \n",
      "\u001b[1;31mPlease review the code in the cell(s) to identify a possible cause of the failure. \n",
      "\u001b[1;31mClick <a href='https://aka.ms/vscodeJupyterKernelCrash'>here</a> for more info. \n",
      "\u001b[1;31mView Jupyter <a href='command:jupyter.viewOutput'>log</a> for further details."
     ]
    }
   ],
   "source": [
    "from langchain_huggingface import HuggingFaceEmbeddings\n",
    "\n",
    "# https://huggingface.co/spaces/mteb/leaderboard\n",
    "sentence_transformer_model = \"lier007/xiaobu-embedding-v2\" # rank 1 in chinese\n",
    "# sentence_transformer_model = \"Alibaba-NLP/gte-Qwen2-7B-instruct\" # rank 2 in chinese\n",
    "\n",
    "hf_embeddings_model = HuggingFaceEmbeddings(\n",
    "    model_name=sentence_transformer_model,\n",
    "    cache_folder=\"../sentence_transformer_model\",\n",
    ")\n"
   ]
  },
  {
   "cell_type": "markdown",
   "metadata": {},
   "source": [
    "# Build HF vector database"
   ]
  },
  {
   "cell_type": "code",
   "execution_count": 2,
   "metadata": {},
   "outputs": [
    {
     "name": "stderr",
     "output_type": "stream",
     "text": [
      "e:\\dev\\auray\\.venv\\Lib\\site-packages\\transformers\\models\\bert\\modeling_bert.py:435: UserWarning: 1Torch was not compiled with flash attention. (Triggered internally at ..\\aten\\src\\ATen\\native\\transformers\\cuda\\sdp_utils.cpp:455.)\n",
      "  attn_output = torch.nn.functional.scaled_dot_product_attention(\n"
     ]
    }
   ],
   "source": [
    "import os\n",
    "from langchain_community.document_loaders import UnstructuredMarkdownLoader\n",
    "from langchain_community.vectorstores import Qdrant\n",
    "from langchain_text_splitters import RecursiveCharacterTextSplitter\n",
    "\n",
    "document_root_path = \"../docs\"\n",
    "documents = [\"CNS16190-zh_TW.md\", \"CNS16190-zh_TW_only_provision.md\"]\n",
    "document_idx = 0\n",
    "embedding_cache_path = \"../embedding_cache/\"\n",
    "db_collection_names = [\"CNS16190_md_op_emb_1000_200\", \"CNS16190_md_hf_emb_1000_200\"]\n",
    "db_collection_idx = 1\n",
    "\n",
    "if os.path.isdir(\n",
    "    os.path.join(\n",
    "        embedding_cache_path, \"collection\", db_collection_names[db_collection_idx]\n",
    "    )\n",
    "):\n",
    "    # database already exists, load it\n",
    "    hf_vectorstore = Qdrant.from_existing_collection(\n",
    "        embedding=hf_embeddings_model,\n",
    "        path=embedding_cache_path,\n",
    "        collection_name=db_collection_names[db_collection_idx],\n",
    "    )\n",
    "else:\n",
    "    # database does not exist, create it\n",
    "    loader = UnstructuredMarkdownLoader(\n",
    "        os.path.join(document_root_path, documents[document_idx]), mode=\"elements\"\n",
    "    )\n",
    "    doc = loader.load()\n",
    "\n",
    "    text_splitter = RecursiveCharacterTextSplitter(chunk_size=1000, chunk_overlap=200)\n",
    "    splits = text_splitter.split_documents(documents=doc)\n",
    "\n",
    "    hf_vectorstore = Qdrant.from_documents(\n",
    "        splits,\n",
    "        embedding=hf_embeddings_model,\n",
    "        path=embedding_cache_path,\n",
    "        collection_name=db_collection_names[db_collection_idx],\n",
    "    )"
   ]
  },
  {
   "cell_type": "markdown",
   "metadata": {},
   "source": [
    "# Test search results of HF vector database "
   ]
  },
  {
   "cell_type": "code",
   "execution_count": 8,
   "metadata": {},
   "outputs": [
    {
     "name": "stdout",
     "output_type": "stream",
     "text": [
      "similarity\n",
      "\n",
      "page_content='控制措施5.2-3：製造者宜於所定義支援期間內，對其銷售及生產，以及所生產之產品及運作的服務，持續監視、識別及矯正安全脆弱性。' metadata={'source': '../docs\\\\CNS16190-zh_TW.md', 'category_depth': 2, 'last_modified': '2024-07-06T20:12:04', 'languages': ['kor'], 'parent_id': 'd5365764ada7a35c75a0d0918088ba52', 'filetype': 'text/markdown', 'file_directory': '../docs', 'filename': 'CNS16190-zh_TW.md', 'category': 'Title', '_id': '5a0c949ef2e147fbb43223fc5c9ed917', '_collection_name': 'CNS16190_md_hf_emb_1000_200'}\n",
      "\n",
      "page_content='預期於其所定義支援期間內，對裝置執行此運作。然而製造者可於該期間外繼續執行此運作並發布安全更新，以矯正脆弱性。' metadata={'source': '../docs\\\\CNS16190-zh_TW.md', 'category_depth': 0, 'last_modified': '2024-07-06T20:12:04', 'languages': ['kor'], 'filetype': 'text/markdown', 'file_directory': '../docs', 'filename': 'CNS16190-zh_TW.md', 'category': 'Title', '_id': '16cc2a3b38f2426ba342de5e3282d4ae', '_collection_name': 'CNS16190_md_hf_emb_1000_200'}\n",
      "\n",
      "page_content='控制措施5.3-13：製造者應以對使用者清晰透通之可存取方式，公布所定義的支援期間。' metadata={'source': '../docs\\\\CNS16190-zh_TW.md', 'category_depth': 2, 'last_modified': '2024-07-06T20:12:04', 'languages': ['kor'], 'parent_id': 'da8d0d9cdc51cf76d695f448dd08ffe2', 'filetype': 'text/markdown', 'file_directory': '../docs', 'filename': 'CNS16190-zh_TW.md', 'category': 'Title', '_id': 'c56c5f99510b47d7a688b8e640cac418', '_collection_name': 'CNS16190_md_hf_emb_1000_200'}\n",
      "\n",
      "page_content='備考：此控制措施適用於持久性儲存體，但製造者亦可對記憶體中之敏感性安全參數實作類似作法。' metadata={'source': '../docs\\\\CNS16190-zh_TW.md', 'category_depth': 0, 'last_modified': '2024-07-06T20:12:04', 'languages': ['kor'], 'filetype': 'text/markdown', 'file_directory': '../docs', 'filename': 'CNS16190-zh_TW.md', 'category': 'Title', '_id': 'fd0204d677944941bf396d443d38e777', '_collection_name': 'CNS16190_md_hf_emb_1000_200'}\n",
      "\n",
      "page_content='控制措施5.2-2：對已揭露之脆弱性宜以及時方式採取行動。' metadata={'source': '../docs\\\\CNS16190-zh_TW.md', 'category_depth': 2, 'last_modified': '2024-07-06T20:12:04', 'languages': ['kor'], 'parent_id': 'ed686d717600b9854c671c8a079d773d', 'filetype': 'text/markdown', 'file_directory': '../docs', 'filename': 'CNS16190-zh_TW.md', 'category': 'Title', '_id': '1b47c7b4802843498b6da1eaea194046', '_collection_name': 'CNS16190_md_hf_emb_1000_200'}\n",
      "\n",
      "\n",
      "\n",
      "similarity_score_threshold\n",
      "\n",
      "page_content='控制措施5.2-3：製造者宜於所定義支援期間內，對其銷售及生產，以及所生產之產品及運作的服務，持續監視、識別及矯正安全脆弱性。' metadata={'source': '../docs\\\\CNS16190-zh_TW.md', 'category_depth': 2, 'last_modified': '2024-07-06T20:12:04', 'languages': ['kor'], 'parent_id': 'd5365764ada7a35c75a0d0918088ba52', 'filetype': 'text/markdown', 'file_directory': '../docs', 'filename': 'CNS16190-zh_TW.md', 'category': 'Title', '_id': '5a0c949ef2e147fbb43223fc5c9ed917', '_collection_name': 'CNS16190_md_hf_emb_1000_200'}\n",
      "\n",
      "page_content='預期於其所定義支援期間內，對裝置執行此運作。然而製造者可於該期間外繼續執行此運作並發布安全更新，以矯正脆弱性。' metadata={'source': '../docs\\\\CNS16190-zh_TW.md', 'category_depth': 0, 'last_modified': '2024-07-06T20:12:04', 'languages': ['kor'], 'filetype': 'text/markdown', 'file_directory': '../docs', 'filename': 'CNS16190-zh_TW.md', 'category': 'Title', '_id': '16cc2a3b38f2426ba342de5e3282d4ae', '_collection_name': 'CNS16190_md_hf_emb_1000_200'}\n",
      "\n",
      "page_content='控制措施5.3-13：製造者應以對使用者清晰透通之可存取方式，公布所定義的支援期間。' metadata={'source': '../docs\\\\CNS16190-zh_TW.md', 'category_depth': 2, 'last_modified': '2024-07-06T20:12:04', 'languages': ['kor'], 'parent_id': 'da8d0d9cdc51cf76d695f448dd08ffe2', 'filetype': 'text/markdown', 'file_directory': '../docs', 'filename': 'CNS16190-zh_TW.md', 'category': 'Title', '_id': 'c56c5f99510b47d7a688b8e640cac418', '_collection_name': 'CNS16190_md_hf_emb_1000_200'}\n",
      "\n",
      "page_content='備考：此控制措施適用於持久性儲存體，但製造者亦可對記憶體中之敏感性安全參數實作類似作法。' metadata={'source': '../docs\\\\CNS16190-zh_TW.md', 'category_depth': 0, 'last_modified': '2024-07-06T20:12:04', 'languages': ['kor'], 'filetype': 'text/markdown', 'file_directory': '../docs', 'filename': 'CNS16190-zh_TW.md', 'category': 'Title', '_id': 'fd0204d677944941bf396d443d38e777', '_collection_name': 'CNS16190_md_hf_emb_1000_200'}\n",
      "\n",
      "page_content='控制措施5.2-2：對已揭露之脆弱性宜以及時方式採取行動。' metadata={'source': '../docs\\\\CNS16190-zh_TW.md', 'category_depth': 2, 'last_modified': '2024-07-06T20:12:04', 'languages': ['kor'], 'parent_id': 'ed686d717600b9854c671c8a079d773d', 'filetype': 'text/markdown', 'file_directory': '../docs', 'filename': 'CNS16190-zh_TW.md', 'category': 'Title', '_id': '1b47c7b4802843498b6da1eaea194046', '_collection_name': 'CNS16190_md_hf_emb_1000_200'}\n",
      "\n",
      "\n",
      "\n",
      "mmr\n",
      "\n",
      "page_content='控制措施5.2-3：製造者宜於所定義支援期間內，對其銷售及生產，以及所生產之產品及運作的服務，持續監視、識別及矯正安全脆弱性。' metadata={'source': '../docs\\\\CNS16190-zh_TW.md', 'category_depth': 2, 'last_modified': '2024-07-06T20:12:04', 'languages': ['kor'], 'parent_id': 'd5365764ada7a35c75a0d0918088ba52', 'filetype': 'text/markdown', 'file_directory': '../docs', 'filename': 'CNS16190-zh_TW.md', 'category': 'Title', '_id': '5a0c949ef2e147fbb43223fc5c9ed917', '_collection_name': 'CNS16190_md_hf_emb_1000_200'}\n",
      "\n",
      "page_content='預期於其所定義支援期間內，對裝置執行此運作。然而製造者可於該期間外繼續執行此運作並發布安全更新，以矯正脆弱性。' metadata={'source': '../docs\\\\CNS16190-zh_TW.md', 'category_depth': 0, 'last_modified': '2024-07-06T20:12:04', 'languages': ['kor'], 'filetype': 'text/markdown', 'file_directory': '../docs', 'filename': 'CNS16190-zh_TW.md', 'category': 'Title', '_id': '16cc2a3b38f2426ba342de5e3282d4ae', '_collection_name': 'CNS16190_md_hf_emb_1000_200'}\n",
      "\n",
      "page_content='備考：此控制措施適用於持久性儲存體，但製造者亦可對記憶體中之敏感性安全參數實作類似作法。' metadata={'source': '../docs\\\\CNS16190-zh_TW.md', 'category_depth': 0, 'last_modified': '2024-07-06T20:12:04', 'languages': ['kor'], 'filetype': 'text/markdown', 'file_directory': '../docs', 'filename': 'CNS16190-zh_TW.md', 'category': 'Title', '_id': 'fd0204d677944941bf396d443d38e777', '_collection_name': 'CNS16190_md_hf_emb_1000_200'}\n",
      "\n",
      "page_content='R 該控制措施係建議。' metadata={'source': '../docs\\\\CNS16190-zh_TW.md', 'last_modified': '2024-07-06T20:12:04', 'languages': ['kor'], 'parent_id': '8fe6b0a89d0962e3a1884c303196b916', 'filetype': 'text/markdown', 'file_directory': '../docs', 'filename': 'CNS16190-zh_TW.md', 'category': 'UncategorizedText', '_id': 'c9d47a25458d47d58eeb85c09d4e511b', '_collection_name': 'CNS16190_md_hf_emb_1000_200'}\n",
      "\n",
      "page_content='若某控制措施係實作支援，則細節欄中之資料項將包含有關為達成支援而實作的措施之資訊。' metadata={'source': '../docs\\\\CNS16190-zh_TW.md', 'category_depth': 1, 'last_modified': '2024-07-06T20:12:04', 'languages': ['kor'], 'parent_id': 'b2298fd54a91282751dc35ea384a448f', 'filetype': 'text/markdown', 'file_directory': '../docs', 'filename': 'CNS16190-zh_TW.md', 'category': 'ListItem', '_id': '0b1d643c15774ddeb2c49e462f023485', '_collection_name': 'CNS16190_md_hf_emb_1000_200'}\n",
      "\n"
     ]
    }
   ],
   "source": [
    "question = \"「於所定義支援期間內，對其銷售及生產持續監視及矯正安全脆弱性。」符合哪一項控制措施？\"\n",
    "\n",
    "print(\"similarity\\n\")\n",
    "relevant_docs = hf_vectorstore.search(question, search_type=\"similarity\", k=5)\n",
    "\n",
    "for item in relevant_docs:\n",
    "    print(f\"{item}\\n\")\n",
    "\n",
    "print(\"\\n\\nsimilarity_score_threshold\\n\")\n",
    "relevant_docs = hf_vectorstore.search(\n",
    "    question, search_type=\"similarity_score_threshold\", k=5, score_threshold=0.7\n",
    ")\n",
    "\n",
    "for item in relevant_docs:\n",
    "    print(f\"{item}\\n\")\n",
    "\n",
    "print(\"\\n\\nmmr\\n\")\n",
    "relevant_docs = hf_vectorstore.search(question, search_type=\"mmr\", k=5)\n",
    "\n",
    "for item in relevant_docs:\n",
    "    print(f\"{item}\\n\")\n"
   ]
  },
  {
   "cell_type": "markdown",
   "metadata": {},
   "source": [
    "# Build OpenAI vector database"
   ]
  },
  {
   "cell_type": "code",
   "execution_count": 2,
   "metadata": {},
   "outputs": [],
   "source": [
    "import os\n",
    "from langchain_community.document_loaders import UnstructuredMarkdownLoader\n",
    "from langchain_community.vectorstores import Qdrant\n",
    "from langchain_text_splitters import RecursiveCharacterTextSplitter\n",
    "from langchain_openai import OpenAIEmbeddings\n",
    "from langchain_community.document_loaders import PyPDFLoader\n",
    "\n",
    "document_root_path = \"../docs\"\n",
    "documents = [\"CNS16190-zh_TW.md\", \"CNS16190-zh_TW_only_provision.md\", \"ts_103701_split.pdf\"]\n",
    "document_idx = 2\n",
    "embedding_cache_path = \"../embedding_cache/\"\n",
    "db_collection_names = [\"CNS16190_md_op_emb_1000_200\", \"CNS16190_md_hf_emb_1000_200\", \"TS103701_pdf_op_emb_1000_200\"]\n",
    "db_collection_idx = 2\n",
    "mode = \"pdf\"\n",
    "\n",
    "if mode == \"md\":\n",
    "    if os.path.isdir(\n",
    "        os.path.join(\n",
    "            embedding_cache_path, \"collection\", db_collection_names[db_collection_idx]\n",
    "        )\n",
    "    ):\n",
    "        # database already exists, load it\n",
    "        openai_vectorstore = Qdrant.from_existing_collection(\n",
    "            embedding=OpenAIEmbeddings(),\n",
    "            path=embedding_cache_path,\n",
    "            collection_name=db_collection_names[db_collection_idx],\n",
    "        )\n",
    "    else:\n",
    "        # database does not exist, create it\n",
    "        loader = UnstructuredMarkdownLoader(\n",
    "            os.path.join(document_root_path, documents[document_idx]), mode=\"elements\"\n",
    "        )\n",
    "        doc = loader.load()\n",
    "\n",
    "        text_splitter = RecursiveCharacterTextSplitter(chunk_size=1000, chunk_overlap=200)\n",
    "        splits = text_splitter.split_documents(doc)\n",
    "\n",
    "        openai_vectorstore = Qdrant.from_documents(\n",
    "            splits,\n",
    "            embedding=OpenAIEmbeddings(),\n",
    "            path=embedding_cache_path,\n",
    "            collection_name=db_collection_names[db_collection_idx],\n",
    "        )\n",
    "\n",
    "if mode == \"pdf\":\n",
    "    if os.path.isdir(\n",
    "        os.path.join(\n",
    "            embedding_cache_path, \"collection\", db_collection_names[db_collection_idx]\n",
    "        )\n",
    "    ):\n",
    "        # database already exists, load it\n",
    "        openai_vectorstore = Qdrant.from_existing_collection(\n",
    "            embedding=OpenAIEmbeddings(),\n",
    "            path=embedding_cache_path,\n",
    "            collection_name=db_collection_names[db_collection_idx],\n",
    "        )\n",
    "    else:\n",
    "        pdf_loader = PyPDFLoader(os.path.join(document_root_path, documents[document_idx]))\n",
    "        pdf_doc = pdf_loader.load()\n",
    "        pdf_text_splitter = RecursiveCharacterTextSplitter(chunk_size=1000, chunk_overlap=200)\n",
    "        pdf_splits = pdf_text_splitter.split_documents(documents=pdf_doc)\n",
    "\n",
    "        openai_vectorstore = Qdrant.from_documents(\n",
    "            pdf_splits,\n",
    "            embedding=OpenAIEmbeddings(),\n",
    "            path=embedding_cache_path,\n",
    "            collection_name=db_collection_names[db_collection_idx],\n",
    "        )"
   ]
  },
  {
   "cell_type": "markdown",
   "metadata": {},
   "source": [
    "# Test search results of OpenAI vector database "
   ]
  },
  {
   "cell_type": "code",
   "execution_count": 9,
   "metadata": {},
   "outputs": [
    {
     "name": "stdout",
     "output_type": "stream",
     "text": [
      "similarity\n",
      "\n",
      "page_content='acknowledgement of receipt and status updates. \\nThe verdict FAIL is assigned otherwise. \\n5.2.2 Test group 5.2-2 \\n5.2.2.0 Test group objective \\nThe test group addresses the provision 5.2-2.  \\n5.2.2.1 Test case 5.2-2-1 (conceptual) \\nTest purpose \\nThe purpose of this test case is the conceptual assessment of the manner in which vulnerabilities are acted on a) and the \\nconfirmation that the preconditions fo r the implementation are ensured b). \\nTest units \\na) The TL shall  assess whether the \"Action\" and the \"Time Frame\" of each disclosed vulnerability in \\nIXIT 3-VulnTypes facilitate that vulnerabilities  are acted on in a timely manner under consideration of the \\nvulnerability disclosure policy according to \"Publication of Vulnerability Disclosure Policy\" in IXIT 2-UserInfo. \\nNOTE 1: The consideration of severity and criticality of the addressed vulnerabilities and the kind of vulnerability \\n(e.g. firmware, hardware or software) is helpful.' metadata={'source': '../docs\\\\ts_103701_split.pdf', 'page': 8, '_id': '478cb5b238a94df78aae793c490b646a', '_collection_name': 'TS103701_pdf_op_emb_1000_200'}\n",
      "\n",
      "page_content='Assignment of verdict  \\nThe verdict PASS is assigned if: \\n• for every hardware-level access control mechanism for memory, the mechanism is implemented at the level of \\nthe hardware; and \\n• for every hardware-level access control mechanism for memory, the mechanism allows to control access to \\nmemory. \\nThe verdict FAIL is assigned otherwise. \\n5.6.9 Test group 5.6-9 \\n5.6.9.0 Test group objective \\nThe test group addresses the provision 5.6-9. \\n5.6.9.1 Test case 5.6-9-1 (conceptual) \\nTest purpose \\nThe purpose of this test case is the conceptual assessment of the secure development processes a) and the confirmation \\nthat the preconditions for the implementation are ensured b). \\nTest units \\na) The TL shall  assess whether the secure development of software covers: \\n- security training of developers; and \\n- the requirement and design phases of the software; and \\n- secure coding techniques; and \\n- security tooling for the implementation phase; and \\n- security testing; and' metadata={'source': '../docs\\\\ts_103701_split.pdf', 'page': 46, '_id': 'd76be8abe62045edbcb0ca8ed5f0a17e', '_collection_name': 'TS103701_pdf_op_emb_1000_200'}\n",
      "\n",
      "page_content='The verdict FAIL is assigned otherwise. \\n5.2 TSO 5.2: Implement a means to manage reports of \\nvulnerabilities \\n5.2.1 Test group 5.2-1 \\n5.2.1.0 Test group objective \\nThe test group addresses the provision 5.2-1.  \\n5.2.1.1 Test case 5.2-1-1 (conceptual) \\nTest purpose \\nThe purpose of this test case is the conceptual assessment of the publication of the vulnerability disclosure policy.  \\nTest units \\na) The TL shall  assess whether access to the publication as descri bed in \"Publication of Vulnerability Disclosure \\nPolicy\" in IXIT 2-UserInfo is possible without meeting criteria such as user account, i.e. whether anybody can \\naccess the documentation. \\nNOTE: A website of the manufacturer is considered as appropriate. \\nAssignment of verdict \\nThe verdict PASS is assigned if: \\n• the publication of the vulnerability disclosure policy is available for anybody. \\nThe verdict FAIL is assigned otherwise. \\n5.2.1.2 Test case 5.2-1-2 (functional)' metadata={'source': '../docs\\\\ts_103701_split.pdf', 'page': 7, '_id': '7801d073fd6b4b77a903c20916340d75', '_collection_name': 'TS103701_pdf_op_emb_1000_200'}\n",
      "\n",
      "page_content='knowledge (see clause D.3). \\nAssignment of verdict \\nThe verdict PASS is assigned if: \\n• each software component is covered by at least one update mechanism, which is simple for the user to apply. \\nThe verdict FAIL is assigned otherwise. \\n5.3.4 Test group 5.3-4 \\n5.3.4.0 Test group objective \\nThe test group addresses the provision 5.3-4. \\nAutomatic mechanisms for software updates consider the checking for update availability and performing the update. \\nThe focus of the provision is on triggering the update from the user perspective and verifying whether the user is \\nprovided with the ability to update all software components automatically. This case is given if each software component is updatable with at least one automatic update mechanism. \\n5.3.4.1 Test case 5.3-4-1 (conceptual) \\nTest purpose \\nThe purpose of this test case is the conceptual assessment of the update mechanisms concerning automatic mechanisms.' metadata={'source': '../docs\\\\ts_103701_split.pdf', 'page': 12, '_id': '83bbf0317c984d2581c470080fedeaad', '_collection_name': 'TS103701_pdf_op_emb_1000_200'}\n",
      "\n",
      "page_content='The objective of this test group is to assess, firstly, whether the cryptographic methods provide the security guarantees \\nthat are necessary for the use case of the communication of critical security parameters and, secondly, whether the cryptographic methods are not known to be vulnerable to a feasible attack. \\n5.5.7.1 Test case 5.5-7-1 (conceptual) \\nTest purpose \\nThe purpose of this test case is the conceptual assessment of the cryptography used for communicating critical security \\nparameters via remotely accessible network interfaces. \\nTest units \\na) For all \"Communication Mechanisms\", that are remo tely accessible according to  their \"Description\" in \\nIXIT 11-ComMech referenced in any critical secu rity parameter in IXIT 10-SecParam, the TL shall  apply all \\ntest units as specified in the Test case 5.5-1-1 with restriction, that at least the security guarantee of \\nconfidentiality is required to be fulfilled.' metadata={'source': '../docs\\\\ts_103701_split.pdf', 'page': 37, '_id': '7a94e81e7d134afba658ac2253620666', '_collection_name': 'TS103701_pdf_op_emb_1000_200'}\n",
      "\n",
      "\n",
      "\n",
      "similarity_score_threshold\n",
      "\n",
      "page_content='acknowledgement of receipt and status updates. \\nThe verdict FAIL is assigned otherwise. \\n5.2.2 Test group 5.2-2 \\n5.2.2.0 Test group objective \\nThe test group addresses the provision 5.2-2.  \\n5.2.2.1 Test case 5.2-2-1 (conceptual) \\nTest purpose \\nThe purpose of this test case is the conceptual assessment of the manner in which vulnerabilities are acted on a) and the \\nconfirmation that the preconditions fo r the implementation are ensured b). \\nTest units \\na) The TL shall  assess whether the \"Action\" and the \"Time Frame\" of each disclosed vulnerability in \\nIXIT 3-VulnTypes facilitate that vulnerabilities  are acted on in a timely manner under consideration of the \\nvulnerability disclosure policy according to \"Publication of Vulnerability Disclosure Policy\" in IXIT 2-UserInfo. \\nNOTE 1: The consideration of severity and criticality of the addressed vulnerabilities and the kind of vulnerability \\n(e.g. firmware, hardware or software) is helpful.' metadata={'source': '../docs\\\\ts_103701_split.pdf', 'page': 8, '_id': '478cb5b238a94df78aae793c490b646a', '_collection_name': 'TS103701_pdf_op_emb_1000_200'}\n",
      "\n",
      "page_content='Assignment of verdict  \\nThe verdict PASS is assigned if: \\n• for every hardware-level access control mechanism for memory, the mechanism is implemented at the level of \\nthe hardware; and \\n• for every hardware-level access control mechanism for memory, the mechanism allows to control access to \\nmemory. \\nThe verdict FAIL is assigned otherwise. \\n5.6.9 Test group 5.6-9 \\n5.6.9.0 Test group objective \\nThe test group addresses the provision 5.6-9. \\n5.6.9.1 Test case 5.6-9-1 (conceptual) \\nTest purpose \\nThe purpose of this test case is the conceptual assessment of the secure development processes a) and the confirmation \\nthat the preconditions for the implementation are ensured b). \\nTest units \\na) The TL shall  assess whether the secure development of software covers: \\n- security training of developers; and \\n- the requirement and design phases of the software; and \\n- secure coding techniques; and \\n- security tooling for the implementation phase; and \\n- security testing; and' metadata={'source': '../docs\\\\ts_103701_split.pdf', 'page': 46, '_id': 'd76be8abe62045edbcb0ca8ed5f0a17e', '_collection_name': 'TS103701_pdf_op_emb_1000_200'}\n",
      "\n",
      "page_content='The verdict FAIL is assigned otherwise. \\n5.2 TSO 5.2: Implement a means to manage reports of \\nvulnerabilities \\n5.2.1 Test group 5.2-1 \\n5.2.1.0 Test group objective \\nThe test group addresses the provision 5.2-1.  \\n5.2.1.1 Test case 5.2-1-1 (conceptual) \\nTest purpose \\nThe purpose of this test case is the conceptual assessment of the publication of the vulnerability disclosure policy.  \\nTest units \\na) The TL shall  assess whether access to the publication as descri bed in \"Publication of Vulnerability Disclosure \\nPolicy\" in IXIT 2-UserInfo is possible without meeting criteria such as user account, i.e. whether anybody can \\naccess the documentation. \\nNOTE: A website of the manufacturer is considered as appropriate. \\nAssignment of verdict \\nThe verdict PASS is assigned if: \\n• the publication of the vulnerability disclosure policy is available for anybody. \\nThe verdict FAIL is assigned otherwise. \\n5.2.1.2 Test case 5.2-1-2 (functional)' metadata={'source': '../docs\\\\ts_103701_split.pdf', 'page': 7, '_id': '7801d073fd6b4b77a903c20916340d75', '_collection_name': 'TS103701_pdf_op_emb_1000_200'}\n",
      "\n",
      "page_content='knowledge (see clause D.3). \\nAssignment of verdict \\nThe verdict PASS is assigned if: \\n• each software component is covered by at least one update mechanism, which is simple for the user to apply. \\nThe verdict FAIL is assigned otherwise. \\n5.3.4 Test group 5.3-4 \\n5.3.4.0 Test group objective \\nThe test group addresses the provision 5.3-4. \\nAutomatic mechanisms for software updates consider the checking for update availability and performing the update. \\nThe focus of the provision is on triggering the update from the user perspective and verifying whether the user is \\nprovided with the ability to update all software components automatically. This case is given if each software component is updatable with at least one automatic update mechanism. \\n5.3.4.1 Test case 5.3-4-1 (conceptual) \\nTest purpose \\nThe purpose of this test case is the conceptual assessment of the update mechanisms concerning automatic mechanisms.' metadata={'source': '../docs\\\\ts_103701_split.pdf', 'page': 12, '_id': '83bbf0317c984d2581c470080fedeaad', '_collection_name': 'TS103701_pdf_op_emb_1000_200'}\n",
      "\n",
      "page_content='The objective of this test group is to assess, firstly, whether the cryptographic methods provide the security guarantees \\nthat are necessary for the use case of the communication of critical security parameters and, secondly, whether the cryptographic methods are not known to be vulnerable to a feasible attack. \\n5.5.7.1 Test case 5.5-7-1 (conceptual) \\nTest purpose \\nThe purpose of this test case is the conceptual assessment of the cryptography used for communicating critical security \\nparameters via remotely accessible network interfaces. \\nTest units \\na) For all \"Communication Mechanisms\", that are remo tely accessible according to  their \"Description\" in \\nIXIT 11-ComMech referenced in any critical secu rity parameter in IXIT 10-SecParam, the TL shall  apply all \\ntest units as specified in the Test case 5.5-1-1 with restriction, that at least the security guarantee of \\nconfidentiality is required to be fulfilled.' metadata={'source': '../docs\\\\ts_103701_split.pdf', 'page': 37, '_id': '7a94e81e7d134afba658ac2253620666', '_collection_name': 'TS103701_pdf_op_emb_1000_200'}\n",
      "\n",
      "\n",
      "\n",
      "mmr\n",
      "\n",
      "page_content='acknowledgement of receipt and status updates. \\nThe verdict FAIL is assigned otherwise. \\n5.2.2 Test group 5.2-2 \\n5.2.2.0 Test group objective \\nThe test group addresses the provision 5.2-2.  \\n5.2.2.1 Test case 5.2-2-1 (conceptual) \\nTest purpose \\nThe purpose of this test case is the conceptual assessment of the manner in which vulnerabilities are acted on a) and the \\nconfirmation that the preconditions fo r the implementation are ensured b). \\nTest units \\na) The TL shall  assess whether the \"Action\" and the \"Time Frame\" of each disclosed vulnerability in \\nIXIT 3-VulnTypes facilitate that vulnerabilities  are acted on in a timely manner under consideration of the \\nvulnerability disclosure policy according to \"Publication of Vulnerability Disclosure Policy\" in IXIT 2-UserInfo. \\nNOTE 1: The consideration of severity and criticality of the addressed vulnerabilities and the kind of vulnerability \\n(e.g. firmware, hardware or software) is helpful.' metadata={'source': '../docs\\\\ts_103701_split.pdf', 'page': 8, '_id': '478cb5b238a94df78aae793c490b646a', '_collection_name': 'TS103701_pdf_op_emb_1000_200'}\n",
      "\n",
      "page_content='together facilitate the principles of separation of duty, need to know and minimization of privilege. \\nAssignment of verdict  \\nThe verdict PASS is assigned if: \\n• the described privilege control mechanisms are adequate to facilitate the principles of separation of duty, need \\nto know and minimization of privilege. \\nThe verdict FAIL is assigned otherwise. \\n5.6.8 Test group 5.6-8 \\n5.6.8.0 Test group objective \\nThe test group addresses the provision 5.6-8. \\nMany options exist that can be combined to provide hardware-level access control mechanisms for memory. At the \\nlevel of grey-box testing this can be evaluation based on documentation provided by the manufacturer (e.g. schematics, bill of material, documentation resulting from certification of hardware components) or upon visual inspection of the board (visual identification of components) and documentation provided by hardware components suppliers.' metadata={'source': '../docs\\\\ts_103701_split.pdf', 'page': 45, '_id': '85c427b158ac46edb812d46e5cdac048', '_collection_name': 'TS103701_pdf_op_emb_1000_200'}\n",
      "\n",
      "page_content='5.8.3.0 Test group objective \\nThe test group addresses the provision 5.8-3.  \\nThis test group aims at revealing any capabilities of a DUT to sense information about its surroundings, such as optic, \\nacoustic, biometric or location sensors. It is to be documented in a way that the user is knowledgeable about information that is obtained by the DUT.' metadata={'source': '../docs\\\\ts_103701_split.pdf', 'page': 51, '_id': '2de7a79fe01c4b1abe21665a8f611199', '_collection_name': 'TS103701_pdf_op_emb_1000_200'}\n",
      "\n",
      "page_content='The objective of this test group is to assess, firstly, whether the cryptographic methods provide the security guarantees \\nthat are necessary for the use case of the communication of critical security parameters and, secondly, whether the cryptographic methods are not known to be vulnerable to a feasible attack. \\n5.5.7.1 Test case 5.5-7-1 (conceptual) \\nTest purpose \\nThe purpose of this test case is the conceptual assessment of the cryptography used for communicating critical security \\nparameters via remotely accessible network interfaces. \\nTest units \\na) For all \"Communication Mechanisms\", that are remo tely accessible according to  their \"Description\" in \\nIXIT 11-ComMech referenced in any critical secu rity parameter in IXIT 10-SecParam, the TL shall  apply all \\ntest units as specified in the Test case 5.5-1-1 with restriction, that at least the security guarantee of \\nconfidentiality is required to be fulfilled.' metadata={'source': '../docs\\\\ts_103701_split.pdf', 'page': 37, '_id': '7a94e81e7d134afba658ac2253620666', '_collection_name': 'TS103701_pdf_op_emb_1000_200'}\n",
      "\n",
      "page_content='5.3.16.1 Test case 5.3-16-1 (conceptual) \\nTest purpose The purpose of this test case is the conceptual assessment of the model designation. \\nTest units \\na) The TL shall  assess whether the model designation of the DUT can be obtained in a clearly recognizable way, \\neither by labelling on the DUT or via a physi cal interface according to \"Model Designation\" in \\nIXIT 2-UserInfo. \\nAssignment of verdict \\nThe verdict PASS is assigned if: \\n• the model designation of the DUT can be obtained clear ly recognizable by labelling on the DUT or via a \\nphysical interface. \\nThe verdict FAIL is assigned otherwise. \\n5.3.16.2 Test case 5.3-16-2 (functional) \\nTest purpose The purpose of this test case is the functional assessment of the model designation. \\nTest units \\na) The TL shall  functionally check whether the model designation of the DUT can be obtained applying the \\ndescribed way of recognition in \"Model Designation\" in IXIT 2-UserInfo.' metadata={'source': '../docs\\\\ts_103701_split.pdf', 'page': 24, '_id': '7cac9c76f31346bcb546e711d714ef9c', '_collection_name': 'TS103701_pdf_op_emb_1000_200'}\n",
      "\n"
     ]
    }
   ],
   "source": [
    "question = \"\"\"「The purpose of this test case is the conceptual assessment of the manner in which vulnerabilities are acted on a) and the \n",
    "confirmation that the preconditions for the implementation are ensured b). 」符合哪一項 Test group？\n",
    "告訴我他的 Test group objective、Test units 和 Assignment of verdict \"\"\"\n",
    "\n",
    "print(\"similarity\\n\")\n",
    "relevant_docs = openai_vectorstore.search(question, search_type=\"similarity\", k=5)\n",
    "\n",
    "for item in relevant_docs:\n",
    "    print(f\"{item}\\n\")\n",
    "\n",
    "print(\"\\n\\nsimilarity_score_threshold\\n\")\n",
    "relevant_docs = openai_vectorstore.search(\n",
    "    question, search_type=\"similarity_score_threshold\", k=5, score_threshold=0.7\n",
    ")\n",
    "\n",
    "for item in relevant_docs:\n",
    "    print(f\"{item}\\n\")\n",
    "\n",
    "print(\"\\n\\nmmr\\n\")\n",
    "relevant_docs = openai_vectorstore.search(question, search_type=\"mmr\", k=5)\n",
    "\n",
    "for item in relevant_docs:\n",
    "    print(f\"{item}\\n\")\n"
   ]
  }
 ],
 "metadata": {
  "kernelspec": {
   "display_name": ".venv",
   "language": "python",
   "name": "python3"
  },
  "language_info": {
   "codemirror_mode": {
    "name": "ipython",
    "version": 3
   },
   "file_extension": ".py",
   "mimetype": "text/x-python",
   "name": "python",
   "nbconvert_exporter": "python",
   "pygments_lexer": "ipython3",
   "version": "3.11.7"
  }
 },
 "nbformat": 4,
 "nbformat_minor": 2
}
