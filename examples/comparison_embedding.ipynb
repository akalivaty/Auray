{
 "cells": [
  {
   "cell_type": "markdown",
   "metadata": {},
   "source": [
    "# Build HF embedding"
   ]
  },
  {
   "cell_type": "code",
   "execution_count": 1,
   "metadata": {},
   "outputs": [
    {
     "name": "stderr",
     "output_type": "stream",
     "text": [
      "e:\\dev\\auray\\.venv\\Lib\\site-packages\\sentence_transformers\\cross_encoder\\CrossEncoder.py:11: TqdmExperimentalWarning: Using `tqdm.autonotebook.tqdm` in notebook mode. Use `tqdm.tqdm` instead to force console mode (e.g. in jupyter console)\n",
      "  from tqdm.autonotebook import tqdm, trange\n",
      "e:\\dev\\auray\\.venv\\Lib\\site-packages\\huggingface_hub\\file_download.py:1132: FutureWarning: `resume_download` is deprecated and will be removed in version 1.0.0. Downloads always resume when possible. If you want to force a new download, use `force_download=True`.\n",
      "  warnings.warn(\n"
     ]
    },
    {
     "ename": "",
     "evalue": "",
     "output_type": "error",
     "traceback": [
      "\u001b[1;31mThe Kernel crashed while executing code in the current cell or a previous cell. \n",
      "\u001b[1;31mPlease review the code in the cell(s) to identify a possible cause of the failure. \n",
      "\u001b[1;31mClick <a href='https://aka.ms/vscodeJupyterKernelCrash'>here</a> for more info. \n",
      "\u001b[1;31mView Jupyter <a href='command:jupyter.viewOutput'>log</a> for further details."
     ]
    }
   ],
   "source": [
    "from langchain_huggingface import HuggingFaceEmbeddings\n",
    "\n",
    "# https://huggingface.co/spaces/mteb/leaderboard\n",
    "sentence_transformer_model = \"lier007/xiaobu-embedding-v2\" # rank 1 in chinese\n",
    "# sentence_transformer_model = \"Alibaba-NLP/gte-Qwen2-7B-instruct\" # rank 2 in chinese\n",
    "\n",
    "hf_embeddings_model = HuggingFaceEmbeddings(\n",
    "    model_name=sentence_transformer_model,\n",
    "    cache_folder=\"../sentence_transformer_model\",\n",
    ")\n"
   ]
  },
  {
   "cell_type": "markdown",
   "metadata": {},
   "source": [
    "# Build HF vector database"
   ]
  },
  {
   "cell_type": "code",
   "execution_count": 2,
   "metadata": {},
   "outputs": [
    {
     "name": "stderr",
     "output_type": "stream",
     "text": [
      "e:\\dev\\auray\\.venv\\Lib\\site-packages\\transformers\\models\\bert\\modeling_bert.py:435: UserWarning: 1Torch was not compiled with flash attention. (Triggered internally at ..\\aten\\src\\ATen\\native\\transformers\\cuda\\sdp_utils.cpp:455.)\n",
      "  attn_output = torch.nn.functional.scaled_dot_product_attention(\n"
     ]
    }
   ],
   "source": [
    "import os\n",
    "from langchain_community.document_loaders import UnstructuredMarkdownLoader\n",
    "from langchain_community.vectorstores import Qdrant\n",
    "from langchain_text_splitters import RecursiveCharacterTextSplitter\n",
    "\n",
    "document_root_path = \"../docs\"\n",
    "documents = [\"CNS16190-zh_TW.md\", \"CNS16190-zh_TW_only_provision.md\"]\n",
    "document_idx = 0\n",
    "embedding_cache_path = \"../embedding_cache/\"\n",
    "db_collection_names = [\"CNS16190_md_op_emb_1000_200\", \"CNS16190_md_hf_emb_1000_200\"]\n",
    "db_collection_idx = 1\n",
    "\n",
    "if os.path.isdir(\n",
    "    os.path.join(\n",
    "        embedding_cache_path, \"collection\", db_collection_names[db_collection_idx]\n",
    "    )\n",
    "):\n",
    "    # database already exists, load it\n",
    "    hf_vectorstore = Qdrant.from_existing_collection(\n",
    "        embedding=hf_embeddings_model,\n",
    "        path=embedding_cache_path,\n",
    "        collection_name=db_collection_names[db_collection_idx],\n",
    "    )\n",
    "else:\n",
    "    # database does not exist, create it\n",
    "    loader = UnstructuredMarkdownLoader(\n",
    "        os.path.join(document_root_path, documents[document_idx]), mode=\"elements\"\n",
    "    )\n",
    "    doc = loader.load()\n",
    "\n",
    "    text_splitter = RecursiveCharacterTextSplitter(chunk_size=1000, chunk_overlap=200)\n",
    "    splits = text_splitter.split_documents(documents=doc)\n",
    "\n",
    "    hf_vectorstore = Qdrant.from_documents(\n",
    "        splits,\n",
    "        embedding=hf_embeddings_model,\n",
    "        path=embedding_cache_path,\n",
    "        collection_name=db_collection_names[db_collection_idx],\n",
    "    )"
   ]
  },
  {
   "cell_type": "markdown",
   "metadata": {},
   "source": [
    "# Test search results of HF vector database "
   ]
  },
  {
   "cell_type": "code",
   "execution_count": 8,
   "metadata": {},
   "outputs": [
    {
     "name": "stdout",
     "output_type": "stream",
     "text": [
      "similarity\n",
      "\n",
      "page_content='控制措施5.2-3：製造者宜於所定義支援期間內，對其銷售及生產，以及所生產之產品及運作的服務，持續監視、識別及矯正安全脆弱性。' metadata={'source': '../docs\\\\CNS16190-zh_TW.md', 'category_depth': 2, 'last_modified': '2024-07-06T20:12:04', 'languages': ['kor'], 'parent_id': 'd5365764ada7a35c75a0d0918088ba52', 'filetype': 'text/markdown', 'file_directory': '../docs', 'filename': 'CNS16190-zh_TW.md', 'category': 'Title', '_id': '5a0c949ef2e147fbb43223fc5c9ed917', '_collection_name': 'CNS16190_md_hf_emb_1000_200'}\n",
      "\n",
      "page_content='預期於其所定義支援期間內，對裝置執行此運作。然而製造者可於該期間外繼續執行此運作並發布安全更新，以矯正脆弱性。' metadata={'source': '../docs\\\\CNS16190-zh_TW.md', 'category_depth': 0, 'last_modified': '2024-07-06T20:12:04', 'languages': ['kor'], 'filetype': 'text/markdown', 'file_directory': '../docs', 'filename': 'CNS16190-zh_TW.md', 'category': 'Title', '_id': '16cc2a3b38f2426ba342de5e3282d4ae', '_collection_name': 'CNS16190_md_hf_emb_1000_200'}\n",
      "\n",
      "page_content='控制措施5.3-13：製造者應以對使用者清晰透通之可存取方式，公布所定義的支援期間。' metadata={'source': '../docs\\\\CNS16190-zh_TW.md', 'category_depth': 2, 'last_modified': '2024-07-06T20:12:04', 'languages': ['kor'], 'parent_id': 'da8d0d9cdc51cf76d695f448dd08ffe2', 'filetype': 'text/markdown', 'file_directory': '../docs', 'filename': 'CNS16190-zh_TW.md', 'category': 'Title', '_id': 'c56c5f99510b47d7a688b8e640cac418', '_collection_name': 'CNS16190_md_hf_emb_1000_200'}\n",
      "\n",
      "page_content='備考：此控制措施適用於持久性儲存體，但製造者亦可對記憶體中之敏感性安全參數實作類似作法。' metadata={'source': '../docs\\\\CNS16190-zh_TW.md', 'category_depth': 0, 'last_modified': '2024-07-06T20:12:04', 'languages': ['kor'], 'filetype': 'text/markdown', 'file_directory': '../docs', 'filename': 'CNS16190-zh_TW.md', 'category': 'Title', '_id': 'fd0204d677944941bf396d443d38e777', '_collection_name': 'CNS16190_md_hf_emb_1000_200'}\n",
      "\n",
      "page_content='控制措施5.2-2：對已揭露之脆弱性宜以及時方式採取行動。' metadata={'source': '../docs\\\\CNS16190-zh_TW.md', 'category_depth': 2, 'last_modified': '2024-07-06T20:12:04', 'languages': ['kor'], 'parent_id': 'ed686d717600b9854c671c8a079d773d', 'filetype': 'text/markdown', 'file_directory': '../docs', 'filename': 'CNS16190-zh_TW.md', 'category': 'Title', '_id': '1b47c7b4802843498b6da1eaea194046', '_collection_name': 'CNS16190_md_hf_emb_1000_200'}\n",
      "\n",
      "\n",
      "\n",
      "similarity_score_threshold\n",
      "\n",
      "page_content='控制措施5.2-3：製造者宜於所定義支援期間內，對其銷售及生產，以及所生產之產品及運作的服務，持續監視、識別及矯正安全脆弱性。' metadata={'source': '../docs\\\\CNS16190-zh_TW.md', 'category_depth': 2, 'last_modified': '2024-07-06T20:12:04', 'languages': ['kor'], 'parent_id': 'd5365764ada7a35c75a0d0918088ba52', 'filetype': 'text/markdown', 'file_directory': '../docs', 'filename': 'CNS16190-zh_TW.md', 'category': 'Title', '_id': '5a0c949ef2e147fbb43223fc5c9ed917', '_collection_name': 'CNS16190_md_hf_emb_1000_200'}\n",
      "\n",
      "page_content='預期於其所定義支援期間內，對裝置執行此運作。然而製造者可於該期間外繼續執行此運作並發布安全更新，以矯正脆弱性。' metadata={'source': '../docs\\\\CNS16190-zh_TW.md', 'category_depth': 0, 'last_modified': '2024-07-06T20:12:04', 'languages': ['kor'], 'filetype': 'text/markdown', 'file_directory': '../docs', 'filename': 'CNS16190-zh_TW.md', 'category': 'Title', '_id': '16cc2a3b38f2426ba342de5e3282d4ae', '_collection_name': 'CNS16190_md_hf_emb_1000_200'}\n",
      "\n",
      "page_content='控制措施5.3-13：製造者應以對使用者清晰透通之可存取方式，公布所定義的支援期間。' metadata={'source': '../docs\\\\CNS16190-zh_TW.md', 'category_depth': 2, 'last_modified': '2024-07-06T20:12:04', 'languages': ['kor'], 'parent_id': 'da8d0d9cdc51cf76d695f448dd08ffe2', 'filetype': 'text/markdown', 'file_directory': '../docs', 'filename': 'CNS16190-zh_TW.md', 'category': 'Title', '_id': 'c56c5f99510b47d7a688b8e640cac418', '_collection_name': 'CNS16190_md_hf_emb_1000_200'}\n",
      "\n",
      "page_content='備考：此控制措施適用於持久性儲存體，但製造者亦可對記憶體中之敏感性安全參數實作類似作法。' metadata={'source': '../docs\\\\CNS16190-zh_TW.md', 'category_depth': 0, 'last_modified': '2024-07-06T20:12:04', 'languages': ['kor'], 'filetype': 'text/markdown', 'file_directory': '../docs', 'filename': 'CNS16190-zh_TW.md', 'category': 'Title', '_id': 'fd0204d677944941bf396d443d38e777', '_collection_name': 'CNS16190_md_hf_emb_1000_200'}\n",
      "\n",
      "page_content='控制措施5.2-2：對已揭露之脆弱性宜以及時方式採取行動。' metadata={'source': '../docs\\\\CNS16190-zh_TW.md', 'category_depth': 2, 'last_modified': '2024-07-06T20:12:04', 'languages': ['kor'], 'parent_id': 'ed686d717600b9854c671c8a079d773d', 'filetype': 'text/markdown', 'file_directory': '../docs', 'filename': 'CNS16190-zh_TW.md', 'category': 'Title', '_id': '1b47c7b4802843498b6da1eaea194046', '_collection_name': 'CNS16190_md_hf_emb_1000_200'}\n",
      "\n",
      "\n",
      "\n",
      "mmr\n",
      "\n",
      "page_content='控制措施5.2-3：製造者宜於所定義支援期間內，對其銷售及生產，以及所生產之產品及運作的服務，持續監視、識別及矯正安全脆弱性。' metadata={'source': '../docs\\\\CNS16190-zh_TW.md', 'category_depth': 2, 'last_modified': '2024-07-06T20:12:04', 'languages': ['kor'], 'parent_id': 'd5365764ada7a35c75a0d0918088ba52', 'filetype': 'text/markdown', 'file_directory': '../docs', 'filename': 'CNS16190-zh_TW.md', 'category': 'Title', '_id': '5a0c949ef2e147fbb43223fc5c9ed917', '_collection_name': 'CNS16190_md_hf_emb_1000_200'}\n",
      "\n",
      "page_content='預期於其所定義支援期間內，對裝置執行此運作。然而製造者可於該期間外繼續執行此運作並發布安全更新，以矯正脆弱性。' metadata={'source': '../docs\\\\CNS16190-zh_TW.md', 'category_depth': 0, 'last_modified': '2024-07-06T20:12:04', 'languages': ['kor'], 'filetype': 'text/markdown', 'file_directory': '../docs', 'filename': 'CNS16190-zh_TW.md', 'category': 'Title', '_id': '16cc2a3b38f2426ba342de5e3282d4ae', '_collection_name': 'CNS16190_md_hf_emb_1000_200'}\n",
      "\n",
      "page_content='備考：此控制措施適用於持久性儲存體，但製造者亦可對記憶體中之敏感性安全參數實作類似作法。' metadata={'source': '../docs\\\\CNS16190-zh_TW.md', 'category_depth': 0, 'last_modified': '2024-07-06T20:12:04', 'languages': ['kor'], 'filetype': 'text/markdown', 'file_directory': '../docs', 'filename': 'CNS16190-zh_TW.md', 'category': 'Title', '_id': 'fd0204d677944941bf396d443d38e777', '_collection_name': 'CNS16190_md_hf_emb_1000_200'}\n",
      "\n",
      "page_content='R 該控制措施係建議。' metadata={'source': '../docs\\\\CNS16190-zh_TW.md', 'last_modified': '2024-07-06T20:12:04', 'languages': ['kor'], 'parent_id': '8fe6b0a89d0962e3a1884c303196b916', 'filetype': 'text/markdown', 'file_directory': '../docs', 'filename': 'CNS16190-zh_TW.md', 'category': 'UncategorizedText', '_id': 'c9d47a25458d47d58eeb85c09d4e511b', '_collection_name': 'CNS16190_md_hf_emb_1000_200'}\n",
      "\n",
      "page_content='若某控制措施係實作支援，則細節欄中之資料項將包含有關為達成支援而實作的措施之資訊。' metadata={'source': '../docs\\\\CNS16190-zh_TW.md', 'category_depth': 1, 'last_modified': '2024-07-06T20:12:04', 'languages': ['kor'], 'parent_id': 'b2298fd54a91282751dc35ea384a448f', 'filetype': 'text/markdown', 'file_directory': '../docs', 'filename': 'CNS16190-zh_TW.md', 'category': 'ListItem', '_id': '0b1d643c15774ddeb2c49e462f023485', '_collection_name': 'CNS16190_md_hf_emb_1000_200'}\n",
      "\n"
     ]
    }
   ],
   "source": [
    "question = \"「於所定義支援期間內，對其銷售及生產持續監視及矯正安全脆弱性。」符合哪一項控制措施？\"\n",
    "\n",
    "print(\"similarity\\n\")\n",
    "relevant_docs = hf_vectorstore.search(question, search_type=\"similarity\", k=5)\n",
    "\n",
    "for item in relevant_docs:\n",
    "    print(f\"{item}\\n\")\n",
    "\n",
    "print(\"\\n\\nsimilarity_score_threshold\\n\")\n",
    "relevant_docs = hf_vectorstore.search(\n",
    "    question, search_type=\"similarity_score_threshold\", k=5, score_threshold=0.7\n",
    ")\n",
    "\n",
    "for item in relevant_docs:\n",
    "    print(f\"{item}\\n\")\n",
    "\n",
    "print(\"\\n\\nmmr\\n\")\n",
    "relevant_docs = hf_vectorstore.search(question, search_type=\"mmr\", k=5)\n",
    "\n",
    "for item in relevant_docs:\n",
    "    print(f\"{item}\\n\")\n"
   ]
  },
  {
   "cell_type": "markdown",
   "metadata": {},
   "source": [
    "# Build OpenAI vector database"
   ]
  },
  {
   "cell_type": "code",
   "execution_count": 1,
   "metadata": {},
   "outputs": [],
   "source": [
    "import os\n",
    "from langchain_community.document_loaders import UnstructuredMarkdownLoader\n",
    "from langchain_community.vectorstores import Qdrant\n",
    "from langchain_text_splitters import RecursiveCharacterTextSplitter\n",
    "from langchain_openai import OpenAIEmbeddings\n",
    "\n",
    "document_root_path = \"../docs\"\n",
    "documents = [\"CNS16190-zh_TW.md\", \"CNS16190-zh_TW_only_provision.md\"]\n",
    "document_idx = 0\n",
    "embedding_cache_path = \"../embedding_cache/\"\n",
    "db_collection_names = [\"CNS16190_md_op_emb_1000_200\", \"CNS16190_md_hf_emb_1000_200\"]\n",
    "db_collection_idx = 0\n",
    "\n",
    "if os.path.isdir(\n",
    "    os.path.join(\n",
    "        embedding_cache_path, \"collection\", db_collection_names[db_collection_idx]\n",
    "    )\n",
    "):\n",
    "    # database already exists, load it\n",
    "    openai_vectorstore = Qdrant.from_existing_collection(\n",
    "        embedding=OpenAIEmbeddings(),\n",
    "        path=embedding_cache_path,\n",
    "        collection_name=db_collection_names[db_collection_idx],\n",
    "    )\n",
    "else:\n",
    "    # database does not exist, create it\n",
    "    loader = UnstructuredMarkdownLoader(\n",
    "        os.path.join(document_root_path, documents[document_idx]), mode=\"elements\"\n",
    "    )\n",
    "    doc = loader.load()\n",
    "\n",
    "    text_splitter = RecursiveCharacterTextSplitter(chunk_size=1000, chunk_overlap=200)\n",
    "    splits = text_splitter.split_documents(doc)\n",
    "\n",
    "    openai_vectorstore = Qdrant.from_documents(\n",
    "        splits,\n",
    "        embedding=OpenAIEmbeddings(),\n",
    "        path=embedding_cache_path,\n",
    "        collection_name=db_collection_names[db_collection_idx],\n",
    "    )\n"
   ]
  },
  {
   "cell_type": "markdown",
   "metadata": {},
   "source": [
    "# Test search results of OpenAI vector database "
   ]
  },
  {
   "cell_type": "code",
   "execution_count": 7,
   "metadata": {},
   "outputs": [
    {
     "name": "stdout",
     "output_type": "stream",
     "text": [
      "similarity\n",
      "\n"
     ]
    },
    {
     "ename": "NameError",
     "evalue": "name 'openai_vectorstore' is not defined",
     "output_type": "error",
     "traceback": [
      "\u001b[1;31m---------------------------------------------------------------------------\u001b[0m",
      "\u001b[1;31mNameError\u001b[0m                                 Traceback (most recent call last)",
      "Cell \u001b[1;32mIn[7], line 4\u001b[0m\n\u001b[0;32m      1\u001b[0m question \u001b[38;5;241m=\u001b[39m \u001b[38;5;124m\"\u001b[39m\u001b[38;5;124m「於所定義支援期間內，對其銷售及生產持續監視及矯正安全脆弱性。」符合哪一項控制措施？\u001b[39m\u001b[38;5;124m\"\u001b[39m\n\u001b[0;32m      3\u001b[0m \u001b[38;5;28mprint\u001b[39m(\u001b[38;5;124m\"\u001b[39m\u001b[38;5;124msimilarity\u001b[39m\u001b[38;5;130;01m\\n\u001b[39;00m\u001b[38;5;124m\"\u001b[39m)\n\u001b[1;32m----> 4\u001b[0m relevant_docs \u001b[38;5;241m=\u001b[39m \u001b[43mopenai_vectorstore\u001b[49m\u001b[38;5;241m.\u001b[39msearch(question, search_type\u001b[38;5;241m=\u001b[39m\u001b[38;5;124m\"\u001b[39m\u001b[38;5;124msimilarity\u001b[39m\u001b[38;5;124m\"\u001b[39m, k\u001b[38;5;241m=\u001b[39m\u001b[38;5;241m5\u001b[39m)\n\u001b[0;32m      6\u001b[0m \u001b[38;5;28;01mfor\u001b[39;00m item \u001b[38;5;129;01min\u001b[39;00m relevant_docs:\n\u001b[0;32m      7\u001b[0m     \u001b[38;5;28mprint\u001b[39m(\u001b[38;5;124mf\u001b[39m\u001b[38;5;124m\"\u001b[39m\u001b[38;5;132;01m{\u001b[39;00mitem\u001b[38;5;132;01m}\u001b[39;00m\u001b[38;5;130;01m\\n\u001b[39;00m\u001b[38;5;124m\"\u001b[39m)\n",
      "\u001b[1;31mNameError\u001b[0m: name 'openai_vectorstore' is not defined"
     ]
    }
   ],
   "source": [
    "question = \"「對本標準中視為不適用或消費者IoT裝置未滿足之各項建議，應記錄衡量理由」符合哪一項控制措施？\"\n",
    "\n",
    "print(\"similarity\\n\")\n",
    "relevant_docs = openai_vectorstore.search(question, search_type=\"similarity\", k=5)\n",
    "\n",
    "for item in relevant_docs:\n",
    "    print(f\"{item}\\n\")\n",
    "\n",
    "print(\"\\n\\nsimilarity_score_threshold\\n\")\n",
    "relevant_docs = openai_vectorstore.search(\n",
    "    question, search_type=\"similarity_score_threshold\", k=5, score_threshold=0.7\n",
    ")\n",
    "\n",
    "for item in relevant_docs:\n",
    "    print(f\"{item}\\n\")\n",
    "\n",
    "print(\"\\n\\nmmr\\n\")\n",
    "relevant_docs = openai_vectorstore.search(question, search_type=\"mmr\", k=5)\n",
    "\n",
    "for item in relevant_docs:\n",
    "    print(f\"{item}\\n\")\n"
   ]
  }
 ],
 "metadata": {
  "kernelspec": {
   "display_name": ".venv",
   "language": "python",
   "name": "python3"
  },
  "language_info": {
   "codemirror_mode": {
    "name": "ipython",
    "version": 3
   },
   "file_extension": ".py",
   "mimetype": "text/x-python",
   "name": "python",
   "nbconvert_exporter": "python",
   "pygments_lexer": "ipython3",
   "version": "3.11.7"
  }
 },
 "nbformat": 4,
 "nbformat_minor": 2
}
