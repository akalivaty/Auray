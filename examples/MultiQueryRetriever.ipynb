{
 "cells": [
  {
   "cell_type": "markdown",
   "metadata": {},
   "source": [
    "# Build HF embeddings"
   ]
  },
  {
   "cell_type": "code",
   "execution_count": 1,
   "metadata": {},
   "outputs": [
    {
     "name": "stderr",
     "output_type": "stream",
     "text": [
      "e:\\dev\\auray\\.venv\\Lib\\site-packages\\sentence_transformers\\cross_encoder\\CrossEncoder.py:11: TqdmExperimentalWarning: Using `tqdm.autonotebook.tqdm` in notebook mode. Use `tqdm.tqdm` instead to force console mode (e.g. in jupyter console)\n",
      "  from tqdm.autonotebook import tqdm, trange\n",
      "e:\\dev\\auray\\.venv\\Lib\\site-packages\\huggingface_hub\\file_download.py:1132: FutureWarning: `resume_download` is deprecated and will be removed in version 1.0.0. Downloads always resume when possible. If you want to force a new download, use `force_download=True`.\n",
      "  warnings.warn(\n"
     ]
    }
   ],
   "source": [
    "from langchain_huggingface import HuggingFaceEmbeddings\n",
    "\n",
    "# https://huggingface.co/spaces/mteb/leaderboard\n",
    "sentence_transformer_model = \"lier007/xiaobu-embedding-v2\" # rank 1 in chinese\n",
    "# sentence_transformer_model = \"Alibaba-NLP/gte-Qwen2-7B-instruct\" # rank 2 in chinese\n",
    "\n",
    "hf_embeddings_model = HuggingFaceEmbeddings(\n",
    "    model_name=sentence_transformer_model,\n",
    "    cache_folder=\"../sentence_transformer_model\",\n",
    ")"
   ]
  },
  {
   "cell_type": "markdown",
   "metadata": {},
   "source": [
    "# Build HF vector database"
   ]
  },
  {
   "cell_type": "code",
   "execution_count": 2,
   "metadata": {},
   "outputs": [],
   "source": [
    "import os\n",
    "from langchain_community.document_loaders import UnstructuredMarkdownLoader\n",
    "from langchain_community.vectorstores import Qdrant\n",
    "from langchain_text_splitters import RecursiveCharacterTextSplitter\n",
    "\n",
    "document_root_path = \"../docs\"\n",
    "documents = [\"CNS16190-zh_TW.md\", \"CNS16190-zh_TW_only_provision.md\"]\n",
    "document_idx = 0\n",
    "embedding_cache_path = \"../embedding_cache/\"\n",
    "db_collection_names = [\"CNS16190_md_op_emb_1000_200\", \"CNS16190_md_hf_emb_1000_200\"]\n",
    "db_collection_idx = 1\n",
    "\n",
    "if os.path.isdir(\n",
    "    os.path.join(\n",
    "        embedding_cache_path, \"collection\", db_collection_names[db_collection_idx]\n",
    "    )\n",
    "):\n",
    "    # database already exists, load it\n",
    "    hf_vectorstore = Qdrant.from_existing_collection(\n",
    "        embedding=hf_embeddings_model,\n",
    "        path=embedding_cache_path,\n",
    "        collection_name=db_collection_names[db_collection_idx],\n",
    "    )\n",
    "else:\n",
    "    # database does not exist, create it\n",
    "    loader = UnstructuredMarkdownLoader(\n",
    "        os.path.join(document_root_path, documents[document_idx]), mode=\"elements\"\n",
    "    )\n",
    "    doc = loader.load()\n",
    "\n",
    "    text_splitter = RecursiveCharacterTextSplitter(chunk_size=1000, chunk_overlap=200)\n",
    "    splits = text_splitter.split_documents(documents=doc)\n",
    "\n",
    "    hf_vectorstore = Qdrant.from_documents(\n",
    "        splits,\n",
    "        embedding=hf_embeddings_model,\n",
    "        path=embedding_cache_path,\n",
    "        collection_name=db_collection_names[db_collection_idx],\n",
    "    )"
   ]
  },
  {
   "cell_type": "markdown",
   "metadata": {},
   "source": []
  },
  {
   "cell_type": "code",
   "execution_count": 3,
   "metadata": {},
   "outputs": [],
   "source": [
    "from langchain.retrievers.multi_query import MultiQueryRetriever\n",
    "from langchain_openai import ChatOpenAI\n",
    "\n",
    "llm = ChatOpenAI(model=\"gpt-4o-mini\")\n",
    "retriever_from_llm = MultiQueryRetriever.from_llm(\n",
    "    retriever=hf_vectorstore.as_retriever(), llm=llm\n",
    ")\n"
   ]
  },
  {
   "cell_type": "code",
   "execution_count": 7,
   "metadata": {},
   "outputs": [],
   "source": [
    "# Set logging for the queries\n",
    "import logging\n",
    "\n",
    "logging.basicConfig()\n",
    "logging.getLogger(\"langchain.retrievers.multi_query\").setLevel(logging.INFO)"
   ]
  },
  {
   "cell_type": "code",
   "execution_count": 8,
   "metadata": {},
   "outputs": [],
   "source": [
    "question = \"「於所定義支援期間內，對其銷售及生產持續監視及矯正安全脆弱性。」符合哪一項控制措施？\""
   ]
  },
  {
   "cell_type": "code",
   "execution_count": 9,
   "metadata": {},
   "outputs": [
    {
     "name": "stderr",
     "output_type": "stream",
     "text": [
      "INFO:langchain.retrievers.multi_query:Generated queries: ['1. 在支援期間內，哪些控制措施適用於監視和矯正銷售和生產中的安全脆弱性？', '2. 如何確保在所定義的支援期間內對銷售和生產持續進行監視和矯正以解決安全脆弱性問題？', '3. 哪些方法可以用來監視和矯正在支援期間內出現的銷售和生產中的安全脆弱性？']\n"
     ]
    }
   ],
   "source": [
    "result = retriever_from_llm.invoke(question)"
   ]
  },
  {
   "cell_type": "code",
   "execution_count": 6,
   "metadata": {},
   "outputs": [
    {
     "data": {
      "text/plain": [
       "[Document(page_content='控制措施5.2-3：製造者宜於所定義支援期間內，對其銷售及生產，以及所生產之產品及運作的服務，持續監視、識別及矯正安全脆弱性。', metadata={'source': '../docs\\\\CNS16190-zh_TW.md', 'category_depth': 2, 'last_modified': '2024-07-06T20:12:04', 'languages': ['kor'], 'parent_id': 'd5365764ada7a35c75a0d0918088ba52', 'filetype': 'text/markdown', 'file_directory': '../docs', 'filename': 'CNS16190-zh_TW.md', 'category': 'Title', '_id': '5a0c949ef2e147fbb43223fc5c9ed917', '_collection_name': 'CNS16190_md_hf_emb_1000_200'}),\n",
       " Document(page_content='預期於其所定義支援期間內，對裝置執行此運作。然而製造者可於該期間外繼續執行此運作並發布安全更新，以矯正脆弱性。', metadata={'source': '../docs\\\\CNS16190-zh_TW.md', 'category_depth': 0, 'last_modified': '2024-07-06T20:12:04', 'languages': ['kor'], 'filetype': 'text/markdown', 'file_directory': '../docs', 'filename': 'CNS16190-zh_TW.md', 'category': 'Title', '_id': '16cc2a3b38f2426ba342de5e3282d4ae', '_collection_name': 'CNS16190_md_hf_emb_1000_200'}),\n",
       " Document(page_content='控制措施5.2-2：對已揭露之脆弱性宜以及時方式採取行動。', metadata={'source': '../docs\\\\CNS16190-zh_TW.md', 'category_depth': 2, 'last_modified': '2024-07-06T20:12:04', 'languages': ['kor'], 'parent_id': 'ed686d717600b9854c671c8a079d773d', 'filetype': 'text/markdown', 'file_directory': '../docs', 'filename': 'CNS16190-zh_TW.md', 'category': 'Title', '_id': '1b47c7b4802843498b6da1eaea194046', '_collection_name': 'CNS16190_md_hf_emb_1000_200'}),\n",
       " Document(page_content='控制措施5.2-1：製造者應使脆弱性揭露政策公開可用。此政策至少應包括：', metadata={'source': '../docs\\\\CNS16190-zh_TW.md', 'category_depth': 2, 'last_modified': '2024-07-06T20:12:04', 'languages': ['kor'], 'parent_id': '824a35465a977529d1c9b5c65ff4ed5e', 'filetype': 'text/markdown', 'file_directory': '../docs', 'filename': 'CNS16190-zh_TW.md', 'category': 'Title', '_id': '61d2c3afb9444d6992186413457a2600', '_collection_name': 'CNS16190_md_hf_emb_1000_200'}),\n",
       " Document(page_content='控制措施5.3-13：製造者應以對使用者清晰透通之可存取方式，公布所定義的支援期間。', metadata={'source': '../docs\\\\CNS16190-zh_TW.md', 'category_depth': 2, 'last_modified': '2024-07-06T20:12:04', 'languages': ['kor'], 'parent_id': 'da8d0d9cdc51cf76d695f448dd08ffe2', 'filetype': 'text/markdown', 'file_directory': '../docs', 'filename': 'CNS16190-zh_TW.md', 'category': 'Title', '_id': 'c56c5f99510b47d7a688b8e640cac418', '_collection_name': 'CNS16190_md_hf_emb_1000_200'})]"
      ]
     },
     "execution_count": 6,
     "metadata": {},
     "output_type": "execute_result"
    }
   ],
   "source": [
    "result"
   ]
  }
 ],
 "metadata": {
  "kernelspec": {
   "display_name": ".venv",
   "language": "python",
   "name": "python3"
  },
  "language_info": {
   "codemirror_mode": {
    "name": "ipython",
    "version": 3
   },
   "file_extension": ".py",
   "mimetype": "text/x-python",
   "name": "python",
   "nbconvert_exporter": "python",
   "pygments_lexer": "ipython3",
   "version": "3.11.7"
  }
 },
 "nbformat": 4,
 "nbformat_minor": 2
}
