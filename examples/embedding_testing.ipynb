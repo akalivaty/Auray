{
 "cells": [
  {
   "cell_type": "code",
   "execution_count": 1,
   "metadata": {},
   "outputs": [
    {
     "data": {
      "text/plain": [
       "True"
      ]
     },
     "execution_count": 1,
     "metadata": {},
     "output_type": "execute_result"
    }
   ],
   "source": [
    "import dotenv\n",
    "\n",
    "dotenv.load_dotenv()"
   ]
  },
  {
   "cell_type": "code",
   "execution_count": 2,
   "metadata": {},
   "outputs": [
    {
     "data": {
      "text/plain": [
       "'/home/yuva7508/Auray'"
      ]
     },
     "execution_count": 2,
     "metadata": {},
     "output_type": "execute_result"
    }
   ],
   "source": [
    "import os\n",
    "\n",
    "root_path = os.path.expanduser('~/Auray')\n",
    "root_path"
   ]
  },
  {
   "cell_type": "markdown",
   "metadata": {},
   "source": [
    "# Build HF embedding"
   ]
  },
  {
   "cell_type": "code",
   "execution_count": 3,
   "metadata": {},
   "outputs": [
    {
     "name": "stderr",
     "output_type": "stream",
     "text": [
      "/home/yuva7508/.local/lib/python3.10/site-packages/sentence_transformers/cross_encoder/CrossEncoder.py:11: TqdmExperimentalWarning: Using `tqdm.autonotebook.tqdm` in notebook mode. Use `tqdm.tqdm` instead to force console mode (e.g. in jupyter console)\n",
      "  from tqdm.autonotebook import tqdm, trange\n"
     ]
    }
   ],
   "source": [
    "from langchain_huggingface import HuggingFaceEmbeddings\n",
    "\n",
    "# https://huggingface.co/spaces/mteb/leaderboard\n",
    "sentence_transformer_models = [\n",
    "    \"sentence-transformers/all-MiniLM-L6-v2\",\n",
    "    \"lier007/xiaobu-embedding-v2\", # rank 1 in chinese\n",
    "    \"Alibaba-NLP/gte-large-en-v1.5\", # rank 21 in english\n",
    "    # \"iampanda/zpoint_large_embedding_zh\", # rank 4 in chinese\n",
    "    # \"dunzhang/stella_en_400M_v5\", # rank 6 in english  (deprecated)\n",
    "]\n",
    "\n",
    "sentence_transformer_model = sentence_transformer_models[2]\n",
    "\n",
    "hf_embeddings_model = HuggingFaceEmbeddings(\n",
    "        model_name=sentence_transformer_model,\n",
    "        cache_folder= os.path.join(root_path, \"sentence_transformer_model\"),\n",
    "        model_kwargs={\"trust_remote_code\": True}\n",
    "    )\n"
   ]
  },
  {
   "cell_type": "markdown",
   "metadata": {},
   "source": [
    "# Build HF vector database"
   ]
  },
  {
   "cell_type": "code",
   "execution_count": 4,
   "metadata": {},
   "outputs": [],
   "source": [
    "from langchain_community.document_loaders import UnstructuredMarkdownLoader\n",
    "from langchain_community.vectorstores import Qdrant\n",
    "from langchain_text_splitters import RecursiveCharacterTextSplitter\n",
    "from langchain_community.document_loaders import PyPDFLoader\n",
    "import re\n",
    "\n",
    "document_root_path = os.path.join(root_path, \"docs\")\n",
    "documents = [\n",
    "    \"CNS16190-zh_TW.md\", \n",
    "    \"CNS16190-zh_TW_only_provision.md\", \n",
    "    \"ts_103701_split.pdf\"\n",
    "    ]\n",
    "document_idx = 2\n",
    "\n",
    "chunk_size = 1000\n",
    "chunk_overlap = 200\n",
    "model_alias = re.split('[-_]', re.split('/', sentence_transformer_model)[-1])[0]\n",
    "embedding_cache_path = os.path.join(root_path, \"embedding_cache\")\n",
    "\n",
    "mode = documents[document_idx].split(\".\")[-1]\n",
    "db_collection_names = [\n",
    "    f\"CNS16190_{mode}_hf_{model_alias}_emb_{chunk_size}_{chunk_overlap}\",\n",
    "    f\"TS103701_{mode}_hf_{model_alias}_emb_{chunk_size}_{chunk_overlap}\"\n",
    "    ]\n",
    "db_collection_idx = 1\n",
    "\n",
    "\n",
    "if mode == \"md\":\n",
    "    if os.path.isdir(\n",
    "        os.path.join(\n",
    "            embedding_cache_path, \"collection\", db_collection_names[db_collection_idx]\n",
    "        )\n",
    "    ):\n",
    "        # database already exists, load it\n",
    "        hf_vectorstore = Qdrant.from_existing_collection(\n",
    "            embedding=hf_embeddings_model,\n",
    "            path=embedding_cache_path,\n",
    "            collection_name=db_collection_names[db_collection_idx],\n",
    "        )\n",
    "    else:\n",
    "        # database does not exist, create it\n",
    "        loader = UnstructuredMarkdownLoader(\n",
    "            os.path.join(document_root_path, documents[document_idx]), mode=\"elements\"\n",
    "        )\n",
    "        doc = loader.load()\n",
    "\n",
    "        text_splitter = RecursiveCharacterTextSplitter(chunk_size=1000, chunk_overlap=200)\n",
    "        splits = text_splitter.split_documents(doc)\n",
    "\n",
    "        hf_vectorstore = Qdrant.from_documents(\n",
    "            splits,\n",
    "            embedding=hf_embeddings_model,\n",
    "            path=embedding_cache_path,\n",
    "            collection_name=db_collection_names[db_collection_idx],\n",
    "        )\n",
    "\n",
    "if mode == \"pdf\":\n",
    "    if os.path.isdir(\n",
    "        os.path.join(\n",
    "            embedding_cache_path, \"collection\", db_collection_names[db_collection_idx]\n",
    "        )\n",
    "    ):\n",
    "        # database already exists, load it\n",
    "        hf_vectorstore = Qdrant.from_existing_collection(\n",
    "            embedding=hf_embeddings_model,\n",
    "            path=embedding_cache_path,\n",
    "            collection_name=db_collection_names[db_collection_idx],\n",
    "        )\n",
    "    else:\n",
    "        pdf_loader = PyPDFLoader(os.path.join(document_root_path, documents[document_idx]))\n",
    "        pdf_doc = pdf_loader.load()\n",
    "        pdf_text_splitter = RecursiveCharacterTextSplitter(chunk_size=1000, chunk_overlap=200)\n",
    "        pdf_splits = pdf_text_splitter.split_documents(documents=pdf_doc)\n",
    "\n",
    "        hf_vectorstore = Qdrant.from_documents(\n",
    "            pdf_splits,\n",
    "            embedding=hf_embeddings_model,\n",
    "            path=embedding_cache_path,\n",
    "            collection_name=db_collection_names[db_collection_idx],\n",
    "        )"
   ]
  },
  {
   "cell_type": "markdown",
   "metadata": {},
   "source": [
    "# CNS16190 search"
   ]
  },
  {
   "cell_type": "code",
   "execution_count": 5,
   "metadata": {},
   "outputs": [
    {
     "data": {
      "text/plain": [
       "[{'page_content': '脆弱性揭露政策明確規定安全研究者及其他人能報告問題之過程。必要時可更新此種政策，以進一步確保製造者與安全研究者往來之透明度及清晰度，反之亦然。',\n",
       "  'type': 'Document',\n",
       "  'metadata': {'source': '/home/yuva7508/Auray/docs/CNS16190-zh_TW_only_provision.md',\n",
       "   'category_depth': 0,\n",
       "   'last_modified': '2024-08-08T01:51:56',\n",
       "   'languages': ['kor'],\n",
       "   'filetype': 'text/markdown',\n",
       "   'file_directory': '/home/yuva7508/Auray/docs',\n",
       "   'filename': 'CNS16190-zh_TW_only_provision.md',\n",
       "   'category': 'Title',\n",
       "   'element_id': 'eee6593a76cfd779067189d23698a4a8',\n",
       "   '_id': '251f5e4bcad74e92b8bb426169e91fb1',\n",
       "   '_collection_name': 'CNS16190_md_hf_gte_emb_1000_200'}},\n",
       " {'page_content': '控制措施5.11-3：宜對使用者明確說明如何刪除其個人資料。',\n",
       "  'type': 'Document',\n",
       "  'metadata': {'source': '/home/yuva7508/Auray/docs/CNS16190-zh_TW_only_provision.md',\n",
       "   'category_depth': 2,\n",
       "   'last_modified': '2024-08-08T01:51:56',\n",
       "   'languages': ['kor'],\n",
       "   'parent_id': '24ca796268a594c8baa94404739edf5b',\n",
       "   'filetype': 'text/markdown',\n",
       "   'file_directory': '/home/yuva7508/Auray/docs',\n",
       "   'filename': 'CNS16190-zh_TW_only_provision.md',\n",
       "   'category': 'Title',\n",
       "   'element_id': '9bf784705c7e931b908bc32f45275848',\n",
       "   '_id': '5376c9224ad54f769605c0c02ab28b79',\n",
       "   '_collection_name': 'CNS16190_md_hf_gte_emb_1000_200'}},\n",
       " {'page_content': '控制措施5.3-11：製造者宜以可辨識且明顯之方式通知使用者，要求安全更新連同關於藉由該更新所減輕風險的資訊。',\n",
       "  'type': 'Document',\n",
       "  'metadata': {'source': '/home/yuva7508/Auray/docs/CNS16190-zh_TW_only_provision.md',\n",
       "   'category_depth': 2,\n",
       "   'last_modified': '2024-08-08T01:51:56',\n",
       "   'languages': ['kor'],\n",
       "   'parent_id': '67b440fb134c6494ec3ee87fa95fe319',\n",
       "   'filetype': 'text/markdown',\n",
       "   'file_directory': '/home/yuva7508/Auray/docs',\n",
       "   'filename': 'CNS16190-zh_TW_only_provision.md',\n",
       "   'category': 'Title',\n",
       "   'element_id': '2312b22763390e619ffbb8c6ecafe02a',\n",
       "   '_id': '39f94cfbaf044718a4d100bdcdea5d98',\n",
       "   '_collection_name': 'CNS16190_md_hf_gte_emb_1000_200'}},\n",
       " {'page_content': '第6節包含當蒐集遙測資料時，特定於保護個人資料之控制措施。',\n",
       "  'type': 'Document',\n",
       "  'metadata': {'source': '/home/yuva7508/Auray/docs/CNS16190-zh_TW_only_provision.md',\n",
       "   'category_depth': 0,\n",
       "   'last_modified': '2024-08-08T01:51:56',\n",
       "   'languages': ['kor'],\n",
       "   'filetype': 'text/markdown',\n",
       "   'file_directory': '/home/yuva7508/Auray/docs',\n",
       "   'filename': 'CNS16190-zh_TW_only_provision.md',\n",
       "   'category': 'Title',\n",
       "   'element_id': '897ed088c849c6615b93ab4b09265a0b',\n",
       "   '_id': '3afe3f1ef6194b0a95631c2a3dde07de',\n",
       "   '_collection_name': 'CNS16190_md_hf_gte_emb_1000_200'}},\n",
       " {'page_content': '例：使用者使用精靈設置裝置，其中組態選項之子集以已規定的共同預設值，以及預設已開啟之適切安全選項呈現。',\n",
       "  'type': 'Document',\n",
       "  'metadata': {'source': '/home/yuva7508/Auray/docs/CNS16190-zh_TW_only_provision.md',\n",
       "   'category_depth': 0,\n",
       "   'last_modified': '2024-08-08T01:51:56',\n",
       "   'languages': ['kor'],\n",
       "   'filetype': 'text/markdown',\n",
       "   'file_directory': '/home/yuva7508/Auray/docs',\n",
       "   'filename': 'CNS16190-zh_TW_only_provision.md',\n",
       "   'category': 'Title',\n",
       "   'element_id': '212775c4f4ce975e8058fdf7f257e4df',\n",
       "   '_id': '549a13adb3a54b4b8c0c769155a0afd0',\n",
       "   '_collection_name': 'CNS16190_md_hf_gte_emb_1000_200'}}]"
      ]
     },
     "execution_count": 5,
     "metadata": {},
     "output_type": "execute_result"
    }
   ],
   "source": [
    "from langsmith import traceable\n",
    "\n",
    "question = \"\"\"「脆弱性揭露政策明確規定安全研究者及其他人能報告問題之過程。必要時可更新此種政策，以進一步確保製造者與安全研究者往來之透明度及清晰度，反之亦然。」\n",
    "符合哪一項控制措施？\"\"\"\n",
    "\n",
    "def _convert_docs(results):\n",
    "    return [\n",
    "        {\n",
    "            \"page_content\": r.page_content,\n",
    "            \"type\": \"Document\",\n",
    "            \"metadata\": r.metadata,\n",
    "        }\n",
    "        for r in results\n",
    "    ]\n",
    "\n",
    "@traceable(run_type=\"retriever\")\n",
    "def retrieve_docs(query):\n",
    "    relevant_docs = hf_vectorstore.search(question, search_type=\"similarity\", k=5)\n",
    "    contents = relevant_docs\n",
    "    return _convert_docs(contents)\n",
    "\n",
    "retrieve_docs(question)\n"
   ]
  },
  {
   "cell_type": "markdown",
   "metadata": {},
   "source": [
    "# TS103701 search"
   ]
  },
  {
   "cell_type": "code",
   "execution_count": 5,
   "metadata": {},
   "outputs": [
    {
     "data": {
      "text/plain": [
       "[{'page_content': 'Assignment of verdict \\nThe verdict PASS is assigned if: \\n• the access to the resource for publishing the defined support period to the user is provided as described in the \\nIXIT; and \\n• the access to the resource for publishing the defined support period is unrestricted; and \\n• the defined support period is published. \\nThe verdict FAIL is assigned otherwise. \\n5.3.14 Test group 5.3-14 \\n5.3.14.0 Test group objective \\nThe test group addresses the provision 5.3-14. \\n5.3.14.1 Test case 5.3-14-1 (conceptual) \\nTest purpose \\nThe purpose of this test case is the conceptual assessment of the publication of the rationale for absence of updates and \\nhardware replacement support.',\n",
       "  'type': 'Document',\n",
       "  'metadata': {'source': '/home/yuva7508/Auray/docs/ts_103701_split.pdf',\n",
       "   'page': 21,\n",
       "   '_id': '11bbf9412e474e4ba4f8c2eb02978f56',\n",
       "   '_collection_name': 'TS103701_pdf_hf_gte_emb_1000_200'}},\n",
       " {'page_content': 'practicability reasons or security reasons; and \\n• no update mechanism can be misused by an attacker. \\nThe verdict FAIL is assigned otherwise. \\n5.3.1.2 Test case 5.3-1-2 (functional) \\nTest purpose \\nThe purpose of this test case is the functional assessment of the effectiveness of the update mechanisms to avoid \\nmisuse. \\nTest units \\na) The TL shall  apply all test units as specified in the Test case 5.3-2-2 to every referenced \"Update Mechanism\" \\nin IXIT 6-SoftComp. \\nAssignment of verdict \\nThe verdict PASS is assigned if: \\n• there is no indication that a misuse of any update mechanism is possible. \\nThe verdict FAIL is assigned otherwise. \\n5.3.2 Test group 5.3-2 \\n5.3.2.0 Test group objective \\nThe test group addresses the provision 5.3-2. \\nThis test group examines that at least one update mechanism for the secure installation of software updates exists.',\n",
       "  'type': 'Document',\n",
       "  'metadata': {'source': '/home/yuva7508/Auray/docs/ts_103701_split.pdf',\n",
       "   'page': 10,\n",
       "   '_id': '182d2f9d71304aa0b6f153b63ef682b1',\n",
       "   '_collection_name': 'TS103701_pdf_hf_gte_emb_1000_200'}},\n",
       " {'page_content': 'ETSI ETSI TS 103 701 V1.1.1  (2021 -08) 45  \\nTest units \\na) The TL shall  assess whether the access to the \"Publication of Non-Updatable\" and \"Documentation of \\nReplacement\" in IXIT 2-UserInfo is understandable for a user with limited technical knowledge (see \\nclause D.3). \\nAssignment of verdict \\nThe verdict PASS is assigned if: \\n• the publication of the rationale for absence of updates and hardware replacement support is understandable for \\na user with limited technical knowledge. \\nThe verdict FAIL is assigned otherwise. \\n5.3.14.2 Test case 5.3-14-2 (functional) \\nTest purpose \\nThe purpose of this test case is the functional assessment of the publication of the rationale for absence of updates and \\nhardware replacement support. \\nTest units \\na) The TL shall  functionally check whether the user information on accessing the resource for the rationale for \\nabsence of updates and publishing the hardware  replacement support according to \"Publication of',\n",
       "  'type': 'Document',\n",
       "  'metadata': {'source': '/home/yuva7508/Auray/docs/ts_103701_split.pdf',\n",
       "   'page': 22,\n",
       "   '_id': 'e3c22146fa1f4e669d7bcb3a06462d66',\n",
       "   '_collection_name': 'TS103701_pdf_hf_gte_emb_1000_200'}},\n",
       " {'page_content': '• the user notification is realized on the DUT itself. \\nThe verdict FAIL is assigned otherwise. \\n5.3.13 Test group 5.3-13 \\n5.3.13.0 Test group objective \\nThe test group addresses the provision 5.3-13. \\nThe defined support period describes the time span during which the manufacturer provides support regarding software \\nupdates. The defined software update support period is expected to be published even when no software updates are supported, in which case it indicates the absence of software updates. \\n5.3.13.1 Test case 5.3-13-1 (conceptual) \\nTest purpose \\nThe purpose of this test case is the conceptual assessment of the publication of the defined support period.',\n",
       "  'type': 'Document',\n",
       "  'metadata': {'source': '/home/yuva7508/Auray/docs/ts_103701_split.pdf',\n",
       "   'page': 20,\n",
       "   '_id': '2b2df7c7693f4647b9b81432bd8d041d',\n",
       "   '_collection_name': 'TS103701_pdf_hf_gte_emb_1000_200'}},\n",
       " {'page_content': '5.3.16.1 Test case 5.3-16-1 (conceptual) \\nTest purpose The purpose of this test case is the conceptual assessment of the model designation. \\nTest units \\na) The TL shall  assess whether the model designation of the DUT can be obtained in a clearly recognizable way, \\neither by labelling on the DUT or via a physi cal interface according to \"Model Designation\" in \\nIXIT 2-UserInfo. \\nAssignment of verdict \\nThe verdict PASS is assigned if: \\n• the model designation of the DUT can be obtained clear ly recognizable by labelling on the DUT or via a \\nphysical interface. \\nThe verdict FAIL is assigned otherwise. \\n5.3.16.2 Test case 5.3-16-2 (functional) \\nTest purpose The purpose of this test case is the functional assessment of the model designation. \\nTest units \\na) The TL shall  functionally check whether the model designation of the DUT can be obtained applying the \\ndescribed way of recognition in \"Model Designation\" in IXIT 2-UserInfo.',\n",
       "  'type': 'Document',\n",
       "  'metadata': {'source': '/home/yuva7508/Auray/docs/ts_103701_split.pdf',\n",
       "   'page': 24,\n",
       "   '_id': 'd12547f1267b47fe9b97a89146cd9d5c',\n",
       "   '_collection_name': 'TS103701_pdf_hf_gte_emb_1000_200'}}]"
      ]
     },
     "execution_count": 5,
     "metadata": {},
     "output_type": "execute_result"
    }
   ],
   "source": [
    "from langsmith import traceable\n",
    "\n",
    "question = \"\"\"「The purpose of this test case is the functional assessment of the publication of the rationale for absence of updates and \n",
    "hardware replacement support.」\n",
    "1. 符合哪一項 Test group？\n",
    "2. 這個 Test group 的 Test purpose 是什麼？\n",
    "3. 這個 Test group 的 Test units 是什麼？\n",
    "4. 這個 Test group 的  Assignment of verdict 是什麼？\"\"\"\n",
    "\n",
    "def _convert_docs(results):\n",
    "    return [\n",
    "        {\n",
    "            \"page_content\": r.page_content,\n",
    "            \"type\": \"Document\",\n",
    "            \"metadata\": r.metadata,\n",
    "        }\n",
    "        for r in results\n",
    "    ]\n",
    "\n",
    "@traceable(run_type=\"retriever\")\n",
    "def retrieve_docs(query):\n",
    "    relevant_docs = hf_vectorstore.search(question, search_type=\"similarity\", k=5)\n",
    "    contents = relevant_docs\n",
    "    return _convert_docs(contents)\n",
    "\n",
    "retrieve_docs(question)"
   ]
  }
 ],
 "metadata": {
  "kernelspec": {
   "display_name": ".venv",
   "language": "python",
   "name": "python3"
  },
  "language_info": {
   "codemirror_mode": {
    "name": "ipython",
    "version": 3
   },
   "file_extension": ".py",
   "mimetype": "text/x-python",
   "name": "python",
   "nbconvert_exporter": "python",
   "pygments_lexer": "ipython3",
   "version": "3.10.12"
  }
 },
 "nbformat": 4,
 "nbformat_minor": 2
}
