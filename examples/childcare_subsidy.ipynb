{
 "cells": [
  {
   "cell_type": "code",
   "execution_count": 1,
   "metadata": {},
   "outputs": [],
   "source": [
    "import os\n",
    "import time\n",
    "\n",
    "import torch\n",
    "import transformers\n",
    "from dotenv import load_dotenv\n",
    "from langchain.cache import SQLiteCache\n",
    "from langchain.chains import ConversationalRetrievalChain, RetrievalQA\n",
    "from langchain.document_loaders import PyPDFLoader\n",
    "from langchain.text_splitter import (\n",
    "    CharacterTextSplitter,\n",
    "    MarkdownHeaderTextSplitter,\n",
    "    MarkdownTextSplitter,\n",
    "    RecursiveCharacterTextSplitter,\n",
    ")\n",
    "from langchain_community.document_loaders import UnstructuredMarkdownLoader\n",
    "from langchain_community.vectorstores import Qdrant\n",
    "from langchain_huggingface import HuggingFaceEmbeddings, HuggingFacePipeline\n",
    "from transformers import (\n",
    "    AutoModelForCausalLM,\n",
    "    AutoTokenizer,\n",
    "    BitsAndBytesConfig,\n",
    "    TextStreamer,\n",
    ")\n"
   ]
  },
  {
   "cell_type": "markdown",
   "metadata": {},
   "source": [
    "## Build LLM Model"
   ]
  },
  {
   "cell_type": "code",
   "execution_count": 2,
   "metadata": {},
   "outputs": [
    {
     "name": "stderr",
     "output_type": "stream",
     "text": [
      "Special tokens have been added in the vocabulary, make sure the associated word embeddings are fine-tuned or trained.\n",
      "Special tokens have been added in the vocabulary, make sure the associated word embeddings are fine-tuned or trained.\n"
     ]
    },
    {
     "data": {
      "application/vnd.jupyter.widget-view+json": {
       "model_id": "66c7b2a4dcd74d328cf9e0422faf167c",
       "version_major": 2,
       "version_minor": 0
      },
      "text/plain": [
       "Loading checkpoint shards:   0%|          | 0/4 [00:00<?, ?it/s]"
      ]
     },
     "metadata": {},
     "output_type": "display_data"
    }
   ],
   "source": [
    "model_name = \"MediaTek-Research/Breeze-7B-32k-Instruct-v1_0\"\n",
    "\n",
    "tokenizer = AutoTokenizer.from_pretrained(\n",
    "    model_name, cache_dir=\"../llm_model/\", trust_remote_code=True\n",
    ")\n",
    "tokenizer.pad_token = tokenizer.eos_token\n",
    "tokenizer.padding_side = \"right\"\n",
    "streamer = TextStreamer(tokenizer=tokenizer, skip_prompt=True)\n",
    "\n",
    "model = AutoModelForCausalLM.from_pretrained(\n",
    "    model_name,\n",
    "    cache_dir=\"../llm_model/\",\n",
    "    device_map=\"auto\",\n",
    "    low_cpu_mem_usage=True,  # try to limit RAM\n",
    "    quantization_config=BitsAndBytesConfig(\n",
    "        load_in_4bit=True,\n",
    "        bnb_4bit_use_double_quant=True,\n",
    "        bnb_4bit_quant_type=\"nf4\",\n",
    "        bnb_4bit_compute_dtype=torch.bfloat16,\n",
    "    ),  # load model in low precision to save memory\n",
    "    # attn_implementation=\"flash_attention_2\",\n",
    ")\n",
    "# Building a LLM QNA chain\n",
    "text_generation_pipeline = transformers.pipeline(\n",
    "    model=model,\n",
    "    tokenizer=tokenizer,\n",
    "    task=\"text-generation\",\n",
    "    do_sample=True,\n",
    "    temperature=0.5,\n",
    "    repetition_penalty=1.1,\n",
    "    return_full_text=True,\n",
    "    max_new_tokens=2048,\n",
    "    streamer=streamer,\n",
    ")"
   ]
  },
  {
   "cell_type": "code",
   "execution_count": 3,
   "metadata": {},
   "outputs": [],
   "source": [
    "huggingFacePipeline = HuggingFacePipeline(pipeline=text_generation_pipeline)"
   ]
  },
  {
   "cell_type": "markdown",
   "metadata": {},
   "source": [
    "## Read Document"
   ]
  },
  {
   "cell_type": "markdown",
   "metadata": {},
   "source": [
    "### MarkdownHeaderTextSplitter"
   ]
  },
  {
   "cell_type": "code",
   "execution_count": 4,
   "metadata": {},
   "outputs": [
    {
     "data": {
      "text/plain": [
       "'# 未滿 2 歲兒童托育補助問答集 \\n\\n(112 年 1 月 1 日起適用)\\n\\n## 新制規定\\n\\n### 未滿 2 歲兒童托育補助發放對象？(作業要點第 12 點)\\n\\n一、實際年齡未滿2歲的我國籍兒童，且請領當時符合下列情形者： \\n(一)委託人之幼兒完成出生登記或戶籍登記。 \\n(二)送托與政府簽約之公設民營托嬰中心、社區公共托育家園、私立托嬰中心及居家托育人員(保母)。 \\n(三)每週送托時數達30小時以上。\\n(四)未領取育兒津貼。 \\n(五)未經政府公費安置。 \\n(六)不得指定一對一收托。但發展遲緩、身心障礙、罕見疾病或有其他特殊狀況之幼兒，不在此限。\\n\\n二、110年8月起取消「育嬰留職停薪津貼、弱勢兒少生活津貼不得同時領取托育補助」規定，另112年起取消綜合所得稅率未達20%之規定。換言之，如有送托公設民營托嬰中心、社區公共托育家園、準公共托嬰中心或準公共保母，且未申領育兒津貼或接受政府安置收容之未滿2歲兒童，都可申請托育補助。\\n\\n### 未滿 2 歲兒童托育補助發放金額？\\n\\n一、補助金額： \\n(一) 公共化托育補助：111年8月起每月5,500元起。 \\n(二) 準公共托育補助：111年8月起每月8,500元起。 \\n\\n二、第2名子女即加發：第2名子女加發1,000元、第3名以上子女則加發2,000元。(備註：胎次計算，請參考Q14)\\n\\n三、擴大補助對象：取消綜合所得稅率未達20%、育嬰留職停薪津貼、弱勢兒童生活類補助不得同時領取的規定。如果您正在領取軍保、公保、就保育嬰留職停薪津貼或其他弱勢兒童少年生活類補助，均可以申請托育補助。\\n\\n112年1月起每名兒童每月發放金額 \\n單位：元/月 \\n             出生 \\n             排序 \\n家庭 \\n類別 \\n公共化 \\n(公設民營、社區公共托育家\\n園) \\n準公共 \\n (簽約之私立托嬰中心及居家托育) \\n第1名 \\n子女 \\n第2名 \\n子女 \\n第3名 \\n以上子女 \\n第1名 \\n子女 \\n第2名 \\n子女 \\n第3名 \\n以上子女 \\n一般家庭 5,500 6,500 7,500 8,500 9,500  10,500 \\n中低收入戶 7,500 8,500 9,500 10,500 11,500 12,500 \\n低收入戶 \\n弱勢家庭 9,500 10,500 11,500 12,500 13,500 14,500\\n\\n備註：\\n1.自112年起取消稅率未達20%之規定。 \\n2.中低收入戶、低收入戶，係指經直轄市、縣(市)政府依社會救助法審核認定。 \\n3.弱勢家庭係指：\\n(1)家有未滿2歲之發展遲緩或身心障礙幼兒之家庭。 \\n(2)特殊境遇家庭。 \\n(3)經直轄市、縣(市)政府依法認定之弱勢家庭。\\n\\n## 申請程序\\n\\n### 申請未滿 2 歲托育補助需準備哪些文件？\\n\\n一、 由申請人(父母雙方或監護人)提出下列文件： \\n(一)未滿二歲兒童托育準公共化服務費用申報表。\\n(二)申請人及兒童之身分證明文件。 \\n(三)簽訂之托育服務契約書。 \\n(四)申請人其中一方之郵局(或地方政府指定之金融機構)帳戶封面影本。 \\n(五)其他證明文件（如：低收入戶、中低收入戶、第 2、3 名以上子女等）。 \\n二、 提醒您，第 2 名以上(含)子女有加發補助，您可於申請時主動檢具第 2 名以上(含)子女證明文件，方便核定機關查調比對。\\n\\n### 未滿 2 歲托育補助要到哪裡申請？\\n\\n一、請檢具申請書及相關證明文件，於托育事實發生之日起 15 日內， 以「郵寄」或「親送」向托嬰中心或居家保母所屬之居家托育服務中心提出申請。 \\n二、民眾如對重為核定結果有疑義，應自處分書送達之翌日起 30 日內， 檢具相關佐證資料，向核定機關提起申復。逾期提出申復者，不予受理。\\n\\n### 兒童原本自己照顧並領取未滿 2 歲育兒津貼，後來改送托與政府簽約托嬰中心或居家托育人員(保母），或者原領托育補助改領育兒津貼，需要重新提出申請嗎？\\n\\n一、兒童原本領取未滿2歲育兒津貼，如改送托與政府簽約的托嬰中心或居家保母，請檢附相關文件由托嬰中心或居家托育服務中心代為申請托育補助，並記得向兒童戶籍所在地鄉(鎮、市、區)公所取消原申領之育兒津貼。 \\n二、相反的，如果原本送托與政府簽約的托嬰中心或居家保母並領取托育補助者，若改為自己(或親屬)照顧，也要記得向兒童戶籍所在地 鄉(鎮、市、區)公所提出申請育兒津貼。\\n\\n### 正在領取衛福部未滿 2 歲托育補助，兒童滿 2 歲未滿 3 歲期間持續送托原托嬰中心或居家托育人員(保母)，是否仍可領取托育補助，還需要重新申請嗎？\\n\\n如果正在領取未滿 2 歲托育補助，兒童滿 2 歲未滿 3 歲期間仍持續送托原托嬰中心、托育家園或居家保母，仍符合托育補助領取資格，系統將持續發放托育補助，不須重新提出申請，以達便民效益。\\n\\n### 兒童送托對象變更，需要重新提出申請嗎？\\n\\n兒童送托對象有變更，如由居家保母變更為托嬰中心，或 A 托嬰中心變更至B 托嬰中心，皆須重新提出申請，以利直轄市、縣(市)政府建檔及撥款。\\n\\n## 申請資格\\n\\n### 兒童父母或監護人尚未取得我國國籍是否能提出申請？\\n\\n不論父母或監護人之國籍為何，只要兒童為我國籍並完成出生登記或初設戶籍登記，其父母雙方或監護人就可提出申請。\\n\\n### 兒童具有中華民國國籍，但未設戶籍，是否具備托育補助請領資格？\\n\\n本補助發放對象，兒童應具有中華民國國籍且有送托事實，即具備托育補助請領資格，與其戶籍無涉。\\n\\n### 可否由實際照顧兒童之人提出申請\\n\\n兒童之父母雙方、監護人具下表所列情況之一或其他特殊情形，未能實際照顧兒童者，得由實際照顧兒童且與兒童共同居住之人提出申請：\\n\\n| 情形 | 應備文件 |\\n| 父母一方失蹤，經向警察機關報案協尋未獲，達 6 個月以上 | 警察受(處)理查詢人口案件登記表之收執聯影本 |\\n| 父母一方處一年以上之徒刑或受拘束人身自由之保安處分一年以上，且在執行中 | 保安處分處所執行證明、在監執行證明 |\\n| 有家庭暴力 | 家暴事件調查表影本、家庭暴力事件驗傷診斷書影本或暫時／通常保護令影本 |\\n| 其他變故或特殊情形 | 經社工或受理機關派員實際訪視，確認兒童之父母雙方或監護人未照顧幼兒，且實際照顧者確實與兒童共同居住者，得由實際照顧者提出申請 |\\n\\n### 申請人離異取得兒童監護權後再婚，繼父（母）與兒童戶籍並共同生活，但繼父母未收養該名兒童，得否以繼父母作為申請人？\\n\\n繼父(母)如未收養該名兒童，則與該名兒童無血緣與法律之親子關係，因此，仍應由該名兒童之監護人提出申請為原則。\\n\\n### 兒童父母離異，由誰提出申請？由何人領取補助？\\n\\n 一、視監護權歸屬決定由誰提出申請，有下列幾種情形： \\n（一）未協議監護權或共同監護：由兒童的父母共同提出申請。 \\n（二）一方取得監護權：由取得監護權的父或母提出申請。\\n二、本補助得經父母協議由其中一方提供撥款帳戶。\\n\\n## 資格認定\\n\\n### 第 2、3 名以上子女如何認定？需要準備哪些文件？\\n\\n一、第 2、3 名以上子女，指戶籍登記為同一母親或父親，並依出生年月日排序計算之第 2、3 名（含）以上子女。雙（多）胞胎者，依子女出生排序為第 2、3 名（含）以上者。舉例說明： \\n（一）胎次別為第2胎的雙胞胎兄弟，哥哥為第2名子女，弟弟為第3名子女。 \\n（二）胎次別為第1胎的3胞胎兄弟，最小的弟弟為第3名子女。 \\n（三）收養子女、再婚子女、同一父或母所生因故未於同一戶籍內，均列入排行計算。 \\n二、需準備文件：戶口名簿或其他足茲證明之相關文件。 \\n三、如為重組家庭情形，重組後之父母再生下共同之子女，則其原本  各自之子女，得計入子女次序計算。舉例說明： \\nD 母帶有一子甲、E 父帶有一子乙，D、E再婚重組並生下丙，則得檢附證明文件，採認丙為 D、E 共同照顧之第３名子女，甲及乙則依其出生年月日排序計算為第１名及第２名子女。 \\n\\n### 本要點十二、(三)所稱未經「政府公費安置收容」，所指為何?兒童隨母入監、隨照顧者接受緊急庇護所等公費安置，是否得申領托育補助？\\n\\n一、「政府公費收容安置」是指兒童本人接受政府公費安置，安置於兒童及少年安置教養機構或寄養家庭等。 \\n二、父母入監或入住緊急庇護所，兒童隨父母安置，無送托事實，無法申領托育補助。\\n\\n## 發放規定\\n\\n### 托育補助的發放金額如何計算？(作業要點第 16 點) \\n\\n托育補助的核定以月為單位，送托日數超過半個月未滿一個月者，以一個月計；半個月以下者，以半個月計。若實際支付托育費用低於補助金額者，核實補助。\\n\\n### 因故未能於送托日起 15 日內申請托育補助，可以追溯自送托日起算發給嗎？(申領作業要點第 14 點) \\n\\n為給予父母準備托育補助申請資料時間，明定 15 日之緩衝期，如於托育事實發生之日起 15 日內備齊相關資料提出申請者，其核定日期自托育事實發生之日起算；超過 15 日者，以資料備齊送達之日起算。 \\n\\n## 進度查詢\\n\\n### 申請後多久可以領到津貼？如何知道審核進度? \\n\\n一、托嬰中心、托育家園、居家托育服務中心應於申請人備齊文件之日起五個工作日內完成初審，並送交直轄市、縣(市)政府複審核定後， 按月撥入申請人指定金融帳戶。 \\n二、可向送托之縣(市)政府社會局（處）查詢。\\n\\n### 有相關問題，可以到哪裡詢問？ \\n\\n一、各地方政府社會局（處）。 \\n二、衛生福利部「1957 福利諮詢專線」(每天早上 8 點至晚上 10 點)。'"
      ]
     },
     "execution_count": 4,
     "metadata": {},
     "output_type": "execute_result"
    }
   ],
   "source": [
    "with open(\"../docs/childcare_subsidy_qa.md\", \"r\", encoding=\"utf-8\") as f:\n",
    "    data = f.read()\n",
    "\n",
    "data"
   ]
  },
  {
   "cell_type": "code",
   "execution_count": 5,
   "metadata": {},
   "outputs": [
    {
     "name": "stdout",
     "output_type": "stream",
     "text": [
      "md_splits len: 19\n",
      "\n",
      "page_content='(112 年 1 月 1 日起適用)' metadata={'Header 1': '未滿 2 歲兒童托育補助問答集'}\n",
      "page_content='一、實際年齡未滿2歲的我國籍兒童，且請領當時符合下列情形者：\\n(一)委託人之幼兒完成出生登記或戶籍登記。\\n(二)送托與政府簽約之公設民營托嬰中心、社區公共托育家園、私立托嬰中心及居家托育人員(保母)。\\n(三)每週送托時數達30小時以上。\\n(四)未領取育兒津貼。\\n(五)未經政府公費安置。\\n(六)不得指定一對一收托。但發展遲緩、身心障礙、罕見疾病或有其他特殊狀況之幼兒，不在此限。  \\n二、110年8月起取消「育嬰留職停薪津貼、弱勢兒少生活津貼不得同時領取托育補助」規定，另112年起取消綜合所得稅率未達20%之規定。換言之，如有送托公設民營托嬰中心、社區公共托育家園、準公共托嬰中心或準公共保母，且未申領育兒津貼或接受政府安置收容之未滿2歲兒童，都可申請托育補助。' metadata={'Header 1': '未滿 2 歲兒童托育補助問答集', 'Header 2': '新制規定', 'Header 3': '未滿 2 歲兒童托育補助發放對象？(作業要點第 12 點)'}\n",
      "page_content='一、補助金額：\\n(一) 公共化托育補助：111年8月起每月5,500元起。\\n(二) 準公共托育補助：111年8月起每月8,500元起。  \\n二、第2名子女即加發：第2名子女加發1,000元、第3名以上子女則加發2,000元。(備註：胎次計算，請參考Q14)  \\n三、擴大補助對象：取消綜合所得稅率未達20%、育嬰留職停薪津貼、弱勢兒童生活類補助不得同時領取的規定。如果您正在領取軍保、公保、就保育嬰留職停薪津貼或其他弱勢兒童少年生活類補助，均可以申請托育補助。  \\n112年1月起每名兒童每月發放金額\\n單位：元/月\\n出生\\n排序\\n家庭\\n類別\\n公共化\\n(公設民營、社區公共托育家\\n園)\\n準公共\\n(簽約之私立托嬰中心及居家托育)\\n第1名\\n子女\\n第2名\\n子女\\n第3名\\n以上子女\\n第1名\\n子女\\n第2名\\n子女\\n第3名\\n以上子女\\n一般家庭 5,500 6,500 7,500 8,500 9,500  10,500\\n中低收入戶 7,500 8,500 9,500 10,500 11,500 12,500\\n低收入戶\\n弱勢家庭 9,500 10,500 11,500 12,500 13,500 14,500  \\n備註：\\n1.自112年起取消稅率未達20%之規定。\\n2.中低收入戶、低收入戶，係指經直轄市、縣(市)政府依社會救助法審核認定。\\n3.弱勢家庭係指：\\n(1)家有未滿2歲之發展遲緩或身心障礙幼兒之家庭。\\n(2)特殊境遇家庭。\\n(3)經直轄市、縣(市)政府依法認定之弱勢家庭。' metadata={'Header 1': '未滿 2 歲兒童托育補助問答集', 'Header 2': '新制規定', 'Header 3': '未滿 2 歲兒童托育補助發放金額？'}\n",
      "page_content='一、 由申請人(父母雙方或監護人)提出下列文件：\\n(一)未滿二歲兒童托育準公共化服務費用申報表。\\n(二)申請人及兒童之身分證明文件。\\n(三)簽訂之托育服務契約書。\\n(四)申請人其中一方之郵局(或地方政府指定之金融機構)帳戶封面影本。\\n(五)其他證明文件（如：低收入戶、中低收入戶、第 2、3 名以上子女等）。\\n二、 提醒您，第 2 名以上(含)子女有加發補助，您可於申請時主動檢具第 2 名以上(含)子女證明文件，方便核定機關查調比對。' metadata={'Header 1': '未滿 2 歲兒童托育補助問答集', 'Header 2': '申請程序', 'Header 3': '申請未滿 2 歲托育補助需準備哪些文件？'}\n",
      "page_content='一、請檢具申請書及相關證明文件，於托育事實發生之日起 15 日內， 以「郵寄」或「親送」向托嬰中心或居家保母所屬之居家托育服務中心提出申請。\\n二、民眾如對重為核定結果有疑義，應自處分書送達之翌日起 30 日內， 檢具相關佐證資料，向核定機關提起申復。逾期提出申復者，不予受理。' metadata={'Header 1': '未滿 2 歲兒童托育補助問答集', 'Header 2': '申請程序', 'Header 3': '未滿 2 歲托育補助要到哪裡申請？'}\n",
      "page_content='一、兒童原本領取未滿2歲育兒津貼，如改送托與政府簽約的托嬰中心或居家保母，請檢附相關文件由托嬰中心或居家托育服務中心代為申請托育補助，並記得向兒童戶籍所在地鄉(鎮、市、區)公所取消原申領之育兒津貼。\\n二、相反的，如果原本送托與政府簽約的托嬰中心或居家保母並領取托育補助者，若改為自己(或親屬)照顧，也要記得向兒童戶籍所在地 鄉(鎮、市、區)公所提出申請育兒津貼。' metadata={'Header 1': '未滿 2 歲兒童托育補助問答集', 'Header 2': '申請程序', 'Header 3': '兒童原本自己照顧並領取未滿 2 歲育兒津貼，後來改送托與政府簽約托嬰中心或居家托育人員(保母），或者原領托育補助改領育兒津貼，需要重新提出申請嗎？'}\n",
      "page_content='如果正在領取未滿 2 歲托育補助，兒童滿 2 歲未滿 3 歲期間仍持續送托原托嬰中心、托育家園或居家保母，仍符合托育補助領取資格，系統將持續發放托育補助，不須重新提出申請，以達便民效益。' metadata={'Header 1': '未滿 2 歲兒童托育補助問答集', 'Header 2': '申請程序', 'Header 3': '正在領取衛福部未滿 2 歲托育補助，兒童滿 2 歲未滿 3 歲期間持續送托原托嬰中心或居家托育人員(保母)，是否仍可領取托育補助，還需要重新申請嗎？'}\n",
      "page_content='兒童送托對象有變更，如由居家保母變更為托嬰中心，或 A 托嬰中心變更至B 托嬰中心，皆須重新提出申請，以利直轄市、縣(市)政府建檔及撥款。' metadata={'Header 1': '未滿 2 歲兒童托育補助問答集', 'Header 2': '申請程序', 'Header 3': '兒童送托對象變更，需要重新提出申請嗎？'}\n",
      "page_content='不論父母或監護人之國籍為何，只要兒童為我國籍並完成出生登記或初設戶籍登記，其父母雙方或監護人就可提出申請。' metadata={'Header 1': '未滿 2 歲兒童托育補助問答集', 'Header 2': '申請資格', 'Header 3': '兒童父母或監護人尚未取得我國國籍是否能提出申請？'}\n",
      "page_content='本補助發放對象，兒童應具有中華民國國籍且有送托事實，即具備托育補助請領資格，與其戶籍無涉。' metadata={'Header 1': '未滿 2 歲兒童托育補助問答集', 'Header 2': '申請資格', 'Header 3': '兒童具有中華民國國籍，但未設戶籍，是否具備托育補助請領資格？'}\n",
      "page_content='兒童之父母雙方、監護人具下表所列情況之一或其他特殊情形，未能實際照顧兒童者，得由實際照顧兒童且與兒童共同居住之人提出申請：  \\n| 情形 | 應備文件 |\\n| 父母一方失蹤，經向警察機關報案協尋未獲，達 6 個月以上 | 警察受(處)理查詢人口案件登記表之收執聯影本 |\\n| 父母一方處一年以上之徒刑或受拘束人身自由之保安處分一年以上，且在執行中 | 保安處分處所執行證明、在監執行證明 |\\n| 有家庭暴力 | 家暴事件調查表影本、家庭暴力事件驗傷診斷書影本或暫時／通常保護令影本 |\\n| 其他變故或特殊情形 | 經社工或受理機關派員實際訪視，確認兒童之父母雙方或監護人未照顧幼兒，且實際照顧者確實與兒童共同居住者，得由實際照顧者提出申請 |' metadata={'Header 1': '未滿 2 歲兒童托育補助問答集', 'Header 2': '申請資格', 'Header 3': '可否由實際照顧兒童之人提出申請'}\n",
      "page_content='繼父(母)如未收養該名兒童，則與該名兒童無血緣與法律之親子關係，因此，仍應由該名兒童之監護人提出申請為原則。' metadata={'Header 1': '未滿 2 歲兒童托育補助問答集', 'Header 2': '申請資格', 'Header 3': '申請人離異取得兒童監護權後再婚，繼父（母）與兒童戶籍並共同生活，但繼父母未收養該名兒童，得否以繼父母作為申請人？'}\n",
      "page_content='一、視監護權歸屬決定由誰提出申請，有下列幾種情形：\\n（一）未協議監護權或共同監護：由兒童的父母共同提出申請。\\n（二）一方取得監護權：由取得監護權的父或母提出申請。\\n二、本補助得經父母協議由其中一方提供撥款帳戶。' metadata={'Header 1': '未滿 2 歲兒童托育補助問答集', 'Header 2': '申請資格', 'Header 3': '兒童父母離異，由誰提出申請？由何人領取補助？'}\n",
      "page_content='一、第 2、3 名以上子女，指戶籍登記為同一母親或父親，並依出生年月日排序計算之第 2、3 名（含）以上子女。雙（多）胞胎者，依子女出生排序為第 2、3 名（含）以上者。舉例說明：\\n（一）胎次別為第2胎的雙胞胎兄弟，哥哥為第2名子女，弟弟為第3名子女。\\n（二）胎次別為第1胎的3胞胎兄弟，最小的弟弟為第3名子女。\\n（三）收養子女、再婚子女、同一父或母所生因故未於同一戶籍內，均列入排行計算。\\n二、需準備文件：戶口名簿或其他足茲證明之相關文件。\\n三、如為重組家庭情形，重組後之父母再生下共同之子女，則其原本  各自之子女，得計入子女次序計算。舉例說明：\\nD 母帶有一子甲、E 父帶有一子乙，D、E再婚重組並生下丙，則得檢附證明文件，採認丙為 D、E 共同照顧之第３名子女，甲及乙則依其出生年月日排序計算為第１名及第２名子女。' metadata={'Header 1': '未滿 2 歲兒童托育補助問答集', 'Header 2': '資格認定', 'Header 3': '第 2、3 名以上子女如何認定？需要準備哪些文件？'}\n",
      "page_content='一、「政府公費收容安置」是指兒童本人接受政府公費安置，安置於兒童及少年安置教養機構或寄養家庭等。\\n二、父母入監或入住緊急庇護所，兒童隨父母安置，無送托事實，無法申領托育補助。' metadata={'Header 1': '未滿 2 歲兒童托育補助問答集', 'Header 2': '資格認定', 'Header 3': '本要點十二、(三)所稱未經「政府公費安置收容」，所指為何?兒童隨母入監、隨照顧者接受緊急庇護所等公費安置，是否得申領托育補助？'}\n",
      "page_content='托育補助的核定以月為單位，送托日數超過半個月未滿一個月者，以一個月計；半個月以下者，以半個月計。若實際支付托育費用低於補助金額者，核實補助。' metadata={'Header 1': '未滿 2 歲兒童托育補助問答集', 'Header 2': '發放規定', 'Header 3': '托育補助的發放金額如何計算？(作業要點第 16 點)'}\n",
      "page_content='為給予父母準備托育補助申請資料時間，明定 15 日之緩衝期，如於托育事實發生之日起 15 日內備齊相關資料提出申請者，其核定日期自托育事實發生之日起算；超過 15 日者，以資料備齊送達之日起算。' metadata={'Header 1': '未滿 2 歲兒童托育補助問答集', 'Header 2': '發放規定', 'Header 3': '因故未能於送托日起 15 日內申請托育補助，可以追溯自送托日起算發給嗎？(申領作業要點第 14 點)'}\n",
      "page_content='一、托嬰中心、托育家園、居家托育服務中心應於申請人備齊文件之日起五個工作日內完成初審，並送交直轄市、縣(市)政府複審核定後， 按月撥入申請人指定金融帳戶。\\n二、可向送托之縣(市)政府社會局（處）查詢。' metadata={'Header 1': '未滿 2 歲兒童托育補助問答集', 'Header 2': '進度查詢', 'Header 3': '申請後多久可以領到津貼？如何知道審核進度?'}\n",
      "page_content='一、各地方政府社會局（處）。\\n二、衛生福利部「1957 福利諮詢專線」(每天早上 8 點至晚上 10 點)。' metadata={'Header 1': '未滿 2 歲兒童托育補助問答集', 'Header 2': '進度查詢', 'Header 3': '有相關問題，可以到哪裡詢問？'}\n"
     ]
    }
   ],
   "source": [
    "headers_to_split_on = [\n",
    "    (\"#\", \"Header 1\"),\n",
    "    (\"##\", \"Header 2\"),\n",
    "    (\"###\", \"Header 3\"),\n",
    "]\n",
    "\n",
    "md_splits = MarkdownHeaderTextSplitter(\n",
    "    headers_to_split_on=headers_to_split_on\n",
    ").split_text(data)\n",
    "\n",
    "print(f\"md_splits len: {len(md_splits)}\\n\")\n",
    "for split in md_splits:\n",
    "    print(split)\n"
   ]
  },
  {
   "cell_type": "markdown",
   "metadata": {},
   "source": [
    "### RecursiveCharacterTextSplitter"
   ]
  },
  {
   "cell_type": "code",
   "execution_count": 6,
   "metadata": {},
   "outputs": [
    {
     "name": "stdout",
     "output_type": "stream",
     "text": [
      "\n",
      "chunked_documents len: 123\n",
      "page_content='(112 年 1 月 1 日起適用)' metadata={'Header 1': '未滿 2 歲兒童托育補助問答集'}\n",
      "page_content='一、實際年齡未滿2歲的我國籍兒童，且請領當時符合下列情形者：' metadata={'Header 1': '未滿 2 歲兒童托育補助問答集', 'Header 2': '新制規定', 'Header 3': '未滿 2 歲兒童托育補助發放對象？(作業要點第 12 點)'}\n",
      "page_content='(一)委託人之幼兒完成出生登記或戶籍登記。' metadata={'Header 1': '未滿 2 歲兒童托育補助問答集', 'Header 2': '新制規定', 'Header 3': '未滿 2 歲兒童托育補助發放對象？(作業要點第 12 點)'}\n",
      "page_content='(二)送托與政府簽約之公設民營托嬰中心、社區公共托育家園' metadata={'Header 1': '未滿 2 歲兒童托育補助問答集', 'Header 2': '新制規定', 'Header 3': '未滿 2 歲兒童托育補助發放對象？(作業要點第 12 點)'}\n",
      "page_content='、社區公共托育家園、私立托嬰中心及居家托育人員(保母)' metadata={'Header 1': '未滿 2 歲兒童托育補助問答集', 'Header 2': '新制規定', 'Header 3': '未滿 2 歲兒童托育補助發放對象？(作業要點第 12 點)'}\n",
      "page_content='。' metadata={'Header 1': '未滿 2 歲兒童托育補助問答集', 'Header 2': '新制規定', 'Header 3': '未滿 2 歲兒童托育補助發放對象？(作業要點第 12 點)'}\n",
      "page_content='(三)每週送托時數達30小時以上。\\n(四)未領取育兒津貼。' metadata={'Header 1': '未滿 2 歲兒童托育補助問答集', 'Header 2': '新制規定', 'Header 3': '未滿 2 歲兒童托育補助發放對象？(作業要點第 12 點)'}\n",
      "page_content='(五)未經政府公費安置。' metadata={'Header 1': '未滿 2 歲兒童托育補助問答集', 'Header 2': '新制規定', 'Header 3': '未滿 2 歲兒童托育補助發放對象？(作業要點第 12 點)'}\n",
      "page_content='(六)不得指定一對一收托' metadata={'Header 1': '未滿 2 歲兒童托育補助問答集', 'Header 2': '新制規定', 'Header 3': '未滿 2 歲兒童托育補助發放對象？(作業要點第 12 點)'}\n",
      "page_content='。但發展遲緩、身心障礙、罕見疾病或有其他特殊狀況之幼兒，不在此限。' metadata={'Header 1': '未滿 2 歲兒童托育補助問答集', 'Header 2': '新制規定', 'Header 3': '未滿 2 歲兒童托育補助發放對象？(作業要點第 12 點)'}\n",
      "page_content='二、110年8月起取消「育嬰留職停薪津貼' metadata={'Header 1': '未滿 2 歲兒童托育補助問答集', 'Header 2': '新制規定', 'Header 3': '未滿 2 歲兒童托育補助發放對象？(作業要點第 12 點)'}\n",
      "page_content='、弱勢兒少生活津貼不得同時領取托育補助」規定' metadata={'Header 1': '未滿 2 歲兒童托育補助問答集', 'Header 2': '新制規定', 'Header 3': '未滿 2 歲兒童托育補助發放對象？(作業要點第 12 點)'}\n",
      "page_content='，另112年起取消綜合所得稅率未達20%之規定' metadata={'Header 1': '未滿 2 歲兒童托育補助問答集', 'Header 2': '新制規定', 'Header 3': '未滿 2 歲兒童托育補助發放對象？(作業要點第 12 點)'}\n",
      "page_content='。換言之，如有送托公設民營托嬰中心、社區公共托育家園、準公共托嬰中心或準公共保母' metadata={'Header 1': '未滿 2 歲兒童托育補助問答集', 'Header 2': '新制規定', 'Header 3': '未滿 2 歲兒童托育補助發放對象？(作業要點第 12 點)'}\n",
      "page_content='，且未申領育兒津貼或接受政府安置收容之未滿2歲兒童，都可申請托育補助' metadata={'Header 1': '未滿 2 歲兒童托育補助問答集', 'Header 2': '新制規定', 'Header 3': '未滿 2 歲兒童托育補助發放對象？(作業要點第 12 點)'}\n",
      "page_content='。' metadata={'Header 1': '未滿 2 歲兒童托育補助問答集', 'Header 2': '新制規定', 'Header 3': '未滿 2 歲兒童托育補助發放對象？(作業要點第 12 點)'}\n",
      "page_content='一、補助金額：\\n(一) 公共化托育補助：111年8月起每月5,500元起。' metadata={'Header 1': '未滿 2 歲兒童托育補助問答集', 'Header 2': '新制規定', 'Header 3': '未滿 2 歲兒童托育補助發放金額？'}\n",
      "page_content='(二) 準公共托育補助：111年8月起每月8,500元起。' metadata={'Header 1': '未滿 2 歲兒童托育補助問答集', 'Header 2': '新制規定', 'Header 3': '未滿 2 歲兒童托育補助發放金額？'}\n",
      "page_content='二、第2名子女即加發：第2名子女加發1,000元' metadata={'Header 1': '未滿 2 歲兒童托育補助問答集', 'Header 2': '新制規定', 'Header 3': '未滿 2 歲兒童托育補助發放金額？'}\n",
      "page_content='、第3名以上子女則加發2,000元' metadata={'Header 1': '未滿 2 歲兒童托育補助問答集', 'Header 2': '新制規定', 'Header 3': '未滿 2 歲兒童托育補助發放金額？'}\n",
      "page_content='。(備註：胎次計算，請參考Q14)' metadata={'Header 1': '未滿 2 歲兒童托育補助問答集', 'Header 2': '新制規定', 'Header 3': '未滿 2 歲兒童托育補助發放金額？'}\n",
      "page_content='三、擴大補助對象：取消綜合所得稅率未達20%、育嬰留職停薪津貼' metadata={'Header 1': '未滿 2 歲兒童托育補助問答集', 'Header 2': '新制規定', 'Header 3': '未滿 2 歲兒童托育補助發放金額？'}\n",
      "page_content='、育嬰留職停薪津貼、弱勢兒童生活類補助不得同時領取的規定' metadata={'Header 1': '未滿 2 歲兒童托育補助問答集', 'Header 2': '新制規定', 'Header 3': '未滿 2 歲兒童托育補助發放金額？'}\n",
      "page_content='。如果您正在領取軍保、公保、就保育嬰留職停薪津貼或其他弱勢兒童少年生活類補助' metadata={'Header 1': '未滿 2 歲兒童托育補助問答集', 'Header 2': '新制規定', 'Header 3': '未滿 2 歲兒童托育補助發放金額？'}\n",
      "page_content='，均可以申請托育補助' metadata={'Header 1': '未滿 2 歲兒童托育補助問答集', 'Header 2': '新制規定', 'Header 3': '未滿 2 歲兒童托育補助發放金額？'}\n",
      "page_content='。' metadata={'Header 1': '未滿 2 歲兒童托育補助問答集', 'Header 2': '新制規定', 'Header 3': '未滿 2 歲兒童托育補助發放金額？'}\n",
      "page_content='112年1月起每名兒童每月發放金額\\n單位：元/月\\n出生\\n排序\\n家庭\\n類別' metadata={'Header 1': '未滿 2 歲兒童托育補助問答集', 'Header 2': '新制規定', 'Header 3': '未滿 2 歲兒童托育補助發放金額？'}\n",
      "page_content='排序\\n家庭\\n類別\\n公共化\\n(公設民營、社區公共托育家\\n園)\\n準公共' metadata={'Header 1': '未滿 2 歲兒童托育補助問答集', 'Header 2': '新制規定', 'Header 3': '未滿 2 歲兒童托育補助發放金額？'}\n",
      "page_content='園)\\n準公共\\n(簽約之私立托嬰中心及居家托育)\\n第1名\\n子女\\n第2名\\n子女' metadata={'Header 1': '未滿 2 歲兒童托育補助問答集', 'Header 2': '新制規定', 'Header 3': '未滿 2 歲兒童托育補助發放金額？'}\n",
      "page_content='子女\\n第2名\\n子女\\n第3名\\n以上子女\\n第1名\\n子女\\n第2名\\n子女\\n第3名' metadata={'Header 1': '未滿 2 歲兒童托育補助問答集', 'Header 2': '新制規定', 'Header 3': '未滿 2 歲兒童托育補助發放金額？'}\n",
      "page_content='子女\\n第3名\\n以上子女' metadata={'Header 1': '未滿 2 歲兒童托育補助問答集', 'Header 2': '新制規定', 'Header 3': '未滿 2 歲兒童托育補助發放金額？'}\n",
      "page_content='一般家庭 5,500 6,500 7,500 8,500 9,500' metadata={'Header 1': '未滿 2 歲兒童托育補助問答集', 'Header 2': '新制規定', 'Header 3': '未滿 2 歲兒童托育補助發放金額？'}\n",
      "page_content='9,500  10,500' metadata={'Header 1': '未滿 2 歲兒童托育補助問答集', 'Header 2': '新制規定', 'Header 3': '未滿 2 歲兒童托育補助發放金額？'}\n",
      "page_content='中低收入戶 7,500 8,500 9,500 10,500 11,500' metadata={'Header 1': '未滿 2 歲兒童托育補助問答集', 'Header 2': '新制規定', 'Header 3': '未滿 2 歲兒童托育補助發放金額？'}\n",
      "page_content='11,500 12,500' metadata={'Header 1': '未滿 2 歲兒童托育補助問答集', 'Header 2': '新制規定', 'Header 3': '未滿 2 歲兒童托育補助發放金額？'}\n",
      "page_content='低收入戶' metadata={'Header 1': '未滿 2 歲兒童托育補助問答集', 'Header 2': '新制規定', 'Header 3': '未滿 2 歲兒童托育補助發放金額？'}\n",
      "page_content='弱勢家庭 9,500 10,500 11,500 12,500 13,500' metadata={'Header 1': '未滿 2 歲兒童托育補助問答集', 'Header 2': '新制規定', 'Header 3': '未滿 2 歲兒童托育補助發放金額？'}\n",
      "page_content='13,500 14,500' metadata={'Header 1': '未滿 2 歲兒童托育補助問答集', 'Header 2': '新制規定', 'Header 3': '未滿 2 歲兒童托育補助發放金額？'}\n",
      "page_content='備註：\\n1.自112年起取消稅率未達20%之規定。' metadata={'Header 1': '未滿 2 歲兒童托育補助問答集', 'Header 2': '新制規定', 'Header 3': '未滿 2 歲兒童托育補助發放金額？'}\n",
      "page_content='2.中低收入戶、低收入戶，係指經直轄市、縣(市)政府依社會救助法審核認定。' metadata={'Header 1': '未滿 2 歲兒童托育補助問答集', 'Header 2': '新制規定', 'Header 3': '未滿 2 歲兒童托育補助發放金額？'}\n",
      "page_content='3.弱勢家庭係指：\\n(1)家有未滿2歲之發展遲緩或身心障礙幼兒之家庭。' metadata={'Header 1': '未滿 2 歲兒童托育補助問答集', 'Header 2': '新制規定', 'Header 3': '未滿 2 歲兒童托育補助發放金額？'}\n",
      "page_content='(2)特殊境遇家庭。\\n(3)經直轄市、縣(市)政府依法認定之弱勢家庭。' metadata={'Header 1': '未滿 2 歲兒童托育補助問答集', 'Header 2': '新制規定', 'Header 3': '未滿 2 歲兒童托育補助發放金額？'}\n",
      "page_content='一、 由申請人(父母雙方或監護人)提出下列文件：' metadata={'Header 1': '未滿 2 歲兒童托育補助問答集', 'Header 2': '申請程序', 'Header 3': '申請未滿 2 歲托育補助需準備哪些文件？'}\n",
      "page_content='(一)未滿二歲兒童托育準公共化服務費用申報表。' metadata={'Header 1': '未滿 2 歲兒童托育補助問答集', 'Header 2': '申請程序', 'Header 3': '申請未滿 2 歲托育補助需準備哪些文件？'}\n",
      "page_content='(二)申請人及兒童之身分證明文件。\\n(三)簽訂之托育服務契約書。' metadata={'Header 1': '未滿 2 歲兒童托育補助問答集', 'Header 2': '申請程序', 'Header 3': '申請未滿 2 歲托育補助需準備哪些文件？'}\n",
      "page_content='(四)申請人其中一方之郵局(或地方政府指定之金融機構)帳戶封面影本。' metadata={'Header 1': '未滿 2 歲兒童托育補助問答集', 'Header 2': '申請程序', 'Header 3': '申請未滿 2 歲托育補助需準備哪些文件？'}\n",
      "page_content='(五)其他證明文件（如：低收入戶、中低收入戶、第 2、3 名以上子女等）。' metadata={'Header 1': '未滿 2 歲兒童托育補助問答集', 'Header 2': '申請程序', 'Header 3': '申請未滿 2 歲托育補助需準備哪些文件？'}\n",
      "page_content='二、 提醒您，第 2 名以上(含)子女有加發補助，您可於申請時主動檢具第 2' metadata={'Header 1': '未滿 2 歲兒童托育補助問答集', 'Header 2': '申請程序', 'Header 3': '申請未滿 2 歲托育補助需準備哪些文件？'}\n",
      "page_content='2 名以上(含)子女證明文件，方便核定機關查調比對。' metadata={'Header 1': '未滿 2 歲兒童托育補助問答集', 'Header 2': '申請程序', 'Header 3': '申請未滿 2 歲托育補助需準備哪些文件？'}\n",
      "page_content='一、請檢具申請書及相關證明文件，於托育事實發生之日起 15 日內，' metadata={'Header 1': '未滿 2 歲兒童托育補助問答集', 'Header 2': '申請程序', 'Header 3': '未滿 2 歲托育補助要到哪裡申請？'}\n",
      "page_content='以「郵寄」或「親送」向托嬰中心或居家保母所屬之居家托育服務中心提出申請。' metadata={'Header 1': '未滿 2 歲兒童托育補助問答集', 'Header 2': '申請程序', 'Header 3': '未滿 2 歲托育補助要到哪裡申請？'}\n",
      "page_content='二、民眾如對重為核定結果有疑義，應自處分書送達之翌日起 30 日內，' metadata={'Header 1': '未滿 2 歲兒童托育補助問答集', 'Header 2': '申請程序', 'Header 3': '未滿 2 歲托育補助要到哪裡申請？'}\n",
      "page_content='30 日內， 檢具相關佐證資料，向核定機關提起申復。逾期提出申復者，不予受理。' metadata={'Header 1': '未滿 2 歲兒童托育補助問答集', 'Header 2': '申請程序', 'Header 3': '未滿 2 歲托育補助要到哪裡申請？'}\n",
      "page_content='一、兒童原本領取未滿2歲育兒津貼，如改送托與政府簽約的托嬰中心或居家保母' metadata={'Header 1': '未滿 2 歲兒童托育補助問答集', 'Header 2': '申請程序', 'Header 3': '兒童原本自己照顧並領取未滿 2 歲育兒津貼，後來改送托與政府簽約托嬰中心或居家托育人員(保母），或者原領托育補助改領育兒津貼，需要重新提出申請嗎？'}\n",
      "page_content='，請檢附相關文件由托嬰中心或居家托育服務中心代為申請托育補助' metadata={'Header 1': '未滿 2 歲兒童托育補助問答集', 'Header 2': '申請程序', 'Header 3': '兒童原本自己照顧並領取未滿 2 歲育兒津貼，後來改送托與政府簽約托嬰中心或居家托育人員(保母），或者原領托育補助改領育兒津貼，需要重新提出申請嗎？'}\n",
      "page_content='，並記得向兒童戶籍所在地鄉(鎮、市、區)公所取消原申領之育兒津貼' metadata={'Header 1': '未滿 2 歲兒童托育補助問答集', 'Header 2': '申請程序', 'Header 3': '兒童原本自己照顧並領取未滿 2 歲育兒津貼，後來改送托與政府簽約托嬰中心或居家托育人員(保母），或者原領托育補助改領育兒津貼，需要重新提出申請嗎？'}\n",
      "page_content='。' metadata={'Header 1': '未滿 2 歲兒童托育補助問答集', 'Header 2': '申請程序', 'Header 3': '兒童原本自己照顧並領取未滿 2 歲育兒津貼，後來改送托與政府簽約托嬰中心或居家托育人員(保母），或者原領托育補助改領育兒津貼，需要重新提出申請嗎？'}\n",
      "page_content='二、相反的，如果原本送托與政府簽約的托嬰中心或居家保母並領取托育補助者' metadata={'Header 1': '未滿 2 歲兒童托育補助問答集', 'Header 2': '申請程序', 'Header 3': '兒童原本自己照顧並領取未滿 2 歲育兒津貼，後來改送托與政府簽約托嬰中心或居家托育人員(保母），或者原領托育補助改領育兒津貼，需要重新提出申請嗎？'}\n",
      "page_content='，若改為自己(或親屬)照顧，也要記得向兒童戶籍所在地' metadata={'Header 1': '未滿 2 歲兒童托育補助問答集', 'Header 2': '申請程序', 'Header 3': '兒童原本自己照顧並領取未滿 2 歲育兒津貼，後來改送托與政府簽約托嬰中心或居家托育人員(保母），或者原領托育補助改領育兒津貼，需要重新提出申請嗎？'}\n",
      "page_content='鄉(鎮、市、區)公所提出申請育兒津貼。' metadata={'Header 1': '未滿 2 歲兒童托育補助問答集', 'Header 2': '申請程序', 'Header 3': '兒童原本自己照顧並領取未滿 2 歲育兒津貼，後來改送托與政府簽約托嬰中心或居家托育人員(保母），或者原領托育補助改領育兒津貼，需要重新提出申請嗎？'}\n",
      "page_content='如果正在領取未滿 2 歲托育補助，兒童滿 2 歲未滿 3' metadata={'Header 1': '未滿 2 歲兒童托育補助問答集', 'Header 2': '申請程序', 'Header 3': '正在領取衛福部未滿 2 歲托育補助，兒童滿 2 歲未滿 3 歲期間持續送托原托嬰中心或居家托育人員(保母)，是否仍可領取托育補助，還需要重新申請嗎？'}\n",
      "page_content='歲期間仍持續送托原托嬰中心、托育家園或居家保母，仍符合托育補助領取資格' metadata={'Header 1': '未滿 2 歲兒童托育補助問答集', 'Header 2': '申請程序', 'Header 3': '正在領取衛福部未滿 2 歲托育補助，兒童滿 2 歲未滿 3 歲期間持續送托原托嬰中心或居家托育人員(保母)，是否仍可領取托育補助，還需要重新申請嗎？'}\n",
      "page_content='，系統將持續發放托育補助，不須重新提出申請，以達便民效益' metadata={'Header 1': '未滿 2 歲兒童托育補助問答集', 'Header 2': '申請程序', 'Header 3': '正在領取衛福部未滿 2 歲托育補助，兒童滿 2 歲未滿 3 歲期間持續送托原托嬰中心或居家托育人員(保母)，是否仍可領取托育補助，還需要重新申請嗎？'}\n",
      "page_content='。' metadata={'Header 1': '未滿 2 歲兒童托育補助問答集', 'Header 2': '申請程序', 'Header 3': '正在領取衛福部未滿 2 歲托育補助，兒童滿 2 歲未滿 3 歲期間持續送托原托嬰中心或居家托育人員(保母)，是否仍可領取托育補助，還需要重新申請嗎？'}\n",
      "page_content='兒童送托對象有變更，如由居家保母變更為托嬰中心，或 A 托嬰中心變更至B' metadata={'Header 1': '未滿 2 歲兒童托育補助問答集', 'Header 2': '申請程序', 'Header 3': '兒童送托對象變更，需要重新提出申請嗎？'}\n",
      "page_content='托嬰中心，皆須重新提出申請，以利直轄市、縣(市)政府建檔及撥款。' metadata={'Header 1': '未滿 2 歲兒童托育補助問答集', 'Header 2': '申請程序', 'Header 3': '兒童送托對象變更，需要重新提出申請嗎？'}\n",
      "page_content='不論父母或監護人之國籍為何，只要兒童為我國籍並完成出生登記或初設戶籍登記' metadata={'Header 1': '未滿 2 歲兒童托育補助問答集', 'Header 2': '申請資格', 'Header 3': '兒童父母或監護人尚未取得我國國籍是否能提出申請？'}\n",
      "page_content='，其父母雙方或監護人就可提出申請' metadata={'Header 1': '未滿 2 歲兒童托育補助問答集', 'Header 2': '申請資格', 'Header 3': '兒童父母或監護人尚未取得我國國籍是否能提出申請？'}\n",
      "page_content='。' metadata={'Header 1': '未滿 2 歲兒童托育補助問答集', 'Header 2': '申請資格', 'Header 3': '兒童父母或監護人尚未取得我國國籍是否能提出申請？'}\n",
      "page_content='本補助發放對象，兒童應具有中華民國國籍且有送托事實，即具備托育補助請領資格' metadata={'Header 1': '未滿 2 歲兒童托育補助問答集', 'Header 2': '申請資格', 'Header 3': '兒童具有中華民國國籍，但未設戶籍，是否具備托育補助請領資格？'}\n",
      "page_content='，與其戶籍無涉' metadata={'Header 1': '未滿 2 歲兒童托育補助問答集', 'Header 2': '申請資格', 'Header 3': '兒童具有中華民國國籍，但未設戶籍，是否具備托育補助請領資格？'}\n",
      "page_content='。' metadata={'Header 1': '未滿 2 歲兒童托育補助問答集', 'Header 2': '申請資格', 'Header 3': '兒童具有中華民國國籍，但未設戶籍，是否具備托育補助請領資格？'}\n",
      "page_content='兒童之父母雙方、監護人具下表所列情況之一或其他特殊情形，未能實際照顧兒童者' metadata={'Header 1': '未滿 2 歲兒童托育補助問答集', 'Header 2': '申請資格', 'Header 3': '可否由實際照顧兒童之人提出申請'}\n",
      "page_content='，未能實際照顧兒童者，得由實際照顧兒童且與兒童共同居住之人提出申請：' metadata={'Header 1': '未滿 2 歲兒童托育補助問答集', 'Header 2': '申請資格', 'Header 3': '可否由實際照顧兒童之人提出申請'}\n",
      "page_content='| 情形 | 應備文件 |' metadata={'Header 1': '未滿 2 歲兒童托育補助問答集', 'Header 2': '申請資格', 'Header 3': '可否由實際照顧兒童之人提出申請'}\n",
      "page_content='| 父母一方失蹤，經向警察機關報案協尋未獲，達 6 個月以上 |' metadata={'Header 1': '未滿 2 歲兒童托育補助問答集', 'Header 2': '申請資格', 'Header 3': '可否由實際照顧兒童之人提出申請'}\n",
      "page_content='6 個月以上 | 警察受(處)理查詢人口案件登記表之收執聯影本 |' metadata={'Header 1': '未滿 2 歲兒童托育補助問答集', 'Header 2': '申請資格', 'Header 3': '可否由實際照顧兒童之人提出申請'}\n",
      "page_content='| 父母一方處一年以上之徒刑或受拘束人身自由之保安處分一年以上，且在執行中 |' metadata={'Header 1': '未滿 2 歲兒童托育補助問答集', 'Header 2': '申請資格', 'Header 3': '可否由實際照顧兒童之人提出申請'}\n",
      "page_content='| 保安處分處所執行證明、在監執行證明 |' metadata={'Header 1': '未滿 2 歲兒童托育補助問答集', 'Header 2': '申請資格', 'Header 3': '可否由實際照顧兒童之人提出申請'}\n",
      "page_content='| 有家庭暴力 |' metadata={'Header 1': '未滿 2 歲兒童托育補助問答集', 'Header 2': '申請資格', 'Header 3': '可否由實際照顧兒童之人提出申請'}\n",
      "page_content='| 家暴事件調查表影本、家庭暴力事件驗傷診斷書影本或暫時／通常保護令影本 |' metadata={'Header 1': '未滿 2 歲兒童托育補助問答集', 'Header 2': '申請資格', 'Header 3': '可否由實際照顧兒童之人提出申請'}\n",
      "page_content='| 其他變故或特殊情形 |' metadata={'Header 1': '未滿 2 歲兒童托育補助問答集', 'Header 2': '申請資格', 'Header 3': '可否由實際照顧兒童之人提出申請'}\n",
      "page_content='經社工或受理機關派員實際訪視，確認兒童之父母雙方或監護人未照顧幼兒' metadata={'Header 1': '未滿 2 歲兒童托育補助問答集', 'Header 2': '申請資格', 'Header 3': '可否由實際照顧兒童之人提出申請'}\n",
      "page_content='，且實際照顧者確實與兒童共同居住者，得由實際照顧者提出申請' metadata={'Header 1': '未滿 2 歲兒童托育補助問答集', 'Header 2': '申請資格', 'Header 3': '可否由實際照顧兒童之人提出申請'}\n",
      "page_content='|' metadata={'Header 1': '未滿 2 歲兒童托育補助問答集', 'Header 2': '申請資格', 'Header 3': '可否由實際照顧兒童之人提出申請'}\n",
      "page_content='繼父(母)如未收養該名兒童，則與該名兒童無血緣與法律之親子關係，因此' metadata={'Header 1': '未滿 2 歲兒童托育補助問答集', 'Header 2': '申請資格', 'Header 3': '申請人離異取得兒童監護權後再婚，繼父（母）與兒童戶籍並共同生活，但繼父母未收養該名兒童，得否以繼父母作為申請人？'}\n",
      "page_content='，因此，仍應由該名兒童之監護人提出申請為原則' metadata={'Header 1': '未滿 2 歲兒童托育補助問答集', 'Header 2': '申請資格', 'Header 3': '申請人離異取得兒童監護權後再婚，繼父（母）與兒童戶籍並共同生活，但繼父母未收養該名兒童，得否以繼父母作為申請人？'}\n",
      "page_content='。' metadata={'Header 1': '未滿 2 歲兒童托育補助問答集', 'Header 2': '申請資格', 'Header 3': '申請人離異取得兒童監護權後再婚，繼父（母）與兒童戶籍並共同生活，但繼父母未收養該名兒童，得否以繼父母作為申請人？'}\n",
      "page_content='一、視監護權歸屬決定由誰提出申請，有下列幾種情形：' metadata={'Header 1': '未滿 2 歲兒童托育補助問答集', 'Header 2': '申請資格', 'Header 3': '兒童父母離異，由誰提出申請？由何人領取補助？'}\n",
      "page_content='（一）未協議監護權或共同監護：由兒童的父母共同提出申請。' metadata={'Header 1': '未滿 2 歲兒童托育補助問答集', 'Header 2': '申請資格', 'Header 3': '兒童父母離異，由誰提出申請？由何人領取補助？'}\n",
      "page_content='（二）一方取得監護權：由取得監護權的父或母提出申請。' metadata={'Header 1': '未滿 2 歲兒童托育補助問答集', 'Header 2': '申請資格', 'Header 3': '兒童父母離異，由誰提出申請？由何人領取補助？'}\n",
      "page_content='二、本補助得經父母協議由其中一方提供撥款帳戶。' metadata={'Header 1': '未滿 2 歲兒童托育補助問答集', 'Header 2': '申請資格', 'Header 3': '兒童父母離異，由誰提出申請？由何人領取補助？'}\n",
      "page_content='一、第 2、3' metadata={'Header 1': '未滿 2 歲兒童托育補助問答集', 'Header 2': '資格認定', 'Header 3': '第 2、3 名以上子女如何認定？需要準備哪些文件？'}\n",
      "page_content='2、3 名以上子女，指戶籍登記為同一母親或父親，並依出生年月日排序計算之第' metadata={'Header 1': '未滿 2 歲兒童托育補助問答集', 'Header 2': '資格認定', 'Header 3': '第 2、3 名以上子女如何認定？需要準備哪些文件？'}\n",
      "page_content='2、3 名（含）以上子女。雙（多）胞胎者，依子女出生排序為第 2、3' metadata={'Header 1': '未滿 2 歲兒童托育補助問答集', 'Header 2': '資格認定', 'Header 3': '第 2、3 名以上子女如何認定？需要準備哪些文件？'}\n",
      "page_content='2、3 名（含）以上者。舉例說明：' metadata={'Header 1': '未滿 2 歲兒童托育補助問答集', 'Header 2': '資格認定', 'Header 3': '第 2、3 名以上子女如何認定？需要準備哪些文件？'}\n",
      "page_content='（一）胎次別為第2胎的雙胞胎兄弟，哥哥為第2名子女，弟弟為第3名子女。' metadata={'Header 1': '未滿 2 歲兒童托育補助問答集', 'Header 2': '資格認定', 'Header 3': '第 2、3 名以上子女如何認定？需要準備哪些文件？'}\n",
      "page_content='（二）胎次別為第1胎的3胞胎兄弟，最小的弟弟為第3名子女。' metadata={'Header 1': '未滿 2 歲兒童托育補助問答集', 'Header 2': '資格認定', 'Header 3': '第 2、3 名以上子女如何認定？需要準備哪些文件？'}\n",
      "page_content='（三）收養子女、再婚子女、同一父或母所生因故未於同一戶籍內，均列入排行計算。' metadata={'Header 1': '未滿 2 歲兒童托育補助問答集', 'Header 2': '資格認定', 'Header 3': '第 2、3 名以上子女如何認定？需要準備哪些文件？'}\n",
      "page_content='二、需準備文件：戶口名簿或其他足茲證明之相關文件。' metadata={'Header 1': '未滿 2 歲兒童托育補助問答集', 'Header 2': '資格認定', 'Header 3': '第 2、3 名以上子女如何認定？需要準備哪些文件？'}\n",
      "page_content='三、如為重組家庭情形，重組後之父母再生下共同之子女，則其原本' metadata={'Header 1': '未滿 2 歲兒童托育補助問答集', 'Header 2': '資格認定', 'Header 3': '第 2、3 名以上子女如何認定？需要準備哪些文件？'}\n",
      "page_content='各自之子女，得計入子女次序計算。舉例說明：' metadata={'Header 1': '未滿 2 歲兒童托育補助問答集', 'Header 2': '資格認定', 'Header 3': '第 2、3 名以上子女如何認定？需要準備哪些文件？'}\n",
      "page_content='D 母帶有一子甲、E' metadata={'Header 1': '未滿 2 歲兒童托育補助問答集', 'Header 2': '資格認定', 'Header 3': '第 2、3 名以上子女如何認定？需要準備哪些文件？'}\n",
      "page_content='父帶有一子乙，D、E再婚重組並生下丙，則得檢附證明文件，採認丙為 D、E' metadata={'Header 1': '未滿 2 歲兒童托育補助問答集', 'Header 2': '資格認定', 'Header 3': '第 2、3 名以上子女如何認定？需要準備哪些文件？'}\n",
      "page_content='共同照顧之第３名子女，甲及乙則依其出生年月日排序計算為第１名及第２名子女。' metadata={'Header 1': '未滿 2 歲兒童托育補助問答集', 'Header 2': '資格認定', 'Header 3': '第 2、3 名以上子女如何認定？需要準備哪些文件？'}\n",
      "page_content='一、「政府公費收容安置」是指兒童本人接受政府公費安置' metadata={'Header 1': '未滿 2 歲兒童托育補助問答集', 'Header 2': '資格認定', 'Header 3': '本要點十二、(三)所稱未經「政府公費安置收容」，所指為何?兒童隨母入監、隨照顧者接受緊急庇護所等公費安置，是否得申領托育補助？'}\n",
      "page_content='，安置於兒童及少年安置教養機構或寄養家庭等' metadata={'Header 1': '未滿 2 歲兒童托育補助問答集', 'Header 2': '資格認定', 'Header 3': '本要點十二、(三)所稱未經「政府公費安置收容」，所指為何?兒童隨母入監、隨照顧者接受緊急庇護所等公費安置，是否得申領托育補助？'}\n",
      "page_content='。' metadata={'Header 1': '未滿 2 歲兒童托育補助問答集', 'Header 2': '資格認定', 'Header 3': '本要點十二、(三)所稱未經「政府公費安置收容」，所指為何?兒童隨母入監、隨照顧者接受緊急庇護所等公費安置，是否得申領托育補助？'}\n",
      "page_content='二、父母入監或入住緊急庇護所，兒童隨父母安置，無送托事實，無法申領托育補助。' metadata={'Header 1': '未滿 2 歲兒童托育補助問答集', 'Header 2': '資格認定', 'Header 3': '本要點十二、(三)所稱未經「政府公費安置收容」，所指為何?兒童隨母入監、隨照顧者接受緊急庇護所等公費安置，是否得申領托育補助？'}\n",
      "page_content='托育補助的核定以月為單位，送托日數超過半個月未滿一個月者' metadata={'Header 1': '未滿 2 歲兒童托育補助問答集', 'Header 2': '發放規定', 'Header 3': '托育補助的發放金額如何計算？(作業要點第 16 點)'}\n",
      "page_content='，以一個月計；半個月以下者，以半個月計' metadata={'Header 1': '未滿 2 歲兒童托育補助問答集', 'Header 2': '發放規定', 'Header 3': '托育補助的發放金額如何計算？(作業要點第 16 點)'}\n",
      "page_content='。若實際支付托育費用低於補助金額者，核實補助。' metadata={'Header 1': '未滿 2 歲兒童托育補助問答集', 'Header 2': '發放規定', 'Header 3': '托育補助的發放金額如何計算？(作業要點第 16 點)'}\n",
      "page_content='為給予父母準備托育補助申請資料時間，明定 15' metadata={'Header 1': '未滿 2 歲兒童托育補助問答集', 'Header 2': '發放規定', 'Header 3': '因故未能於送托日起 15 日內申請托育補助，可以追溯自送托日起算發給嗎？(申領作業要點第 14 點)'}\n",
      "page_content='15 日之緩衝期，如於托育事實發生之日起 15' metadata={'Header 1': '未滿 2 歲兒童托育補助問答集', 'Header 2': '發放規定', 'Header 3': '因故未能於送托日起 15 日內申請托育補助，可以追溯自送托日起算發給嗎？(申領作業要點第 14 點)'}\n",
      "page_content='15 日內備齊相關資料提出申請者，其核定日期自托育事實發生之日起算；超過 15' metadata={'Header 1': '未滿 2 歲兒童托育補助問答集', 'Header 2': '發放規定', 'Header 3': '因故未能於送托日起 15 日內申請托育補助，可以追溯自送托日起算發給嗎？(申領作業要點第 14 點)'}\n",
      "page_content='15 日者，以資料備齊送達之日起算。' metadata={'Header 1': '未滿 2 歲兒童托育補助問答集', 'Header 2': '發放規定', 'Header 3': '因故未能於送托日起 15 日內申請托育補助，可以追溯自送托日起算發給嗎？(申領作業要點第 14 點)'}\n",
      "page_content='一、托嬰中心、托育家園' metadata={'Header 1': '未滿 2 歲兒童托育補助問答集', 'Header 2': '進度查詢', 'Header 3': '申請後多久可以領到津貼？如何知道審核進度?'}\n",
      "page_content='、托育家園、居家托育服務中心應於申請人備齊文件之日起五個工作日內完成初審' metadata={'Header 1': '未滿 2 歲兒童托育補助問答集', 'Header 2': '進度查詢', 'Header 3': '申請後多久可以領到津貼？如何知道審核進度?'}\n",
      "page_content='，並送交直轄市、縣(市)政府複審核定後，' metadata={'Header 1': '未滿 2 歲兒童托育補助問答集', 'Header 2': '進度查詢', 'Header 3': '申請後多久可以領到津貼？如何知道審核進度?'}\n",
      "page_content='按月撥入申請人指定金融帳戶。' metadata={'Header 1': '未滿 2 歲兒童托育補助問答集', 'Header 2': '進度查詢', 'Header 3': '申請後多久可以領到津貼？如何知道審核進度?'}\n",
      "page_content='二、可向送托之縣(市)政府社會局（處）查詢。' metadata={'Header 1': '未滿 2 歲兒童托育補助問答集', 'Header 2': '進度查詢', 'Header 3': '申請後多久可以領到津貼？如何知道審核進度?'}\n",
      "page_content='一、各地方政府社會局（處）。' metadata={'Header 1': '未滿 2 歲兒童托育補助問答集', 'Header 2': '進度查詢', 'Header 3': '有相關問題，可以到哪裡詢問？'}\n",
      "page_content='二、衛生福利部「1957 福利諮詢專線」(每天早上 8 點至晚上 10 點)。' metadata={'Header 1': '未滿 2 歲兒童托育補助問答集', 'Header 2': '進度查詢', 'Header 3': '有相關問題，可以到哪裡詢問？'}\n"
     ]
    }
   ],
   "source": [
    "text_splitter = RecursiveCharacterTextSplitter(\n",
    "    chunk_size=40,\n",
    "    chunk_overlap=10,\n",
    "    separators=[\n",
    "        \"\\n\\n\",\n",
    "        \"\\n\",\n",
    "        \" \",\n",
    "        \"。\",\n",
    "        \"，\",\n",
    "        \"\\u200b\",  # Zero-width space\n",
    "        \"\\uff0c\",  # Fullwidth comma\n",
    "        \"\\u3001\",  # Ideographic comma\n",
    "        \"\\uff0e\",  # Fullwidth full stop\n",
    "        \"\\u3002\",  # Ideographic full stop\n",
    "        \"\",\n",
    "    ],\n",
    ")\n",
    "chunked_documents = text_splitter.split_documents(md_splits)\n",
    "print(f\"\\nchunked_documents len: {len(chunked_documents)}\")\n",
    "for chunk in chunked_documents:\n",
    "    print(chunk)\n"
   ]
  },
  {
   "cell_type": "markdown",
   "metadata": {},
   "source": [
    "## Build Retriever"
   ]
  },
  {
   "cell_type": "code",
   "execution_count": 7,
   "metadata": {},
   "outputs": [
    {
     "name": "stdout",
     "output_type": "stream",
     "text": [
      "\n",
      "time: 7.94s\n",
      "\n"
     ]
    }
   ],
   "source": [
    "start_time = time.time()\n",
    "\n",
    "sentence_transformer_model_root = \"../sentence_transformer_model\"\n",
    "sentence_transformer_model = \"multi-qa-mpnet-base-dot-v1\"\n",
    "\n",
    "# Load chunked documents into the Qdrant index\n",
    "db = Qdrant.from_documents(\n",
    "    chunked_documents,\n",
    "    HuggingFaceEmbeddings(model_name=os.path.join(\n",
    "            sentence_transformer_model_root, sentence_transformer_model\n",
    "        )),\n",
    "    location=\":memory:\", # Local mode with in-memory storage only\n",
    ")\n",
    "\n",
    "retriever = db.as_retriever(search_type=\"mmr\")\n",
    "retrieval_chain = RetrievalQA.from_llm(llm=huggingFacePipeline, retriever=retriever)\n",
    "\n",
    "print(\"\\ntime: %.2fs\\n\" % (time.time() - start_time))\n"
   ]
  },
  {
   "cell_type": "markdown",
   "metadata": {},
   "source": [
    "## Ask LLM"
   ]
  },
  {
   "cell_type": "code",
   "execution_count": 8,
   "metadata": {},
   "outputs": [
    {
     "name": "stderr",
     "output_type": "stream",
     "text": [
      "e:\\dev\\auray\\.venv\\Lib\\site-packages\\transformers\\models\\mistral\\modeling_mistral.py:674: UserWarning: 1Torch was not compiled with flash attention. (Triggered internally at ..\\aten\\src\\ATen\\native\\transformers\\cuda\\sdp_utils.cpp:455.)\n",
      "  attn_output = torch.nn.functional.scaled_dot_product_attention(\n"
     ]
    },
    {
     "name": "stdout",
     "output_type": "stream",
     "text": [
      "為申請未滿 2 歲托育補助，需要準備以下文件：1. 名下房屋及土地所有權狀或租賃契約、1. 家庭生活支出明細、1. 全戶人口最新戶口資料、1. 家長工作證明或收入證明、1. 低收入戶證明 (如有)。</s>\n",
      "response: {'query': '申請未滿 2 歲托育補助需準備哪些文件？', 'result': \"Use the following pieces of context to answer the question at the end. If you don't know the answer, just say that you don't know, don't try to make up an answer.\\n\\nContext:\\n| 情形 | 應備文件 |\\n\\nContext:\\n如果正在領取未滿 2 歲托育補助，兒童滿 2 歲未滿 3\\n\\nContext:\\n2 名以上(含)子女證明文件，方便核定機關查調比對。\\n\\nContext:\\n低收入戶\\n\\nQuestion: 申請未滿 2 歲托育補助需準備哪些文件？\\nHelpful Answer: 為申請未滿 2 歲托育補助，需要準備以下文件：1. 名下房屋及土地所有權狀或租賃契約、1. 家庭生活支出明細、1. 全戶人口最新戶口資料、1. 家長工作證明或收入證明、1. 低收入戶證明 (如有)。\"}\n",
      "\n",
      "Inference time: 27.65s\n",
      "\n"
     ]
    }
   ],
   "source": [
    "query = f\"申請未滿 2 歲托育補助需準備哪些文件？\"\n",
    "\n",
    "start_time = time.time()\n",
    "response = retrieval_chain.invoke(query)\n",
    "\n",
    "# Extract only the necessary part from the response\n",
    "# start_idx = response.find(\"Helpful Answer: \")\n",
    "# if start_idx != -1:\n",
    "#     response = response[start_idx + len(\"Helpful Answer: \") :]\n",
    "\n",
    "print(f\"response: {response}\")\n",
    "print(\"\\nInference time: %.2fs\\n\" % (time.time() - start_time))"
   ]
  }
 ],
 "metadata": {
  "kernelspec": {
   "display_name": ".venv",
   "language": "python",
   "name": "python3"
  },
  "language_info": {
   "codemirror_mode": {
    "name": "ipython",
    "version": 3
   },
   "file_extension": ".py",
   "mimetype": "text/x-python",
   "name": "python",
   "nbconvert_exporter": "python",
   "pygments_lexer": "ipython3",
   "version": "3.11.7"
  }
 },
 "nbformat": 4,
 "nbformat_minor": 2
}
