{
 "cells": [
  {
   "cell_type": "code",
   "execution_count": 49,
   "metadata": {},
   "outputs": [
    {
     "name": "stdout",
     "output_type": "stream",
     "text": [
      "page_content='例4.家庭中之父母於裝置上為其子女建立帳戶，選擇並管理子女所使用的PIN或通行碼。父母係裝置管理者，可限制子女變更PIN或通行碼。備考1. 預期製造者將實施適當維護產品中使用之所有軟體及硬體，此包括適當維護及提供相關聯服務所選定的第三方，以支援產品功能。' metadata={'source': 'docs/test.md', 'last_modified': '2024-07-15T23:40:04', 'languages': ['kor'], 'filetype': 'text/markdown', 'file_directory': 'docs', 'filename': 'test.md', 'category': 'UncategorizedText'}\n",
      "【cat: UncategorizedText】\n",
      "\n",
      "例4.家庭中之父母於裝置上為其子女建立帳戶，選擇並管理子女所使用的PIN或通行碼。父母係裝置管理者，可限制子女變更PIN或通行碼。備考1. 預期製造者將實施適當維護產品中使用之所有軟體及硬體，此包括適\n",
      "---\n",
      "page_content='軟體解決方案通常包含開放原始碼及第三方軟體組件。建立並維護所有軟體組件及其子組件之列表，係能監視產品脆弱性的先決條件。存在各種工具用以掃描原始碼及二進碼，並構建所謂軟體組成清單(SBOM)，其可識別第三方組件及產品中所使用的版本。然後，此資訊用以監視各已識別軟體組件之相關聯安全及使用授權的風險。' metadata={'source': 'docs/test.md', 'last_modified': '2024-07-15T23:40:04', 'languages': ['kor'], 'filetype': 'text/markdown', 'file_directory': 'docs', 'filename': 'test.md', 'category': 'UncategorizedText'}\n",
      "【cat: UncategorizedText】\n",
      "\n",
      "軟體解決方案通常包含開放原始碼及第三方軟體組件。建立並維護所有軟體組件及其子組件之列表，係能監視產品脆弱性的先決條件。存在各種工具用以掃描原始碼及二進碼，並構建所謂軟體組成清單(SBOM)，其可識別第\n",
      "---\n",
      "page_content='預期脆弱性將於第一時間直接報告受影響之利害相關者。若不可能，可將脆弱性報告主管機關。亦鼓勵製造者與諸如GSMA 及IoT安全基金會等權責產業機構共享資訊。協調脆弱性揭露之指引，可查詢參引ISO/IEC29147[4]之IoT安全基金會[22]。' metadata={'source': 'docs/test.md', 'last_modified': '2024-07-15T23:40:04', 'languages': ['kor'], 'filetype': 'text/markdown', 'file_directory': 'docs', 'filename': 'test.md', 'category': 'NarrativeText'}\n",
      "【cat: NarrativeText】\n",
      "\n",
      "預期脆弱性將於第一時間直接報告受影響之利害相關者。若不可能，可將脆弱性報告主管機關。亦鼓勵製造者與諸如GSMA 及IoT安全基金會等權責產業機構共享資訊。協調脆弱性揭露之指引，可查詢參引ISO/IEC\n",
      "---\n",
      "page_content='預期於其所定義支援期間內，對裝置執行此運作。然而製造者可於該期間外繼續執行此運作並發布安全更新，以矯正脆弱性。' metadata={'source': 'docs/test.md', 'category_depth': 0, 'last_modified': '2024-07-15T23:40:04', 'languages': ['kor'], 'filetype': 'text/markdown', 'file_directory': 'docs', 'filename': 'test.md', 'category': 'Title'}\n",
      "【cat: Title】\n",
      "\n",
      "預期於其所定義支援期間內，對裝置執行此運作。然而製造者可於該期間外繼續執行此運作並發布安全更新，以矯正脆弱性。\n",
      "---\n",
      "page_content='提供IoT產品之製造者有責任維護，可能因未備妥CVD計畫而受傷害的消費者及第三方。此外，透過產業機構共享此資訊之公司，可協助其他可能遭受相同問題的困擾者。' metadata={'source': 'docs/test.md', 'category_depth': 0, 'last_modified': '2024-07-15T23:40:04', 'languages': ['kor'], 'filetype': 'text/markdown', 'file_directory': 'docs', 'filename': 'test.md', 'category': 'Title'}\n",
      "【cat: Title】\n",
      "\n",
      "提供IoT產品之製造者有責任維護，可能因未備妥CVD計畫而受傷害的消費者及第三方。此外，透過產業機構共享此資訊之公司，可協助其他可能遭受相同問題的困擾者。\n",
      "---\n",
      "page_content='依情況而定，揭露可包括不同作法：' metadata={'source': 'docs/test.md', 'category_depth': 0, 'last_modified': '2024-07-15T23:40:04', 'languages': ['kor'], 'filetype': 'text/markdown', 'file_directory': 'docs', 'filename': 'test.md', 'category': 'Title'}\n",
      "【cat: Title】\n",
      "\n",
      "依情況而定，揭露可包括不同作法：\n",
      "---\n",
      "page_content='與單一產品或服務相關之脆弱性：預期問題將直接報告受影響的利害相關者(通常為裝置製造者、IoT服務提供者或行動應用程式開發者)。此等報告之來源可為安全研究者或產業同儕。' metadata={'source': 'docs/test.md', 'category_depth': 1, 'last_modified': '2024-07-15T23:40:04', 'languages': ['kor'], 'parent_id': 'adb6fc557f5a2f0df48a25ba6da6af33', 'filetype': 'text/markdown', 'file_directory': 'docs', 'filename': 'test.md', 'category': 'ListItem'}\n",
      "【cat: ListItem】\n",
      "\n",
      "與單一產品或服務相關之脆弱性：預期問題將直接報告受影響的利害相關者(通常為裝置製造者、IoT服務提供者或行動應用程式開發者)。此等報告之來源可為安全研究者或產業同儕。\n",
      "---\n",
      "page_content='系統性脆弱性：利害相關者(諸如裝置製造者)可發現潛在系統性問題。雖於裝置製造者自己之產品中對其修復至關重要，然共享此等資訊對產業及消費者有重大利益。同樣，安全研究者亦可尋求報告此種系統性脆弱性。對系統性脆弱性，相關之權責產業機構可協調更廣泛的回應。' metadata={'source': 'docs/test.md', 'category_depth': 1, 'last_modified': '2024-07-15T23:40:04', 'languages': ['kor'], 'parent_id': 'adb6fc557f5a2f0df48a25ba6da6af33', 'filetype': 'text/markdown', 'file_directory': 'docs', 'filename': 'test.md', 'category': 'ListItem'}\n",
      "【cat: ListItem】\n",
      "\n",
      "系統性脆弱性：利害相關者(諸如裝置製造者)可發現潛在系統性問題。雖於裝置製造者自己之產品中對其修復至關重要，然共享此等資訊對產業及消費者有重大利益。同樣，安全研究者亦可尋求報告此種系統性脆弱性。對系統\n",
      "---\n",
      "page_content='備考2. 通用脆弱性報告框架(CVRF)[5]用以交換有關安全脆弱性之資訊亦屬有用。' metadata={'source': 'docs/test.md', 'last_modified': '2024-07-15T23:40:04', 'languages': ['kor'], 'parent_id': 'adb6fc557f5a2f0df48a25ba6da6af33', 'filetype': 'text/markdown', 'file_directory': 'docs', 'filename': 'test.md', 'category': 'UncategorizedText'}\n",
      "【cat: UncategorizedText】\n",
      "\n",
      "備考2. 通用脆弱性報告框架(CVRF)[5]用以交換有關安全脆弱性之資訊亦屬有用。\n",
      "---\n",
      "page_content='網宇安全威脅資訊共享可依ETSITR103331[6]於開發及生產安全產品中支援組織。' metadata={'source': 'docs/test.md', 'last_modified': '2024-07-15T23:40:04', 'languages': ['kor', 'zho'], 'parent_id': 'adb6fc557f5a2f0df48a25ba6da6af33', 'filetype': 'text/markdown', 'file_directory': 'docs', 'filename': 'test.md', 'category': 'UncategorizedText'}\n",
      "【cat: UncategorizedText】\n",
      "\n",
      "網宇安全威脅資訊共享可依ETSITR103331[6]於開發及生產安全產品中支援組織。\n",
      "---\n"
     ]
    }
   ],
   "source": [
    "from langchain.document_loaders import UnstructuredMarkdownLoader\n",
    "\n",
    "loader = UnstructuredMarkdownLoader(\n",
    "    \"docs/test.md\", mode=\"elements\", languages=[\"zh\"], detect_language_per_element=True\n",
    ")\n",
    "data = loader.load()\n",
    "\n",
    "for doc in data:\n",
    "    print(doc)\n",
    "    print(f\"【cat: {doc.metadata['category']}】\\n\")\n",
    "    print(doc.page_content[:100])\n",
    "    print(\"---\")\n"
   ]
  }
 ],
 "metadata": {
  "kernelspec": {
   "display_name": ".venv",
   "language": "python",
   "name": "python3"
  },
  "language_info": {
   "codemirror_mode": {
    "name": "ipython",
    "version": 3
   },
   "file_extension": ".py",
   "mimetype": "text/x-python",
   "name": "python",
   "nbconvert_exporter": "python",
   "pygments_lexer": "ipython3",
   "version": "3.11.7"
  }
 },
 "nbformat": 4,
 "nbformat_minor": 2
}
