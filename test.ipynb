{
 "cells": [
  {
   "cell_type": "code",
   "execution_count": 1,
   "metadata": {},
   "outputs": [
    {
     "name": "stdout",
     "output_type": "stream",
     "text": [
      "tensor([-8.1838,  5.2650])\n"
     ]
    }
   ],
   "source": [
    "import torch\n",
    "from transformers import AutoModelForSequenceClassification, AutoTokenizer\n",
    "\n",
    "tokenizer = AutoTokenizer.from_pretrained(\n",
    "    \"BAAI/bge-reranker-v2-m3\", cache_dir=\"rerank_model\"\n",
    ")\n",
    "model = AutoModelForSequenceClassification.from_pretrained(\n",
    "    \"BAAI/bge-reranker-v2-m3\", cache_dir=\"rerank_model\"\n",
    ")\n",
    "model.eval()\n",
    "\n",
    "pairs = [\n",
    "    [\"what is panda?\", \"hi\"],\n",
    "    [\n",
    "        \"what is panda?\",\n",
    "        \"The giant panda (Ailuropoda melanoleuca), sometimes called a panda bear or simply panda, is a bear species endemic to China.\",\n",
    "    ],\n",
    "]\n",
    "with torch.no_grad():\n",
    "    inputs = tokenizer(\n",
    "        pairs, padding=True, truncation=True, return_tensors=\"pt\", max_length=512\n",
    "    )\n",
    "    scores = (\n",
    "        model(**inputs, return_dict=True)\n",
    "        .logits.view(\n",
    "            -1,\n",
    "        )\n",
    "        .float()\n",
    "    )\n",
    "    print(scores)"
   ]
  }
 ],
 "metadata": {
  "kernelspec": {
   "display_name": ".venv",
   "language": "python",
   "name": "python3"
  },
  "language_info": {
   "codemirror_mode": {
    "name": "ipython",
    "version": 3
   },
   "file_extension": ".py",
   "mimetype": "text/x-python",
   "name": "python",
   "nbconvert_exporter": "python",
   "pygments_lexer": "ipython3",
   "version": "3.11.8"
  }
 },
 "nbformat": 4,
 "nbformat_minor": 2
}
